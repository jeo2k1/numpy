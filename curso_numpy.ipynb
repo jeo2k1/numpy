{
  "nbformat": 4,
  "nbformat_minor": 0,
  "metadata": {
    "colab": {
      "provenance": [],
      "authorship_tag": "ABX9TyO7jI4CUDuFGHL171H+8czP",
      "include_colab_link": true
    },
    "kernelspec": {
      "name": "python3",
      "display_name": "Python 3"
    },
    "language_info": {
      "name": "python"
    }
  },
  "cells": [
    {
      "cell_type": "markdown",
      "metadata": {
        "id": "view-in-github",
        "colab_type": "text"
      },
      "source": [
        "<a href=\"https://colab.research.google.com/github/jeo2k1/numpy/blob/main/curso_numpy.ipynb\" target=\"_parent\"><img src=\"https://colab.research.google.com/assets/colab-badge.svg\" alt=\"Open In Colab\"/></a>"
      ]
    },
    {
      "cell_type": "markdown",
      "source": [
        "#Numpy Libreria para Ciencia de Datos"
      ],
      "metadata": {
        "id": "KXoUuWyXek9K"
      }
    },
    {
      "cell_type": "code",
      "execution_count": 1,
      "metadata": {
        "id": "O7UhfQVYeiC2"
      },
      "outputs": [],
      "source": [
        "import numpy as np"
      ]
    },
    {
      "cell_type": "code",
      "source": [
        "array_1d=np.array([1,4,3])\n"
      ],
      "metadata": {
        "id": "1S-OcmEgieYJ"
      },
      "execution_count": 2,
      "outputs": []
    },
    {
      "cell_type": "code",
      "source": [
        "array_1d"
      ],
      "metadata": {
        "colab": {
          "base_uri": "https://localhost:8080/"
        },
        "id": "ZFdUnoLHjMBJ",
        "outputId": "c91974e5-6b8a-4be6-e6cc-a806dd71d7f4"
      },
      "execution_count": 3,
      "outputs": [
        {
          "output_type": "execute_result",
          "data": {
            "text/plain": [
              "array([1, 4, 3])"
            ]
          },
          "metadata": {},
          "execution_count": 3
        }
      ]
    },
    {
      "cell_type": "code",
      "source": [
        "array_2d=np.array([(1,4,2),(5,2,3)])\n",
        "array_2d"
      ],
      "metadata": {
        "colab": {
          "base_uri": "https://localhost:8080/"
        },
        "id": "R_mAcxiOjapg",
        "outputId": "0645c0ed-05ee-42b3-c5a1-075ad86aa86e"
      },
      "execution_count": 4,
      "outputs": [
        {
          "output_type": "execute_result",
          "data": {
            "text/plain": [
              "array([[1, 4, 2],\n",
              "       [5, 2, 3]])"
            ]
          },
          "metadata": {},
          "execution_count": 4
        }
      ]
    },
    {
      "cell_type": "code",
      "source": [
        "array_3d=np.array([[(1.6,4.5,2),(1,5.8,9)],[(7,5,9.3),(8,1.4,3)],[(3,5,3),(7,2,9)]],dtype=float)\n",
        "array_3d"
      ],
      "metadata": {
        "colab": {
          "base_uri": "https://localhost:8080/"
        },
        "id": "ouyBnL38jxfL",
        "outputId": "6e96ff62-1d9a-4479-c1bd-762edaace860"
      },
      "execution_count": 5,
      "outputs": [
        {
          "output_type": "execute_result",
          "data": {
            "text/plain": [
              "array([[[1.6, 4.5, 2. ],\n",
              "        [1. , 5.8, 9. ]],\n",
              "\n",
              "       [[7. , 5. , 9.3],\n",
              "        [8. , 1.4, 3. ]],\n",
              "\n",
              "       [[3. , 5. , 3. ],\n",
              "        [7. , 2. , 9. ]]])"
            ]
          },
          "metadata": {},
          "execution_count": 5
        }
      ]
    },
    {
      "cell_type": "markdown",
      "source": [
        "# Creando Arrays"
      ],
      "metadata": {
        "id": "8plVfTheBqj5"
      }
    },
    {
      "cell_type": "code",
      "source": [
        "# de ceros con 3 filas 4 columnas\n",
        "array_ceros=np.zeros((3,4))\n",
        "array_ceros"
      ],
      "metadata": {
        "id": "qtd65UI3lMO-",
        "colab": {
          "base_uri": "https://localhost:8080/"
        },
        "outputId": "f754a5fd-4446-440d-ad88-f45b277aec0a"
      },
      "execution_count": 6,
      "outputs": [
        {
          "output_type": "execute_result",
          "data": {
            "text/plain": [
              "array([[0., 0., 0., 0.],\n",
              "       [0., 0., 0., 0.],\n",
              "       [0., 0., 0., 0.]])"
            ]
          },
          "metadata": {},
          "execution_count": 6
        }
      ]
    },
    {
      "cell_type": "code",
      "source": [
        "# de unos con 2 dimensiones 4 filas y 5 columnas\n",
        "np.ones((2,4,5))"
      ],
      "metadata": {
        "colab": {
          "base_uri": "https://localhost:8080/"
        },
        "id": "bfpkH-EqIvzL",
        "outputId": "bf080965-cee9-4001-edd6-10d31bf59595"
      },
      "execution_count": 7,
      "outputs": [
        {
          "output_type": "execute_result",
          "data": {
            "text/plain": [
              "array([[[1., 1., 1., 1., 1.],\n",
              "        [1., 1., 1., 1., 1.],\n",
              "        [1., 1., 1., 1., 1.],\n",
              "        [1., 1., 1., 1., 1.]],\n",
              "\n",
              "       [[1., 1., 1., 1., 1.],\n",
              "        [1., 1., 1., 1., 1.],\n",
              "        [1., 1., 1., 1., 1.],\n",
              "        [1., 1., 1., 1., 1.]]])"
            ]
          },
          "metadata": {},
          "execution_count": 7
        }
      ]
    },
    {
      "cell_type": "code",
      "source": [
        "# intervalos y saltos\n",
        "np.arange(12,30,2)"
      ],
      "metadata": {
        "colab": {
          "base_uri": "https://localhost:8080/"
        },
        "id": "aHmj-yGNRS6G",
        "outputId": "66a7341a-2ad4-49d5-f696-4062682137f7"
      },
      "execution_count": 8,
      "outputs": [
        {
          "output_type": "execute_result",
          "data": {
            "text/plain": [
              "array([12, 14, 16, 18, 20, 22, 24, 26, 28])"
            ]
          },
          "metadata": {},
          "execution_count": 8
        }
      ]
    },
    {
      "cell_type": "code",
      "source": [
        "# intervalo y divisiones\n",
        "np.linspace(0,4,7)"
      ],
      "metadata": {
        "colab": {
          "base_uri": "https://localhost:8080/"
        },
        "id": "-gaeFN0DRZkh",
        "outputId": "fe2db3ea-71bc-44d8-9af4-4e28b68b50e0"
      },
      "execution_count": 9,
      "outputs": [
        {
          "output_type": "execute_result",
          "data": {
            "text/plain": [
              "array([0.        , 0.66666667, 1.33333333, 2.        , 2.66666667,\n",
              "       3.33333333, 4.        ])"
            ]
          },
          "metadata": {},
          "execution_count": 9
        }
      ]
    },
    {
      "cell_type": "code",
      "source": [
        "#Valor dado\n",
        "np.full((3,3),8)"
      ],
      "metadata": {
        "id": "T2RU9IrRRyUV",
        "colab": {
          "base_uri": "https://localhost:8080/"
        },
        "outputId": "b8eb6c2c-2ba6-4300-da18-59ac1c02c755"
      },
      "execution_count": 10,
      "outputs": [
        {
          "output_type": "execute_result",
          "data": {
            "text/plain": [
              "array([[8, 8, 8],\n",
              "       [8, 8, 8],\n",
              "       [8, 8, 8]])"
            ]
          },
          "metadata": {},
          "execution_count": 10
        }
      ]
    },
    {
      "cell_type": "code",
      "source": [
        "#Matriz identidad, diagonal de unos\n",
        "np.eye(3)"
      ],
      "metadata": {
        "colab": {
          "base_uri": "https://localhost:8080/"
        },
        "id": "M-JYiq4AnGuM",
        "outputId": "66020b6a-461e-4518-9255-8c0db9ed7ece"
      },
      "execution_count": 11,
      "outputs": [
        {
          "output_type": "execute_result",
          "data": {
            "text/plain": [
              "array([[1., 0., 0.],\n",
              "       [0., 1., 0.],\n",
              "       [0., 0., 1.]])"
            ]
          },
          "metadata": {},
          "execution_count": 11
        }
      ]
    },
    {
      "cell_type": "code",
      "source": [
        "#Valores aleatorios entre 0 y 1\n",
        "np.random.random((4,4))"
      ],
      "metadata": {
        "colab": {
          "base_uri": "https://localhost:8080/"
        },
        "id": "9VybHHdRnU06",
        "outputId": "fcbf9b96-dbb9-4a13-da15-d32c54f28039"
      },
      "execution_count": 12,
      "outputs": [
        {
          "output_type": "execute_result",
          "data": {
            "text/plain": [
              "array([[0.81772494, 0.97006524, 0.17253514, 0.18918618],\n",
              "       [0.31868845, 0.75439197, 0.00278827, 0.58939745],\n",
              "       [0.33164112, 0.07180006, 0.65633579, 0.86018637],\n",
              "       [0.23756267, 0.21832474, 0.08287368, 0.43434594]])"
            ]
          },
          "metadata": {},
          "execution_count": 12
        }
      ]
    },
    {
      "cell_type": "code",
      "source": [
        "#Vacio de 4 filas y 3 columnas\n",
        "np.empty((4,3))"
      ],
      "metadata": {
        "colab": {
          "base_uri": "https://localhost:8080/"
        },
        "id": "geP4YC1MngX2",
        "outputId": "2a5e6501-fac8-4f99-f938-8712e97f6f23"
      },
      "execution_count": 13,
      "outputs": [
        {
          "output_type": "execute_result",
          "data": {
            "text/plain": [
              "array([[0., 0., 0.],\n",
              "       [0., 0., 0.],\n",
              "       [0., 0., 0.],\n",
              "       [0., 0., 0.]])"
            ]
          },
          "metadata": {},
          "execution_count": 13
        }
      ]
    },
    {
      "cell_type": "markdown",
      "source": [
        "#Grabar y cargar"
      ],
      "metadata": {
        "id": "1lAmI-CyuDUR"
      }
    },
    {
      "cell_type": "code",
      "source": [
        "#Grabar\n",
        "#np.save('mi_array', np.random.random((3,3)))\n",
        "np.save('mi_array_3d', array_3d)"
      ],
      "metadata": {
        "id": "wM1kGCmHns5z"
      },
      "execution_count": 14,
      "outputs": []
    },
    {
      "cell_type": "code",
      "source": [
        "#Cargar\n",
        "mi_array=np.load('mi_array_3d.npy')\n",
        "mi_array"
      ],
      "metadata": {
        "colab": {
          "base_uri": "https://localhost:8080/"
        },
        "id": "SWHquOknuTp2",
        "outputId": "11a662cc-7153-41fd-d3b8-0bb1ccb6611a"
      },
      "execution_count": 15,
      "outputs": [
        {
          "output_type": "execute_result",
          "data": {
            "text/plain": [
              "array([[[1.6, 4.5, 2. ],\n",
              "        [1. , 5.8, 9. ]],\n",
              "\n",
              "       [[7. , 5. , 9.3],\n",
              "        [8. , 1.4, 3. ]],\n",
              "\n",
              "       [[3. , 5. , 3. ],\n",
              "        [7. , 2. , 9. ]]])"
            ]
          },
          "metadata": {},
          "execution_count": 15
        }
      ]
    },
    {
      "cell_type": "code",
      "source": [
        "#Grabar a fichero de texto\n",
        "np.savetxt('mi_array.txt',array_2d,delimiter=\" \")"
      ],
      "metadata": {
        "id": "uDiBzapKuhtd"
      },
      "execution_count": 16,
      "outputs": []
    },
    {
      "cell_type": "code",
      "source": [
        "#Cargar de fichero de texto\n",
        "array_2d=np.loadtxt('mi_array.txt')\n",
        "array_2d"
      ],
      "metadata": {
        "colab": {
          "base_uri": "https://localhost:8080/"
        },
        "id": "Pb7Kc0Zmw3tg",
        "outputId": "0b96d488-e8a2-4fb3-8aa0-6760b6e6f15c"
      },
      "execution_count": 17,
      "outputs": [
        {
          "output_type": "execute_result",
          "data": {
            "text/plain": [
              "array([[1., 4., 2.],\n",
              "       [5., 2., 3.]])"
            ]
          },
          "metadata": {},
          "execution_count": 17
        }
      ]
    },
    {
      "cell_type": "markdown",
      "source": [
        "#Tipo de datos"
      ],
      "metadata": {
        "id": "RqJKzkpqCLtZ"
      }
    },
    {
      "cell_type": "code",
      "source": [
        "#Entero\n",
        "np.int64"
      ],
      "metadata": {
        "colab": {
          "base_uri": "https://localhost:8080/"
        },
        "id": "xjRjHP7FyvSb",
        "outputId": "4b01b6d7-a973-4eb0-ad99-865ad06c9a9c"
      },
      "execution_count": 18,
      "outputs": [
        {
          "output_type": "execute_result",
          "data": {
            "text/plain": [
              "numpy.int64"
            ]
          },
          "metadata": {},
          "execution_count": 18
        }
      ]
    },
    {
      "cell_type": "code",
      "source": [
        "#Decimal, numero doble prescision o de punto flotante\n",
        "np.float64"
      ],
      "metadata": {
        "colab": {
          "base_uri": "https://localhost:8080/"
        },
        "id": "W0WfAYkZCSg0",
        "outputId": "04ba2943-6f73-44fc-9ffb-89939a75cc3d"
      },
      "execution_count": 19,
      "outputs": [
        {
          "output_type": "execute_result",
          "data": {
            "text/plain": [
              "numpy.float64"
            ]
          },
          "metadata": {},
          "execution_count": 19
        }
      ]
    },
    {
      "cell_type": "code",
      "source": [
        "#Complejos\n",
        "np.complex_"
      ],
      "metadata": {
        "colab": {
          "base_uri": "https://localhost:8080/"
        },
        "id": "zf1VSrdgCjy0",
        "outputId": "4f055273-7415-4d04-f99b-f81abcc6afdd"
      },
      "execution_count": 20,
      "outputs": [
        {
          "output_type": "execute_result",
          "data": {
            "text/plain": [
              "numpy.complex128"
            ]
          },
          "metadata": {},
          "execution_count": 20
        }
      ]
    },
    {
      "cell_type": "code",
      "source": [
        "#Booleanos\n",
        "np.bool_"
      ],
      "metadata": {
        "colab": {
          "base_uri": "https://localhost:8080/"
        },
        "id": "vaHHnvmvCs52",
        "outputId": "5b852518-e396-4c5c-b48b-7e01f60c68a2"
      },
      "execution_count": 21,
      "outputs": [
        {
          "output_type": "execute_result",
          "data": {
            "text/plain": [
              "numpy.bool_"
            ]
          },
          "metadata": {},
          "execution_count": 21
        }
      ]
    },
    {
      "cell_type": "code",
      "source": [
        "#Objetos\n",
        "np.object_"
      ],
      "metadata": {
        "colab": {
          "base_uri": "https://localhost:8080/"
        },
        "id": "U8-jlOPsCxZR",
        "outputId": "2ceaf6f0-fe89-4fe6-9c88-d4b2044dc7b0"
      },
      "execution_count": 22,
      "outputs": [
        {
          "output_type": "execute_result",
          "data": {
            "text/plain": [
              "numpy.object_"
            ]
          },
          "metadata": {},
          "execution_count": 22
        }
      ]
    },
    {
      "cell_type": "code",
      "source": [
        "#Cadenas\n",
        "np.string_"
      ],
      "metadata": {
        "colab": {
          "base_uri": "https://localhost:8080/"
        },
        "id": "AlUpg4zDDBC-",
        "outputId": "0359162e-a79a-413a-ccf4-0fed00253ef1"
      },
      "execution_count": 23,
      "outputs": [
        {
          "output_type": "execute_result",
          "data": {
            "text/plain": [
              "numpy.bytes_"
            ]
          },
          "metadata": {},
          "execution_count": 23
        }
      ]
    },
    {
      "cell_type": "code",
      "source": [
        "np.unicode_"
      ],
      "metadata": {
        "colab": {
          "base_uri": "https://localhost:8080/"
        },
        "id": "YXmbbszyDE1W",
        "outputId": "65d379bd-4494-48ea-999c-0e73662c8014"
      },
      "execution_count": 24,
      "outputs": [
        {
          "output_type": "execute_result",
          "data": {
            "text/plain": [
              "numpy.str_"
            ]
          },
          "metadata": {},
          "execution_count": 24
        }
      ]
    },
    {
      "cell_type": "markdown",
      "source": [
        "#Propiedades y caracteristicas"
      ],
      "metadata": {
        "id": "Asa5tzZYDX5V"
      }
    },
    {
      "cell_type": "code",
      "source": [
        "array_3d"
      ],
      "metadata": {
        "colab": {
          "base_uri": "https://localhost:8080/"
        },
        "id": "M-q-ptp5DHWk",
        "outputId": "72576bc9-71a4-4195-81c3-20a1ddba2833"
      },
      "execution_count": 25,
      "outputs": [
        {
          "output_type": "execute_result",
          "data": {
            "text/plain": [
              "array([[[1.6, 4.5, 2. ],\n",
              "        [1. , 5.8, 9. ]],\n",
              "\n",
              "       [[7. , 5. , 9.3],\n",
              "        [8. , 1.4, 3. ]],\n",
              "\n",
              "       [[3. , 5. , 3. ],\n",
              "        [7. , 2. , 9. ]]])"
            ]
          },
          "metadata": {},
          "execution_count": 25
        }
      ]
    },
    {
      "cell_type": "code",
      "source": [
        "#Dimension o forma\n",
        "array_3d.shape"
      ],
      "metadata": {
        "colab": {
          "base_uri": "https://localhost:8080/"
        },
        "id": "ovMQM9thDc2i",
        "outputId": "4999b430-1201-4f1b-867c-24f557ca8825"
      },
      "execution_count": 26,
      "outputs": [
        {
          "output_type": "execute_result",
          "data": {
            "text/plain": [
              "(3, 2, 3)"
            ]
          },
          "metadata": {},
          "execution_count": 26
        }
      ]
    },
    {
      "cell_type": "code",
      "source": [
        "#Longitud\n",
        "len(array_3d)"
      ],
      "metadata": {
        "colab": {
          "base_uri": "https://localhost:8080/"
        },
        "id": "g7f1AG8RDsmn",
        "outputId": "2b35b8ca-3767-48b2-86d1-81d41e3fa933"
      },
      "execution_count": 27,
      "outputs": [
        {
          "output_type": "execute_result",
          "data": {
            "text/plain": [
              "3"
            ]
          },
          "metadata": {},
          "execution_count": 27
        }
      ]
    },
    {
      "cell_type": "code",
      "source": [
        "#Numero de dimensiones\n",
        "array_3d.ndim"
      ],
      "metadata": {
        "colab": {
          "base_uri": "https://localhost:8080/"
        },
        "id": "yVmxDiwhD5nK",
        "outputId": "03fc3b20-47cd-4f9f-bfc2-c94750803728"
      },
      "execution_count": 28,
      "outputs": [
        {
          "output_type": "execute_result",
          "data": {
            "text/plain": [
              "3"
            ]
          },
          "metadata": {},
          "execution_count": 28
        }
      ]
    },
    {
      "cell_type": "code",
      "source": [
        "#Tamaño o numero de elementos\n",
        "array_3d.size"
      ],
      "metadata": {
        "colab": {
          "base_uri": "https://localhost:8080/"
        },
        "id": "Fg9O5BXtEAxY",
        "outputId": "f261e136-ee00-4820-d8ad-cae002849121"
      },
      "execution_count": 29,
      "outputs": [
        {
          "output_type": "execute_result",
          "data": {
            "text/plain": [
              "18"
            ]
          },
          "metadata": {},
          "execution_count": 29
        }
      ]
    },
    {
      "cell_type": "code",
      "source": [
        "#Tipo de datos en el array"
      ],
      "metadata": {
        "id": "2JmRLlUxEIfr"
      },
      "execution_count": 30,
      "outputs": []
    },
    {
      "cell_type": "code",
      "source": [
        "array_3d.dtype"
      ],
      "metadata": {
        "colab": {
          "base_uri": "https://localhost:8080/"
        },
        "id": "CLJj5OhPEUKm",
        "outputId": "e5312d18-9cd3-4d0d-d216-07a8c758b913"
      },
      "execution_count": 31,
      "outputs": [
        {
          "output_type": "execute_result",
          "data": {
            "text/plain": [
              "dtype('float64')"
            ]
          },
          "metadata": {},
          "execution_count": 31
        }
      ]
    },
    {
      "cell_type": "code",
      "source": [
        "array_3d.dtype.name"
      ],
      "metadata": {
        "colab": {
          "base_uri": "https://localhost:8080/",
          "height": 35
        },
        "id": "v5KDK4bfEWU-",
        "outputId": "07d0d322-3acc-46dd-aad8-4c323d695e16"
      },
      "execution_count": 32,
      "outputs": [
        {
          "output_type": "execute_result",
          "data": {
            "text/plain": [
              "'float64'"
            ],
            "application/vnd.google.colaboratory.intrinsic+json": {
              "type": "string"
            }
          },
          "metadata": {},
          "execution_count": 32
        }
      ]
    },
    {
      "cell_type": "code",
      "source": [
        "#Convertir de un tipo a otro\n",
        "array_3d.astype(int)"
      ],
      "metadata": {
        "colab": {
          "base_uri": "https://localhost:8080/"
        },
        "id": "bBY2s1EvEfpe",
        "outputId": "6091c9e5-82d6-4b50-c954-35f95f3058ba"
      },
      "execution_count": 33,
      "outputs": [
        {
          "output_type": "execute_result",
          "data": {
            "text/plain": [
              "array([[[1, 4, 2],\n",
              "        [1, 5, 9]],\n",
              "\n",
              "       [[7, 5, 9],\n",
              "        [8, 1, 3]],\n",
              "\n",
              "       [[3, 5, 3],\n",
              "        [7, 2, 9]]])"
            ]
          },
          "metadata": {},
          "execution_count": 33
        }
      ]
    },
    {
      "cell_type": "markdown",
      "source": [
        "#Ayuda"
      ],
      "metadata": {
        "id": "gr2r1fnoEzCc"
      }
    },
    {
      "cell_type": "code",
      "source": [
        "np.info(np.ndarray.dtype)"
      ],
      "metadata": {
        "id": "5szA_uyjE6hz"
      },
      "execution_count": 34,
      "outputs": []
    },
    {
      "cell_type": "code",
      "source": [
        "#"
      ],
      "metadata": {
        "id": "5e1jOfmsFf9s"
      },
      "execution_count": 34,
      "outputs": []
    }
  ]
}