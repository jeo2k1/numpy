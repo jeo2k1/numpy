{
  "nbformat": 4,
  "nbformat_minor": 0,
  "metadata": {
    "colab": {
      "provenance": [],
      "authorship_tag": "ABX9TyMk1e7SHLZpf38Ci1hJi17n",
      "include_colab_link": true
    },
    "kernelspec": {
      "name": "python3",
      "display_name": "Python 3"
    },
    "language_info": {
      "name": "python"
    }
  },
  "cells": [
    {
      "cell_type": "markdown",
      "metadata": {
        "id": "view-in-github",
        "colab_type": "text"
      },
      "source": [
        "<a href=\"https://colab.research.google.com/github/jeo2k1/numpy/blob/main/curso_numpy.ipynb\" target=\"_parent\"><img src=\"https://colab.research.google.com/assets/colab-badge.svg\" alt=\"Open In Colab\"/></a>"
      ]
    },
    {
      "cell_type": "markdown",
      "source": [
        "#Numpy Libreria para Ciencia de Datos"
      ],
      "metadata": {
        "id": "KXoUuWyXek9K"
      }
    },
    {
      "cell_type": "code",
      "execution_count": 130,
      "metadata": {
        "id": "O7UhfQVYeiC2"
      },
      "outputs": [],
      "source": [
        "import numpy as np"
      ]
    },
    {
      "cell_type": "code",
      "source": [
        "def crearArray(fila,columna):\n",
        "  array = np.random.random((fila,columna))\n",
        "  return array"
      ],
      "metadata": {
        "id": "SCjEJJzMbPgS"
      },
      "execution_count": 131,
      "outputs": []
    },
    {
      "cell_type": "code",
      "source": [
        "array_1d=np.array([1,4,3])\n"
      ],
      "metadata": {
        "id": "1S-OcmEgieYJ"
      },
      "execution_count": 132,
      "outputs": []
    },
    {
      "cell_type": "code",
      "source": [
        "array_1d"
      ],
      "metadata": {
        "colab": {
          "base_uri": "https://localhost:8080/"
        },
        "id": "ZFdUnoLHjMBJ",
        "outputId": "15496b4d-5c12-4a3e-e34a-56d9ff123842"
      },
      "execution_count": 133,
      "outputs": [
        {
          "output_type": "execute_result",
          "data": {
            "text/plain": [
              "array([1, 4, 3])"
            ]
          },
          "metadata": {},
          "execution_count": 133
        }
      ]
    },
    {
      "cell_type": "code",
      "source": [
        "array_2d=np.array([(1,4,2),(5,2,3)])\n",
        "array_2d"
      ],
      "metadata": {
        "colab": {
          "base_uri": "https://localhost:8080/"
        },
        "id": "R_mAcxiOjapg",
        "outputId": "0656c9b9-9228-438e-8ae2-bc3bd0b1666c"
      },
      "execution_count": 134,
      "outputs": [
        {
          "output_type": "execute_result",
          "data": {
            "text/plain": [
              "array([[1, 4, 2],\n",
              "       [5, 2, 3]])"
            ]
          },
          "metadata": {},
          "execution_count": 134
        }
      ]
    },
    {
      "cell_type": "code",
      "source": [
        "array_3d=np.array([[(1.6,4.5,2),(1,5.8,9)],[(7,5,9.3),(8,1.4,3)],[(3,5,3),(7,2,9)]],dtype=float)\n",
        "array_3d"
      ],
      "metadata": {
        "colab": {
          "base_uri": "https://localhost:8080/"
        },
        "id": "ouyBnL38jxfL",
        "outputId": "67537827-df6a-483d-8d66-9b385a07cff6"
      },
      "execution_count": 135,
      "outputs": [
        {
          "output_type": "execute_result",
          "data": {
            "text/plain": [
              "array([[[1.6, 4.5, 2. ],\n",
              "        [1. , 5.8, 9. ]],\n",
              "\n",
              "       [[7. , 5. , 9.3],\n",
              "        [8. , 1.4, 3. ]],\n",
              "\n",
              "       [[3. , 5. , 3. ],\n",
              "        [7. , 2. , 9. ]]])"
            ]
          },
          "metadata": {},
          "execution_count": 135
        }
      ]
    },
    {
      "cell_type": "markdown",
      "source": [
        "# Creando Arrays"
      ],
      "metadata": {
        "id": "8plVfTheBqj5"
      }
    },
    {
      "cell_type": "code",
      "source": [
        "# de ceros con 3 filas 4 columnas\n",
        "array_ceros=np.zeros((3,4))\n",
        "array_ceros"
      ],
      "metadata": {
        "id": "qtd65UI3lMO-",
        "colab": {
          "base_uri": "https://localhost:8080/"
        },
        "outputId": "4306312a-d393-45fd-8f88-e6e4e370853b"
      },
      "execution_count": 136,
      "outputs": [
        {
          "output_type": "execute_result",
          "data": {
            "text/plain": [
              "array([[0., 0., 0., 0.],\n",
              "       [0., 0., 0., 0.],\n",
              "       [0., 0., 0., 0.]])"
            ]
          },
          "metadata": {},
          "execution_count": 136
        }
      ]
    },
    {
      "cell_type": "code",
      "source": [
        "# de unos con 2 dimensiones 4 filas y 5 columnas\n",
        "np.ones((2,4,5))"
      ],
      "metadata": {
        "colab": {
          "base_uri": "https://localhost:8080/"
        },
        "id": "bfpkH-EqIvzL",
        "outputId": "43f79905-1988-4eba-f8cc-8dab0534f397"
      },
      "execution_count": 137,
      "outputs": [
        {
          "output_type": "execute_result",
          "data": {
            "text/plain": [
              "array([[[1., 1., 1., 1., 1.],\n",
              "        [1., 1., 1., 1., 1.],\n",
              "        [1., 1., 1., 1., 1.],\n",
              "        [1., 1., 1., 1., 1.]],\n",
              "\n",
              "       [[1., 1., 1., 1., 1.],\n",
              "        [1., 1., 1., 1., 1.],\n",
              "        [1., 1., 1., 1., 1.],\n",
              "        [1., 1., 1., 1., 1.]]])"
            ]
          },
          "metadata": {},
          "execution_count": 137
        }
      ]
    },
    {
      "cell_type": "code",
      "source": [
        "# intervalos y saltos\n",
        "np.arange(12,30,2)"
      ],
      "metadata": {
        "colab": {
          "base_uri": "https://localhost:8080/"
        },
        "id": "aHmj-yGNRS6G",
        "outputId": "26a4961a-50bf-49d0-e223-7b59ae463e4c"
      },
      "execution_count": 138,
      "outputs": [
        {
          "output_type": "execute_result",
          "data": {
            "text/plain": [
              "array([12, 14, 16, 18, 20, 22, 24, 26, 28])"
            ]
          },
          "metadata": {},
          "execution_count": 138
        }
      ]
    },
    {
      "cell_type": "code",
      "source": [
        "# intervalo y divisiones\n",
        "np.linspace(0,4,7)"
      ],
      "metadata": {
        "colab": {
          "base_uri": "https://localhost:8080/"
        },
        "id": "-gaeFN0DRZkh",
        "outputId": "2792ad86-b6ec-4ae1-bc38-c3fbbf8d3375"
      },
      "execution_count": 139,
      "outputs": [
        {
          "output_type": "execute_result",
          "data": {
            "text/plain": [
              "array([0.        , 0.66666667, 1.33333333, 2.        , 2.66666667,\n",
              "       3.33333333, 4.        ])"
            ]
          },
          "metadata": {},
          "execution_count": 139
        }
      ]
    },
    {
      "cell_type": "code",
      "source": [
        "#Valor dado\n",
        "np.full((3,3),8)"
      ],
      "metadata": {
        "id": "T2RU9IrRRyUV",
        "colab": {
          "base_uri": "https://localhost:8080/"
        },
        "outputId": "eaa8c8cc-64a0-4600-f12b-a6fe9c48691d"
      },
      "execution_count": 140,
      "outputs": [
        {
          "output_type": "execute_result",
          "data": {
            "text/plain": [
              "array([[8, 8, 8],\n",
              "       [8, 8, 8],\n",
              "       [8, 8, 8]])"
            ]
          },
          "metadata": {},
          "execution_count": 140
        }
      ]
    },
    {
      "cell_type": "code",
      "source": [
        "#Matriz identidad, diagonal de unos\n",
        "np.eye(3)"
      ],
      "metadata": {
        "colab": {
          "base_uri": "https://localhost:8080/"
        },
        "id": "M-JYiq4AnGuM",
        "outputId": "b26d6962-5efa-4e79-b1d4-db3d7834d5d5"
      },
      "execution_count": 141,
      "outputs": [
        {
          "output_type": "execute_result",
          "data": {
            "text/plain": [
              "array([[1., 0., 0.],\n",
              "       [0., 1., 0.],\n",
              "       [0., 0., 1.]])"
            ]
          },
          "metadata": {},
          "execution_count": 141
        }
      ]
    },
    {
      "cell_type": "code",
      "source": [
        "#Valores aleatorios entre 0 y 1\n",
        "np.random.random((4,4))"
      ],
      "metadata": {
        "colab": {
          "base_uri": "https://localhost:8080/"
        },
        "id": "9VybHHdRnU06",
        "outputId": "f816e0de-6169-40a2-d341-474a0421027f"
      },
      "execution_count": 142,
      "outputs": [
        {
          "output_type": "execute_result",
          "data": {
            "text/plain": [
              "array([[0.40045952, 0.58492886, 0.07857472, 0.39221227],\n",
              "       [0.90823916, 0.12093105, 0.13832907, 0.34140105],\n",
              "       [0.41351339, 0.71875747, 0.26244314, 0.06971535],\n",
              "       [0.29203195, 0.01968527, 0.63303246, 0.46966406]])"
            ]
          },
          "metadata": {},
          "execution_count": 142
        }
      ]
    },
    {
      "cell_type": "code",
      "source": [
        "#Vacio de 4 filas y 3 columnas\n",
        "np.empty((4,3))"
      ],
      "metadata": {
        "colab": {
          "base_uri": "https://localhost:8080/"
        },
        "id": "geP4YC1MngX2",
        "outputId": "6d9032a1-35c3-48c8-cb7b-94395bf6d007"
      },
      "execution_count": 143,
      "outputs": [
        {
          "output_type": "execute_result",
          "data": {
            "text/plain": [
              "array([[0., 0., 0.],\n",
              "       [0., 0., 0.],\n",
              "       [0., 0., 0.],\n",
              "       [0., 0., 0.]])"
            ]
          },
          "metadata": {},
          "execution_count": 143
        }
      ]
    },
    {
      "cell_type": "markdown",
      "source": [
        "#Grabar y cargar"
      ],
      "metadata": {
        "id": "1lAmI-CyuDUR"
      }
    },
    {
      "cell_type": "code",
      "source": [
        "#Grabar\n",
        "#np.save('mi_array', np.random.random((3,3)))\n",
        "np.save('mi_array_3d', array_3d)"
      ],
      "metadata": {
        "id": "wM1kGCmHns5z"
      },
      "execution_count": 144,
      "outputs": []
    },
    {
      "cell_type": "code",
      "source": [
        "#Cargar\n",
        "mi_array=np.load('mi_array_3d.npy')\n",
        "mi_array"
      ],
      "metadata": {
        "colab": {
          "base_uri": "https://localhost:8080/"
        },
        "id": "SWHquOknuTp2",
        "outputId": "2245a5e2-2b4c-438e-d0af-9485b23aa3ea"
      },
      "execution_count": 145,
      "outputs": [
        {
          "output_type": "execute_result",
          "data": {
            "text/plain": [
              "array([[[1.6, 4.5, 2. ],\n",
              "        [1. , 5.8, 9. ]],\n",
              "\n",
              "       [[7. , 5. , 9.3],\n",
              "        [8. , 1.4, 3. ]],\n",
              "\n",
              "       [[3. , 5. , 3. ],\n",
              "        [7. , 2. , 9. ]]])"
            ]
          },
          "metadata": {},
          "execution_count": 145
        }
      ]
    },
    {
      "cell_type": "code",
      "source": [
        "#Grabar a fichero de texto\n",
        "np.savetxt('mi_array.txt',array_2d,delimiter=\" \")"
      ],
      "metadata": {
        "id": "uDiBzapKuhtd"
      },
      "execution_count": 146,
      "outputs": []
    },
    {
      "cell_type": "code",
      "source": [
        "#Cargar de fichero de texto\n",
        "array_2d=np.loadtxt('mi_array.txt')\n",
        "array_2d"
      ],
      "metadata": {
        "colab": {
          "base_uri": "https://localhost:8080/"
        },
        "id": "Pb7Kc0Zmw3tg",
        "outputId": "eac03cea-1ad3-4715-8ca4-986f6efe1203"
      },
      "execution_count": 147,
      "outputs": [
        {
          "output_type": "execute_result",
          "data": {
            "text/plain": [
              "array([[1., 4., 2.],\n",
              "       [5., 2., 3.]])"
            ]
          },
          "metadata": {},
          "execution_count": 147
        }
      ]
    },
    {
      "cell_type": "markdown",
      "source": [
        "#Tipo de datos"
      ],
      "metadata": {
        "id": "RqJKzkpqCLtZ"
      }
    },
    {
      "cell_type": "code",
      "source": [
        "#Entero\n",
        "np.int64"
      ],
      "metadata": {
        "colab": {
          "base_uri": "https://localhost:8080/"
        },
        "id": "xjRjHP7FyvSb",
        "outputId": "e11c10e9-fc89-4658-d3b4-b73115a14397"
      },
      "execution_count": 148,
      "outputs": [
        {
          "output_type": "execute_result",
          "data": {
            "text/plain": [
              "numpy.int64"
            ]
          },
          "metadata": {},
          "execution_count": 148
        }
      ]
    },
    {
      "cell_type": "code",
      "source": [
        "#Decimal, numero doble prescision o de punto flotante\n",
        "np.float64"
      ],
      "metadata": {
        "colab": {
          "base_uri": "https://localhost:8080/"
        },
        "id": "W0WfAYkZCSg0",
        "outputId": "fcfd858d-2ac4-4d4f-8ef6-41b857a4c134"
      },
      "execution_count": 149,
      "outputs": [
        {
          "output_type": "execute_result",
          "data": {
            "text/plain": [
              "numpy.float64"
            ]
          },
          "metadata": {},
          "execution_count": 149
        }
      ]
    },
    {
      "cell_type": "code",
      "source": [
        "#Complejos\n",
        "np.complex_"
      ],
      "metadata": {
        "colab": {
          "base_uri": "https://localhost:8080/"
        },
        "id": "zf1VSrdgCjy0",
        "outputId": "46a06413-f422-4cd6-c0ef-8b1650ccd2e1"
      },
      "execution_count": 150,
      "outputs": [
        {
          "output_type": "execute_result",
          "data": {
            "text/plain": [
              "numpy.complex128"
            ]
          },
          "metadata": {},
          "execution_count": 150
        }
      ]
    },
    {
      "cell_type": "code",
      "source": [
        "#Booleanos\n",
        "np.bool_"
      ],
      "metadata": {
        "colab": {
          "base_uri": "https://localhost:8080/"
        },
        "id": "vaHHnvmvCs52",
        "outputId": "6e55bffe-d42a-4c11-e2e4-5db4722e9ec7"
      },
      "execution_count": 151,
      "outputs": [
        {
          "output_type": "execute_result",
          "data": {
            "text/plain": [
              "numpy.bool_"
            ]
          },
          "metadata": {},
          "execution_count": 151
        }
      ]
    },
    {
      "cell_type": "code",
      "source": [
        "#Objetos\n",
        "np.object_"
      ],
      "metadata": {
        "colab": {
          "base_uri": "https://localhost:8080/"
        },
        "id": "U8-jlOPsCxZR",
        "outputId": "0b43a822-7e45-4fcb-b736-f6f4788552e8"
      },
      "execution_count": 152,
      "outputs": [
        {
          "output_type": "execute_result",
          "data": {
            "text/plain": [
              "numpy.object_"
            ]
          },
          "metadata": {},
          "execution_count": 152
        }
      ]
    },
    {
      "cell_type": "code",
      "source": [
        "#Cadenas\n",
        "np.string_"
      ],
      "metadata": {
        "colab": {
          "base_uri": "https://localhost:8080/"
        },
        "id": "AlUpg4zDDBC-",
        "outputId": "1b32dd69-b77e-49c7-a1c1-6f0c10466f30"
      },
      "execution_count": 153,
      "outputs": [
        {
          "output_type": "execute_result",
          "data": {
            "text/plain": [
              "numpy.bytes_"
            ]
          },
          "metadata": {},
          "execution_count": 153
        }
      ]
    },
    {
      "cell_type": "code",
      "source": [
        "np.unicode_"
      ],
      "metadata": {
        "colab": {
          "base_uri": "https://localhost:8080/"
        },
        "id": "YXmbbszyDE1W",
        "outputId": "d6426a33-9fa2-4176-e2a8-e1559a43cb7e"
      },
      "execution_count": 154,
      "outputs": [
        {
          "output_type": "execute_result",
          "data": {
            "text/plain": [
              "numpy.str_"
            ]
          },
          "metadata": {},
          "execution_count": 154
        }
      ]
    },
    {
      "cell_type": "markdown",
      "source": [
        "#Propiedades y caracteristicas"
      ],
      "metadata": {
        "id": "Asa5tzZYDX5V"
      }
    },
    {
      "cell_type": "code",
      "source": [
        "array_3d"
      ],
      "metadata": {
        "colab": {
          "base_uri": "https://localhost:8080/"
        },
        "id": "M-q-ptp5DHWk",
        "outputId": "77b1dcc3-99da-423d-db18-da61112465ff"
      },
      "execution_count": 155,
      "outputs": [
        {
          "output_type": "execute_result",
          "data": {
            "text/plain": [
              "array([[[1.6, 4.5, 2. ],\n",
              "        [1. , 5.8, 9. ]],\n",
              "\n",
              "       [[7. , 5. , 9.3],\n",
              "        [8. , 1.4, 3. ]],\n",
              "\n",
              "       [[3. , 5. , 3. ],\n",
              "        [7. , 2. , 9. ]]])"
            ]
          },
          "metadata": {},
          "execution_count": 155
        }
      ]
    },
    {
      "cell_type": "code",
      "source": [
        "#Dimension o forma\n",
        "array_3d.shape"
      ],
      "metadata": {
        "colab": {
          "base_uri": "https://localhost:8080/"
        },
        "id": "ovMQM9thDc2i",
        "outputId": "b23406fb-8c8f-4939-84aa-0a143465011d"
      },
      "execution_count": 156,
      "outputs": [
        {
          "output_type": "execute_result",
          "data": {
            "text/plain": [
              "(3, 2, 3)"
            ]
          },
          "metadata": {},
          "execution_count": 156
        }
      ]
    },
    {
      "cell_type": "code",
      "source": [
        "#Longitud\n",
        "len(array_3d)"
      ],
      "metadata": {
        "colab": {
          "base_uri": "https://localhost:8080/"
        },
        "id": "g7f1AG8RDsmn",
        "outputId": "7467ed3d-c4c6-42e7-c0fa-1e9e64ff2c28"
      },
      "execution_count": 157,
      "outputs": [
        {
          "output_type": "execute_result",
          "data": {
            "text/plain": [
              "3"
            ]
          },
          "metadata": {},
          "execution_count": 157
        }
      ]
    },
    {
      "cell_type": "code",
      "source": [
        "#Numero de dimensiones\n",
        "array_3d.ndim"
      ],
      "metadata": {
        "colab": {
          "base_uri": "https://localhost:8080/"
        },
        "id": "yVmxDiwhD5nK",
        "outputId": "c7735f00-69ba-4ceb-f796-89d262a0404b"
      },
      "execution_count": 158,
      "outputs": [
        {
          "output_type": "execute_result",
          "data": {
            "text/plain": [
              "3"
            ]
          },
          "metadata": {},
          "execution_count": 158
        }
      ]
    },
    {
      "cell_type": "code",
      "source": [
        "#Tamaño o numero de elementos\n",
        "array_3d.size"
      ],
      "metadata": {
        "colab": {
          "base_uri": "https://localhost:8080/"
        },
        "id": "Fg9O5BXtEAxY",
        "outputId": "2b3c3d90-27dd-4baf-ab08-25b99b5eb0ca"
      },
      "execution_count": 159,
      "outputs": [
        {
          "output_type": "execute_result",
          "data": {
            "text/plain": [
              "18"
            ]
          },
          "metadata": {},
          "execution_count": 159
        }
      ]
    },
    {
      "cell_type": "code",
      "source": [
        "#Tipo de datos en el array"
      ],
      "metadata": {
        "id": "2JmRLlUxEIfr"
      },
      "execution_count": 160,
      "outputs": []
    },
    {
      "cell_type": "code",
      "source": [
        "array_3d.dtype"
      ],
      "metadata": {
        "colab": {
          "base_uri": "https://localhost:8080/"
        },
        "id": "CLJj5OhPEUKm",
        "outputId": "ec295dcf-0611-4a41-b0b0-6c4a4ca6e261"
      },
      "execution_count": 161,
      "outputs": [
        {
          "output_type": "execute_result",
          "data": {
            "text/plain": [
              "dtype('float64')"
            ]
          },
          "metadata": {},
          "execution_count": 161
        }
      ]
    },
    {
      "cell_type": "code",
      "source": [
        "array_3d.dtype.name"
      ],
      "metadata": {
        "colab": {
          "base_uri": "https://localhost:8080/",
          "height": 35
        },
        "id": "v5KDK4bfEWU-",
        "outputId": "f86e0de1-3856-4716-9afb-e68a87be7533"
      },
      "execution_count": 162,
      "outputs": [
        {
          "output_type": "execute_result",
          "data": {
            "text/plain": [
              "'float64'"
            ],
            "application/vnd.google.colaboratory.intrinsic+json": {
              "type": "string"
            }
          },
          "metadata": {},
          "execution_count": 162
        }
      ]
    },
    {
      "cell_type": "code",
      "source": [
        "#Convertir de un tipo a otro\n",
        "array_3d.astype(int)"
      ],
      "metadata": {
        "colab": {
          "base_uri": "https://localhost:8080/"
        },
        "id": "bBY2s1EvEfpe",
        "outputId": "f73a9a34-21d6-4a63-c127-76793b1745a0"
      },
      "execution_count": 163,
      "outputs": [
        {
          "output_type": "execute_result",
          "data": {
            "text/plain": [
              "array([[[1, 4, 2],\n",
              "        [1, 5, 9]],\n",
              "\n",
              "       [[7, 5, 9],\n",
              "        [8, 1, 3]],\n",
              "\n",
              "       [[3, 5, 3],\n",
              "        [7, 2, 9]]])"
            ]
          },
          "metadata": {},
          "execution_count": 163
        }
      ]
    },
    {
      "cell_type": "markdown",
      "source": [
        "#Ayuda"
      ],
      "metadata": {
        "id": "gr2r1fnoEzCc"
      }
    },
    {
      "cell_type": "code",
      "source": [
        "np.info(np.ndarray.dtype)"
      ],
      "metadata": {
        "id": "5szA_uyjE6hz"
      },
      "execution_count": 164,
      "outputs": []
    },
    {
      "cell_type": "markdown",
      "source": [
        "#Operadores Aritmeticos"
      ],
      "metadata": {
        "id": "G_GTWxVYXlSR"
      }
    },
    {
      "cell_type": "code",
      "source": [
        "#Arrays de ejemplos\n",
        "array1=np.random.random((4,4))\n",
        "array1"
      ],
      "metadata": {
        "id": "5e1jOfmsFf9s",
        "colab": {
          "base_uri": "https://localhost:8080/"
        },
        "outputId": "e85989f2-5d1f-4b26-8538-6038413b0375"
      },
      "execution_count": 165,
      "outputs": [
        {
          "output_type": "execute_result",
          "data": {
            "text/plain": [
              "array([[0.0516591 , 0.41079755, 0.89730584, 0.79006363],\n",
              "       [0.75936319, 0.89970564, 0.73565183, 0.36455734],\n",
              "       [0.12670884, 0.95652558, 0.69782152, 0.80942821],\n",
              "       [0.3660694 , 0.83425628, 0.31379682, 0.8971128 ]])"
            ]
          },
          "metadata": {},
          "execution_count": 165
        }
      ]
    },
    {
      "cell_type": "code",
      "source": [
        "array2=np.random.random((4,4))\n",
        "array2"
      ],
      "metadata": {
        "colab": {
          "base_uri": "https://localhost:8080/"
        },
        "id": "gigXkQHhX6NP",
        "outputId": "d0c108d2-6e8d-4ecc-9fb8-724b754b0259"
      },
      "execution_count": 166,
      "outputs": [
        {
          "output_type": "execute_result",
          "data": {
            "text/plain": [
              "array([[0.74688918, 0.94471894, 0.38126212, 0.40410015],\n",
              "       [0.15417695, 0.39274965, 0.7823986 , 0.90555351],\n",
              "       [0.42112443, 0.44125643, 0.11553128, 0.33626771],\n",
              "       [0.00129791, 0.87751712, 0.03029084, 0.72801934]])"
            ]
          },
          "metadata": {},
          "execution_count": 166
        }
      ]
    },
    {
      "cell_type": "code",
      "source": [
        "from numpy.core.arrayprint import array2string\n",
        "#Suma\n",
        "array3 = array1 + array2\n",
        "array3"
      ],
      "metadata": {
        "colab": {
          "base_uri": "https://localhost:8080/"
        },
        "id": "D_YnsKihYL-L",
        "outputId": "e98afc89-c797-4317-a60f-5181c1b024d4"
      },
      "execution_count": 167,
      "outputs": [
        {
          "output_type": "execute_result",
          "data": {
            "text/plain": [
              "array([[0.79854828, 1.3555165 , 1.27856796, 1.19416378],\n",
              "       [0.91354014, 1.29245528, 1.51805042, 1.27011084],\n",
              "       [0.54783327, 1.397782  , 0.81335281, 1.14569592],\n",
              "       [0.36736731, 1.7117734 , 0.34408766, 1.62513214]])"
            ]
          },
          "metadata": {},
          "execution_count": 167
        }
      ]
    },
    {
      "cell_type": "code",
      "source": [
        "#Otra opcion de sumar\n",
        "array3 = np.add(array1,array2)\n",
        "array3"
      ],
      "metadata": {
        "colab": {
          "base_uri": "https://localhost:8080/"
        },
        "id": "jETqAo_zYT_C",
        "outputId": "62d82934-3b8d-4a31-a002-397ebedb9042"
      },
      "execution_count": 168,
      "outputs": [
        {
          "output_type": "execute_result",
          "data": {
            "text/plain": [
              "array([[0.79854828, 1.3555165 , 1.27856796, 1.19416378],\n",
              "       [0.91354014, 1.29245528, 1.51805042, 1.27011084],\n",
              "       [0.54783327, 1.397782  , 0.81335281, 1.14569592],\n",
              "       [0.36736731, 1.7117734 , 0.34408766, 1.62513214]])"
            ]
          },
          "metadata": {},
          "execution_count": 168
        }
      ]
    },
    {
      "cell_type": "code",
      "source": [
        "#Resta\n",
        "array3 = array1 - array2\n",
        "array3"
      ],
      "metadata": {
        "colab": {
          "base_uri": "https://localhost:8080/"
        },
        "id": "aXFARrVyYeeg",
        "outputId": "7e36260f-5367-4701-ca46-c83bcd14d600"
      },
      "execution_count": 169,
      "outputs": [
        {
          "output_type": "execute_result",
          "data": {
            "text/plain": [
              "array([[-0.69523007, -0.53392139,  0.51604371,  0.38596348],\n",
              "       [ 0.60518624,  0.50695599, -0.04674677, -0.54099617],\n",
              "       [-0.2944156 ,  0.51526915,  0.58229024,  0.4731605 ],\n",
              "       [ 0.36477149, -0.04326085,  0.28350598,  0.16909347]])"
            ]
          },
          "metadata": {},
          "execution_count": 169
        }
      ]
    },
    {
      "cell_type": "code",
      "source": [
        "#Multiplicacion\n",
        "array3 = np.multiply(array1,array2)\n",
        "array3"
      ],
      "metadata": {
        "colab": {
          "base_uri": "https://localhost:8080/"
        },
        "id": "X-VYS3b_Yp7s",
        "outputId": "1c52d8f8-65b9-4218-d8fa-ebe14011ec72"
      },
      "execution_count": 170,
      "outputs": [
        {
          "output_type": "execute_result",
          "data": {
            "text/plain": [
              "array([[3.85836265e-02, 3.88088231e-01, 3.42108727e-01, 3.19264829e-01],\n",
              "       [1.17076302e-01, 3.53359072e-01, 5.75572957e-01, 3.30126175e-01],\n",
              "       [5.33601861e-02, 4.22073057e-01, 8.06202164e-02, 2.72184569e-01],\n",
              "       [4.75126009e-04, 7.32074168e-01, 9.50516862e-03, 6.53115469e-01]])"
            ]
          },
          "metadata": {},
          "execution_count": 170
        }
      ]
    },
    {
      "cell_type": "code",
      "source": [
        "#Division\n",
        "array3 = array1/array2\n",
        "array3"
      ],
      "metadata": {
        "colab": {
          "base_uri": "https://localhost:8080/"
        },
        "id": "8NutxOi-Y1CY",
        "outputId": "5c2705d3-7484-4ba3-bf09-50d5899f2133"
      },
      "execution_count": 171,
      "outputs": [
        {
          "output_type": "execute_result",
          "data": {
            "text/plain": [
              "array([[6.91656893e-02, 4.34835735e-01, 2.35351425e+00, 1.95511840e+00],\n",
              "       [4.92527048e+00, 2.29078662e+00, 9.40251973e-01, 4.02579564e-01],\n",
              "       [3.00882175e-01, 2.16773178e+00, 6.04010881e+00, 2.40709467e+00],\n",
              "       [2.82044770e+02, 9.50700849e-01, 1.03594631e+01, 1.23226507e+00]])"
            ]
          },
          "metadata": {},
          "execution_count": 171
        }
      ]
    },
    {
      "cell_type": "code",
      "source": [
        "#Otra forma de dividir\n",
        "array3 = np.divide(array1,array2)\n",
        "array3"
      ],
      "metadata": {
        "colab": {
          "base_uri": "https://localhost:8080/"
        },
        "id": "HQYiRUObY7h1",
        "outputId": "28a0d23f-0059-46c9-9fe2-a12af5cc9458"
      },
      "execution_count": 172,
      "outputs": [
        {
          "output_type": "execute_result",
          "data": {
            "text/plain": [
              "array([[6.91656893e-02, 4.34835735e-01, 2.35351425e+00, 1.95511840e+00],\n",
              "       [4.92527048e+00, 2.29078662e+00, 9.40251973e-01, 4.02579564e-01],\n",
              "       [3.00882175e-01, 2.16773178e+00, 6.04010881e+00, 2.40709467e+00],\n",
              "       [2.82044770e+02, 9.50700849e-01, 1.03594631e+01, 1.23226507e+00]])"
            ]
          },
          "metadata": {},
          "execution_count": 172
        }
      ]
    },
    {
      "cell_type": "code",
      "source": [
        "#Exponencial\n",
        "np.exp(array1)"
      ],
      "metadata": {
        "colab": {
          "base_uri": "https://localhost:8080/"
        },
        "id": "CRRr0Nb-ZHMq",
        "outputId": "f4ae8dd0-f22a-485a-c2d5-586f3227840e"
      },
      "execution_count": 173,
      "outputs": [
        {
          "output_type": "execute_result",
          "data": {
            "text/plain": [
              "array([[1.05301671, 1.50802003, 2.45298546, 2.20353663],\n",
              "       [2.13691498, 2.4588792 , 2.08684181, 1.43987649],\n",
              "       [1.13508647, 2.60263808, 2.00937057, 2.24662302],\n",
              "       [1.44205532, 2.30310054, 1.36861163, 2.452512  ]])"
            ]
          },
          "metadata": {},
          "execution_count": 173
        }
      ]
    },
    {
      "cell_type": "code",
      "source": [
        "#Seno\n",
        "np.sin(array1)"
      ],
      "metadata": {
        "colab": {
          "base_uri": "https://localhost:8080/"
        },
        "id": "lBWGlcAVZi-N",
        "outputId": "198e8bf3-a1ec-4c02-bb3b-81cbf566d51f"
      },
      "execution_count": 174,
      "outputs": [
        {
          "output_type": "execute_result",
          "data": {
            "text/plain": [
              "array([[0.05163613, 0.39934066, 0.78164935, 0.71039806],\n",
              "       [0.68845972, 0.7831439 , 0.67107056, 0.35653576],\n",
              "       [0.12637005, 0.81719398, 0.64254997, 0.72389281],\n",
              "       [0.35794804, 0.74079714, 0.30867227, 0.78152894]])"
            ]
          },
          "metadata": {},
          "execution_count": 174
        }
      ]
    },
    {
      "cell_type": "code",
      "source": [
        "#Coseno\n",
        "np.cos(array2)"
      ],
      "metadata": {
        "colab": {
          "base_uri": "https://localhost:8080/"
        },
        "id": "oODVK1soZqGJ",
        "outputId": "ac4024d9-cd2c-4c85-bcd8-a7c51666a18a"
      },
      "execution_count": 175,
      "outputs": [
        {
          "output_type": "execute_result",
          "data": {
            "text/plain": [
              "array([[0.73380578, 0.58597065, 0.92819575, 0.91945658],\n",
              "       [0.98813826, 0.92386018, 0.70922461, 0.61725019],\n",
              "       [0.91262986, 0.90421579, 0.99333368, 0.94399277],\n",
              "       [0.99999916, 0.63906283, 0.99954127, 0.74649378]])"
            ]
          },
          "metadata": {},
          "execution_count": 175
        }
      ]
    },
    {
      "cell_type": "code",
      "source": [
        "#Logartimo\n",
        "np.log(array2)"
      ],
      "metadata": {
        "colab": {
          "base_uri": "https://localhost:8080/"
        },
        "id": "E_M2c3WSZv_4",
        "outputId": "2304c13a-413c-439b-a7a3-7464556ff26a"
      },
      "execution_count": 176,
      "outputs": [
        {
          "output_type": "execute_result",
          "data": {
            "text/plain": [
              "array([[-0.29183846, -0.05686781, -0.96426816, -0.90609254],\n",
              "       [-1.8696543 , -0.9345829 , -0.24539095, -0.09920891],\n",
              "       [-0.86482693, -0.81812911, -2.15821393, -1.08984769],\n",
              "       [-6.64699816, -0.13065881, -3.49690999, -0.31742767]])"
            ]
          },
          "metadata": {},
          "execution_count": 176
        }
      ]
    },
    {
      "cell_type": "code",
      "source": [
        "#Producto de matrices\n",
        "array1.dot(array2)"
      ],
      "metadata": {
        "colab": {
          "base_uri": "https://localhost:8080/"
        },
        "id": "m-MgZbpGZzce",
        "outputId": "e5bfda85-397f-4485-f79a-02c13c326857"
      },
      "execution_count": 177,
      "outputs": [
        {
          "output_type": "execute_result",
          "data": {
            "text/plain": [
              "array([[0.48082199, 1.29938026, 0.46870168, 1.2697912 ],\n",
              "       [1.01614814, 1.71526026, 1.0894784 , 1.63437112],\n",
              "       [0.53703192, 1.51358467, 0.90183203, 1.74132238],\n",
              "       [0.53534824, 1.59918326, 0.85571698, 1.6620276 ]])"
            ]
          },
          "metadata": {},
          "execution_count": 177
        }
      ]
    },
    {
      "cell_type": "markdown",
      "source": [
        "#Comparacion"
      ],
      "metadata": {
        "id": "Mt3hcTenZ_O2"
      }
    },
    {
      "cell_type": "markdown",
      "source": [
        "==, !=, <, >, <=, >=, and, or"
      ],
      "metadata": {
        "id": "uFmeygfraYdt"
      }
    },
    {
      "cell_type": "code",
      "source": [
        "array1==array2"
      ],
      "metadata": {
        "colab": {
          "base_uri": "https://localhost:8080/"
        },
        "id": "1PalURqXZ7vw",
        "outputId": "92d9e2bb-cfc6-421e-9cb0-51e363ea4c97"
      },
      "execution_count": 178,
      "outputs": [
        {
          "output_type": "execute_result",
          "data": {
            "text/plain": [
              "array([[False, False, False, False],\n",
              "       [False, False, False, False],\n",
              "       [False, False, False, False],\n",
              "       [False, False, False, False]])"
            ]
          },
          "metadata": {},
          "execution_count": 178
        }
      ]
    },
    {
      "cell_type": "code",
      "source": [
        "array1 < 0.5"
      ],
      "metadata": {
        "colab": {
          "base_uri": "https://localhost:8080/"
        },
        "id": "lvHCaRR0aD75",
        "outputId": "465aa78f-1e61-47ce-cbf6-96dcef1dc457"
      },
      "execution_count": 179,
      "outputs": [
        {
          "output_type": "execute_result",
          "data": {
            "text/plain": [
              "array([[ True,  True, False, False],\n",
              "       [False, False, False,  True],\n",
              "       [ True, False, False, False],\n",
              "       [ True, False,  True, False]])"
            ]
          },
          "metadata": {},
          "execution_count": 179
        }
      ]
    },
    {
      "cell_type": "code",
      "source": [
        "array1"
      ],
      "metadata": {
        "colab": {
          "base_uri": "https://localhost:8080/"
        },
        "id": "7AkLqjG4aKM8",
        "outputId": "4fb68a79-42b3-473a-985d-bbe4133af470"
      },
      "execution_count": 180,
      "outputs": [
        {
          "output_type": "execute_result",
          "data": {
            "text/plain": [
              "array([[0.0516591 , 0.41079755, 0.89730584, 0.79006363],\n",
              "       [0.75936319, 0.89970564, 0.73565183, 0.36455734],\n",
              "       [0.12670884, 0.95652558, 0.69782152, 0.80942821],\n",
              "       [0.3660694 , 0.83425628, 0.31379682, 0.8971128 ]])"
            ]
          },
          "metadata": {},
          "execution_count": 180
        }
      ]
    },
    {
      "cell_type": "code",
      "source": [
        "array3 <= 0.4"
      ],
      "metadata": {
        "colab": {
          "base_uri": "https://localhost:8080/"
        },
        "id": "OU8I-gDPaxEX",
        "outputId": "09c854cb-930f-4ccf-f4b4-cdfeb251e8df"
      },
      "execution_count": 181,
      "outputs": [
        {
          "output_type": "execute_result",
          "data": {
            "text/plain": [
              "array([[ True, False, False, False],\n",
              "       [False, False, False, False],\n",
              "       [ True, False, False, False],\n",
              "       [False, False, False, False]])"
            ]
          },
          "metadata": {},
          "execution_count": 181
        }
      ]
    },
    {
      "cell_type": "code",
      "source": [
        "array3"
      ],
      "metadata": {
        "colab": {
          "base_uri": "https://localhost:8080/"
        },
        "id": "L8oISj_ja2-G",
        "outputId": "ddf048bb-5f60-42c3-b90c-901a3236f29d"
      },
      "execution_count": 182,
      "outputs": [
        {
          "output_type": "execute_result",
          "data": {
            "text/plain": [
              "array([[6.91656893e-02, 4.34835735e-01, 2.35351425e+00, 1.95511840e+00],\n",
              "       [4.92527048e+00, 2.29078662e+00, 9.40251973e-01, 4.02579564e-01],\n",
              "       [3.00882175e-01, 2.16773178e+00, 6.04010881e+00, 2.40709467e+00],\n",
              "       [2.82044770e+02, 9.50700849e-01, 1.03594631e+01, 1.23226507e+00]])"
            ]
          },
          "metadata": {},
          "execution_count": 182
        }
      ]
    },
    {
      "cell_type": "markdown",
      "source": [
        "#Estadisticos basicos y otras funciones"
      ],
      "metadata": {
        "id": "bO5Sdq6ebfLX"
      }
    },
    {
      "cell_type": "code",
      "source": [
        "array1=crearArray(5,5)\n",
        "array1"
      ],
      "metadata": {
        "colab": {
          "base_uri": "https://localhost:8080/"
        },
        "id": "-H1uHHUva45U",
        "outputId": "63282f59-8b9a-4cf8-b96a-8e7ff3b0b43f"
      },
      "execution_count": 183,
      "outputs": [
        {
          "output_type": "execute_result",
          "data": {
            "text/plain": [
              "array([[0.7245818 , 0.42574136, 0.33024122, 0.95489685, 0.89265206],\n",
              "       [0.03381017, 0.9355068 , 0.61799311, 0.27648163, 0.80198138],\n",
              "       [0.86034987, 0.06951677, 0.84627556, 0.76459001, 0.01423011],\n",
              "       [0.38463683, 0.06685466, 0.7607356 , 0.24641941, 0.27144729],\n",
              "       [0.58987176, 0.21113867, 0.75226173, 0.7945158 , 0.59924276]])"
            ]
          },
          "metadata": {},
          "execution_count": 183
        }
      ]
    },
    {
      "cell_type": "code",
      "source": [
        "array1.sum()"
      ],
      "metadata": {
        "colab": {
          "base_uri": "https://localhost:8080/"
        },
        "id": "Prjw-BEzbpBK",
        "outputId": "abe52d66-aae9-4a5a-bc56-1b789e601b66"
      },
      "execution_count": 184,
      "outputs": [
        {
          "output_type": "execute_result",
          "data": {
            "text/plain": [
              "13.225973189460083"
            ]
          },
          "metadata": {},
          "execution_count": 184
        }
      ]
    },
    {
      "cell_type": "code",
      "source": [
        "array1.min()"
      ],
      "metadata": {
        "colab": {
          "base_uri": "https://localhost:8080/"
        },
        "id": "UOvrdzvGd5gW",
        "outputId": "123faec5-4dc7-4234-a3b0-116d2fbbed25"
      },
      "execution_count": 185,
      "outputs": [
        {
          "output_type": "execute_result",
          "data": {
            "text/plain": [
              "0.014230105118209435"
            ]
          },
          "metadata": {},
          "execution_count": 185
        }
      ]
    },
    {
      "cell_type": "code",
      "source": [
        "array1.max()"
      ],
      "metadata": {
        "colab": {
          "base_uri": "https://localhost:8080/"
        },
        "id": "MvDphhkhd839",
        "outputId": "e8788bce-7863-46a9-a379-82345ad01689"
      },
      "execution_count": 186,
      "outputs": [
        {
          "output_type": "execute_result",
          "data": {
            "text/plain": [
              "0.9548968522537947"
            ]
          },
          "metadata": {},
          "execution_count": 186
        }
      ]
    },
    {
      "cell_type": "code",
      "source": [
        "#Maximo por filas\n",
        "array1.max(axis=0)"
      ],
      "metadata": {
        "colab": {
          "base_uri": "https://localhost:8080/"
        },
        "id": "SBSWv1E2eBhT",
        "outputId": "3414f142-9556-4a5a-b9d0-b177f7b0eb13"
      },
      "execution_count": 187,
      "outputs": [
        {
          "output_type": "execute_result",
          "data": {
            "text/plain": [
              "array([0.86034987, 0.9355068 , 0.84627556, 0.95489685, 0.89265206])"
            ]
          },
          "metadata": {},
          "execution_count": 187
        }
      ]
    },
    {
      "cell_type": "code",
      "source": [
        "#Maximo por columnas\n",
        "array1.max(axis=1)"
      ],
      "metadata": {
        "colab": {
          "base_uri": "https://localhost:8080/"
        },
        "id": "RphbQ5qneXD4",
        "outputId": "25581f1c-1db3-4266-ba7d-d32630a8eee5"
      },
      "execution_count": 188,
      "outputs": [
        {
          "output_type": "execute_result",
          "data": {
            "text/plain": [
              "array([0.95489685, 0.9355068 , 0.86034987, 0.7607356 , 0.7945158 ])"
            ]
          },
          "metadata": {},
          "execution_count": 188
        }
      ]
    },
    {
      "cell_type": "code",
      "source": [
        "#Suma acumulada\n",
        "array1.cumsum(axis=1)"
      ],
      "metadata": {
        "colab": {
          "base_uri": "https://localhost:8080/"
        },
        "id": "n-UH7M-JenGA",
        "outputId": "8e08d23c-b523-44df-f7f5-755da0941410"
      },
      "execution_count": 189,
      "outputs": [
        {
          "output_type": "execute_result",
          "data": {
            "text/plain": [
              "array([[0.7245818 , 1.15032316, 1.48056437, 2.43546122, 3.32811328],\n",
              "       [0.03381017, 0.96931697, 1.58731008, 1.86379171, 2.66577309],\n",
              "       [0.86034987, 0.92986664, 1.77614219, 2.5407322 , 2.55496231],\n",
              "       [0.38463683, 0.45149149, 1.21222708, 1.4586465 , 1.73009379],\n",
              "       [0.58987176, 0.80101043, 1.55327216, 2.34778796, 2.94703072]])"
            ]
          },
          "metadata": {},
          "execution_count": 189
        }
      ]
    },
    {
      "cell_type": "code",
      "source": [
        "array1"
      ],
      "metadata": {
        "colab": {
          "base_uri": "https://localhost:8080/"
        },
        "id": "HdNKvw8rexHf",
        "outputId": "fc24fe1d-0179-4025-b666-cbc7fc6d44a7"
      },
      "execution_count": 190,
      "outputs": [
        {
          "output_type": "execute_result",
          "data": {
            "text/plain": [
              "array([[0.7245818 , 0.42574136, 0.33024122, 0.95489685, 0.89265206],\n",
              "       [0.03381017, 0.9355068 , 0.61799311, 0.27648163, 0.80198138],\n",
              "       [0.86034987, 0.06951677, 0.84627556, 0.76459001, 0.01423011],\n",
              "       [0.38463683, 0.06685466, 0.7607356 , 0.24641941, 0.27144729],\n",
              "       [0.58987176, 0.21113867, 0.75226173, 0.7945158 , 0.59924276]])"
            ]
          },
          "metadata": {},
          "execution_count": 190
        }
      ]
    },
    {
      "cell_type": "code",
      "source": [
        "#Media\n",
        "np.mean(array1)"
      ],
      "metadata": {
        "colab": {
          "base_uri": "https://localhost:8080/"
        },
        "id": "QYcCmYc5e0Dj",
        "outputId": "6842e153-1abf-4e0d-baf1-db6d7c1a4c5a"
      },
      "execution_count": 191,
      "outputs": [
        {
          "output_type": "execute_result",
          "data": {
            "text/plain": [
              "0.5290389275784033"
            ]
          },
          "metadata": {},
          "execution_count": 191
        }
      ]
    },
    {
      "cell_type": "code",
      "source": [
        "#Mediana\n",
        "np.median(array1)"
      ],
      "metadata": {
        "colab": {
          "base_uri": "https://localhost:8080/"
        },
        "id": "VsMlzr-ffBwx",
        "outputId": "8b7748fd-fb91-4545-8854-7b2e4ac9f0da"
      },
      "execution_count": 192,
      "outputs": [
        {
          "output_type": "execute_result",
          "data": {
            "text/plain": [
              "0.5992427553820356"
            ]
          },
          "metadata": {},
          "execution_count": 192
        }
      ]
    },
    {
      "cell_type": "code",
      "source": [
        "#Correlacion\n",
        "np.corrcoef(array1)"
      ],
      "metadata": {
        "colab": {
          "base_uri": "https://localhost:8080/"
        },
        "id": "0gM_o1VyfGNw",
        "outputId": "afe4b28f-e9ea-426e-f464-48cfa577084c"
      },
      "execution_count": 193,
      "outputs": [
        {
          "output_type": "execute_result",
          "data": {
            "text/plain": [
              "array([[ 1.        , -0.40438985, -0.05305966, -0.40267416,  0.38215205],\n",
              "       [-0.40438985,  1.        , -0.81354619, -0.23585847, -0.54938212],\n",
              "       [-0.05305966, -0.81354619,  1.        ,  0.64688097,  0.67903049],\n",
              "       [-0.40267416, -0.23585847,  0.64688097,  1.        ,  0.63931781],\n",
              "       [ 0.38215205, -0.54938212,  0.67903049,  0.63931781,  1.        ]])"
            ]
          },
          "metadata": {},
          "execution_count": 193
        }
      ]
    },
    {
      "cell_type": "code",
      "source": [
        "#Desviacion\n",
        "np.std(array1)"
      ],
      "metadata": {
        "colab": {
          "base_uri": "https://localhost:8080/"
        },
        "id": "8snFR20RfPev",
        "outputId": "bf86bc40-6450-4cc6-dbee-bfb86ea20908"
      },
      "execution_count": 194,
      "outputs": [
        {
          "output_type": "execute_result",
          "data": {
            "text/plain": [
              "0.30757846336212114"
            ]
          },
          "metadata": {},
          "execution_count": 194
        }
      ]
    },
    {
      "cell_type": "markdown",
      "source": [
        "#Copiando Array"
      ],
      "metadata": {
        "id": "yZSRZqfuoGEU"
      }
    },
    {
      "cell_type": "code",
      "source": [
        "array1 = np.random.randint(21,size=(4,4))\n",
        "array1"
      ],
      "metadata": {
        "colab": {
          "base_uri": "https://localhost:8080/"
        },
        "id": "rs9R4ep4fWw5",
        "outputId": "48b04b62-4662-4d22-f717-07bb7c9f60ce"
      },
      "execution_count": 195,
      "outputs": [
        {
          "output_type": "execute_result",
          "data": {
            "text/plain": [
              "array([[18, 11,  8, 13],\n",
              "       [17,  4, 14,  3],\n",
              "       [ 2, 16,  2, 20],\n",
              "       [ 0, 11,  3, 14]])"
            ]
          },
          "metadata": {},
          "execution_count": 195
        }
      ]
    },
    {
      "cell_type": "code",
      "source": [
        "#Crea una imagen del array, el valor cambiado se refleja en los dos\n",
        "array_cop=array1.view()\n",
        "array_cop"
      ],
      "metadata": {
        "colab": {
          "base_uri": "https://localhost:8080/"
        },
        "id": "RWsAzxSroWU8",
        "outputId": "5b413085-2641-4298-c51d-e55e3eb65b42"
      },
      "execution_count": 196,
      "outputs": [
        {
          "output_type": "execute_result",
          "data": {
            "text/plain": [
              "array([[18, 11,  8, 13],\n",
              "       [17,  4, 14,  3],\n",
              "       [ 2, 16,  2, 20],\n",
              "       [ 0, 11,  3, 14]])"
            ]
          },
          "metadata": {},
          "execution_count": 196
        }
      ]
    },
    {
      "cell_type": "code",
      "source": [
        "np.array_equal(array1,array_cop)"
      ],
      "metadata": {
        "colab": {
          "base_uri": "https://localhost:8080/"
        },
        "id": "BopMudo9pDLM",
        "outputId": "72257f5c-1c9a-4b08-d3ea-715b72bb59f4"
      },
      "execution_count": 197,
      "outputs": [
        {
          "output_type": "execute_result",
          "data": {
            "text/plain": [
              "True"
            ]
          },
          "metadata": {},
          "execution_count": 197
        }
      ]
    },
    {
      "cell_type": "code",
      "source": [
        "#Modifica un valor de la copia\n",
        "array_cop[0,1] = 99\n",
        "array_cop"
      ],
      "metadata": {
        "colab": {
          "base_uri": "https://localhost:8080/"
        },
        "id": "axCSIzotpQML",
        "outputId": "963773aa-17f5-4ac2-929f-dd046010bc12"
      },
      "execution_count": 198,
      "outputs": [
        {
          "output_type": "execute_result",
          "data": {
            "text/plain": [
              "array([[18, 99,  8, 13],\n",
              "       [17,  4, 14,  3],\n",
              "       [ 2, 16,  2, 20],\n",
              "       [ 0, 11,  3, 14]])"
            ]
          },
          "metadata": {},
          "execution_count": 198
        }
      ]
    },
    {
      "cell_type": "code",
      "source": [
        "#Modificamos un valor original\n",
        "array1[1,2] = 88\n",
        "array1"
      ],
      "metadata": {
        "colab": {
          "base_uri": "https://localhost:8080/"
        },
        "id": "JU2VtYLmpgm-",
        "outputId": "0601159c-2b73-4252-dd90-be44322ba69c"
      },
      "execution_count": 199,
      "outputs": [
        {
          "output_type": "execute_result",
          "data": {
            "text/plain": [
              "array([[18, 99,  8, 13],\n",
              "       [17,  4, 88,  3],\n",
              "       [ 2, 16,  2, 20],\n",
              "       [ 0, 11,  3, 14]])"
            ]
          },
          "metadata": {},
          "execution_count": 199
        }
      ]
    },
    {
      "cell_type": "code",
      "source": [
        "array_cop"
      ],
      "metadata": {
        "colab": {
          "base_uri": "https://localhost:8080/"
        },
        "id": "0gbExP-bpnaU",
        "outputId": "d0110dea-b675-444f-9ed0-bc968e7f58f3"
      },
      "execution_count": 200,
      "outputs": [
        {
          "output_type": "execute_result",
          "data": {
            "text/plain": [
              "array([[18, 99,  8, 13],\n",
              "       [17,  4, 88,  3],\n",
              "       [ 2, 16,  2, 20],\n",
              "       [ 0, 11,  3, 14]])"
            ]
          },
          "metadata": {},
          "execution_count": 200
        }
      ]
    },
    {
      "cell_type": "code",
      "source": [
        "#Creamos copia independiente\n",
        "array_cop2 = np.copy(array1)\n",
        "array_cop2"
      ],
      "metadata": {
        "colab": {
          "base_uri": "https://localhost:8080/"
        },
        "id": "kR2ouanop_-3",
        "outputId": "102bf90b-c34b-4580-af38-7f9454a65bfa"
      },
      "execution_count": 201,
      "outputs": [
        {
          "output_type": "execute_result",
          "data": {
            "text/plain": [
              "array([[18, 99,  8, 13],\n",
              "       [17,  4, 88,  3],\n",
              "       [ 2, 16,  2, 20],\n",
              "       [ 0, 11,  3, 14]])"
            ]
          },
          "metadata": {},
          "execution_count": 201
        }
      ]
    },
    {
      "cell_type": "code",
      "source": [
        "array_cop2[2,3] = 77\n",
        "array_cop2"
      ],
      "metadata": {
        "colab": {
          "base_uri": "https://localhost:8080/"
        },
        "id": "vqSeJ3KIqRBV",
        "outputId": "20137ecd-328c-4911-968f-d6a6e7f92ec7"
      },
      "execution_count": 202,
      "outputs": [
        {
          "output_type": "execute_result",
          "data": {
            "text/plain": [
              "array([[18, 99,  8, 13],\n",
              "       [17,  4, 88,  3],\n",
              "       [ 2, 16,  2, 77],\n",
              "       [ 0, 11,  3, 14]])"
            ]
          },
          "metadata": {},
          "execution_count": 202
        }
      ]
    },
    {
      "cell_type": "code",
      "source": [
        "array1"
      ],
      "metadata": {
        "colab": {
          "base_uri": "https://localhost:8080/"
        },
        "id": "9QBlZASJqehd",
        "outputId": "4bed8990-049a-411e-ddae-7ad10a6bcf4a"
      },
      "execution_count": 203,
      "outputs": [
        {
          "output_type": "execute_result",
          "data": {
            "text/plain": [
              "array([[18, 99,  8, 13],\n",
              "       [17,  4, 88,  3],\n",
              "       [ 2, 16,  2, 20],\n",
              "       [ 0, 11,  3, 14]])"
            ]
          },
          "metadata": {},
          "execution_count": 203
        }
      ]
    },
    {
      "cell_type": "code",
      "source": [
        "array_cop2 = array1 * 3\n",
        "array_cop2"
      ],
      "metadata": {
        "colab": {
          "base_uri": "https://localhost:8080/"
        },
        "id": "5aCzynPxqkNR",
        "outputId": "fb4ddbfb-84bf-4da0-da6e-2f51578665c8"
      },
      "execution_count": 204,
      "outputs": [
        {
          "output_type": "execute_result",
          "data": {
            "text/plain": [
              "array([[ 54, 297,  24,  39],\n",
              "       [ 51,  12, 264,   9],\n",
              "       [  6,  48,   6,  60],\n",
              "       [  0,  33,   9,  42]])"
            ]
          },
          "metadata": {},
          "execution_count": 204
        }
      ]
    },
    {
      "cell_type": "code",
      "source": [
        "array_cop2 = array1.copy()\n",
        "array_cop2"
      ],
      "metadata": {
        "colab": {
          "base_uri": "https://localhost:8080/"
        },
        "id": "DirfVmq4q4Cj",
        "outputId": "f8968449-05a7-41b6-a8b9-3a966a0bf65d"
      },
      "execution_count": 206,
      "outputs": [
        {
          "output_type": "execute_result",
          "data": {
            "text/plain": [
              "array([[18, 99,  8, 13],\n",
              "       [17,  4, 88,  3],\n",
              "       [ 2, 16,  2, 20],\n",
              "       [ 0, 11,  3, 14]])"
            ]
          },
          "metadata": {},
          "execution_count": 206
        }
      ]
    },
    {
      "cell_type": "code",
      "source": [
        "np.array_equal(array1,array_cop2)"
      ],
      "metadata": {
        "colab": {
          "base_uri": "https://localhost:8080/"
        },
        "id": "xua-chKB9O6T",
        "outputId": "235a2bb3-5d03-405e-932c-4b1c9123518c"
      },
      "execution_count": 208,
      "outputs": [
        {
          "output_type": "execute_result",
          "data": {
            "text/plain": [
              "True"
            ]
          },
          "metadata": {},
          "execution_count": 208
        }
      ]
    },
    {
      "cell_type": "markdown",
      "source": [
        "#Arrays, ordenamiento"
      ],
      "metadata": {
        "id": "JI-B60Dy9bBx"
      }
    },
    {
      "cell_type": "code",
      "source": [
        "array_1 = np.random.randint(41,size=(10,10))\n",
        "array_1"
      ],
      "metadata": {
        "colab": {
          "base_uri": "https://localhost:8080/"
        },
        "id": "siDE2GIy9W7u",
        "outputId": "484aed9c-7215-4127-8e63-b7a0cb5d3eaa"
      },
      "execution_count": 213,
      "outputs": [
        {
          "output_type": "execute_result",
          "data": {
            "text/plain": [
              "array([[ 3, 17, 26, 23, 15, 20, 33,  6, 28, 40],\n",
              "       [34, 21, 19,  6, 39, 31, 23, 12, 22,  3],\n",
              "       [28, 20, 38,  4, 25, 17,  4,  2, 17, 15],\n",
              "       [23, 31, 26, 22, 38, 19, 16, 14,  9, 25],\n",
              "       [ 3, 23,  6, 10, 23, 20, 33, 29, 17, 23],\n",
              "       [34, 21, 39, 23, 20,  9,  2, 37, 31, 14],\n",
              "       [35, 16, 32, 35, 39, 26, 26, 29, 21, 22],\n",
              "       [40, 39, 18, 17,  5, 29, 38,  6, 36, 39],\n",
              "       [30, 32,  7, 27,  0,  5, 21,  0,  9,  7],\n",
              "       [36, 34,  2, 40, 18, 14, 19, 30, 22,  3]])"
            ]
          },
          "metadata": {},
          "execution_count": 213
        }
      ]
    },
    {
      "cell_type": "code",
      "source": [
        "array_2 = np.random.randint(31,size=(10,10))\n",
        "array_2"
      ],
      "metadata": {
        "colab": {
          "base_uri": "https://localhost:8080/"
        },
        "id": "znFKCiEB9qTf",
        "outputId": "8c8e4fa5-7e4e-43cd-f89e-3d4068c47515"
      },
      "execution_count": 210,
      "outputs": [
        {
          "output_type": "execute_result",
          "data": {
            "text/plain": [
              "array([[16, 23,  7, 15,  7,  6, 15, 22, 14,  3],\n",
              "       [27, 21, 28,  6, 14, 25, 27, 29, 26, 24],\n",
              "       [ 8, 27, 11,  0, 29,  0, 23, 23, 16, 12],\n",
              "       [12,  5, 11, 19, 15,  5, 23,  3, 27,  0],\n",
              "       [15, 19,  8,  4, 12, 20, 26, 16,  9, 20],\n",
              "       [27,  8, 16, 17,  7,  5, 11,  8,  9, 16],\n",
              "       [12,  5, 10, 17,  7, 28, 25, 24, 16, 17],\n",
              "       [ 1,  3, 16, 20, 30,  2, 26,  3, 16, 28],\n",
              "       [ 2,  2,  7,  2, 10, 19, 12, 20, 12, 21],\n",
              "       [12,  3, 26, 11, 18, 16,  6,  6,  2, 15]])"
            ]
          },
          "metadata": {},
          "execution_count": 210
        }
      ]
    },
    {
      "cell_type": "code",
      "source": [
        "array_1"
      ],
      "metadata": {
        "colab": {
          "base_uri": "https://localhost:8080/"
        },
        "id": "TUSAFPf09ysS",
        "outputId": "0ffa0cf7-266b-497c-f7d3-c04e002b1e6c"
      },
      "execution_count": 211,
      "outputs": [
        {
          "output_type": "execute_result",
          "data": {
            "text/plain": [
              "array([[ 9, 13, 14,  5, 27, 39,  4, 18, 22, 38],\n",
              "       [12,  8, 33,  2, 38, 19, 31,  5, 15, 31],\n",
              "       [25, 39, 15, 37,  6, 15, 11, 31,  9,  4],\n",
              "       [15, 10, 39, 26, 40,  6, 12, 25, 11,  1],\n",
              "       [26, 33, 15, 35, 13,  2,  4, 17,  0, 32],\n",
              "       [18, 13, 14, 38, 17, 27, 39, 40, 23,  5],\n",
              "       [38,  3, 29, 31, 16,  2, 13,  6,  5, 12],\n",
              "       [ 3,  4, 23, 39,  1,  6, 34, 38, 37, 16],\n",
              "       [28, 18, 28, 16, 12, 16, 15, 27, 38, 38],\n",
              "       [ 5,  6, 11, 29, 31, 30, 35, 14,  1, 28]])"
            ]
          },
          "metadata": {},
          "execution_count": 211
        }
      ]
    },
    {
      "cell_type": "code",
      "source": [
        "array_1.sort()\n",
        "array_1"
      ],
      "metadata": {
        "colab": {
          "base_uri": "https://localhost:8080/"
        },
        "id": "m6rGfEmR93-j",
        "outputId": "b1f0c60a-423a-440f-a01f-f1c5194f7801"
      },
      "execution_count": 212,
      "outputs": [
        {
          "output_type": "execute_result",
          "data": {
            "text/plain": [
              "array([[ 4,  5,  9, 13, 14, 18, 22, 27, 38, 39],\n",
              "       [ 2,  5,  8, 12, 15, 19, 31, 31, 33, 38],\n",
              "       [ 4,  6,  9, 11, 15, 15, 25, 31, 37, 39],\n",
              "       [ 1,  6, 10, 11, 12, 15, 25, 26, 39, 40],\n",
              "       [ 0,  2,  4, 13, 15, 17, 26, 32, 33, 35],\n",
              "       [ 5, 13, 14, 17, 18, 23, 27, 38, 39, 40],\n",
              "       [ 2,  3,  5,  6, 12, 13, 16, 29, 31, 38],\n",
              "       [ 1,  3,  4,  6, 16, 23, 34, 37, 38, 39],\n",
              "       [12, 15, 16, 16, 18, 27, 28, 28, 38, 38],\n",
              "       [ 1,  5,  6, 11, 14, 28, 29, 30, 31, 35]])"
            ]
          },
          "metadata": {},
          "execution_count": 212
        }
      ]
    },
    {
      "cell_type": "code",
      "source": [
        "#Ordena por fila\n",
        "array_1.sort(axis=1)\n",
        "array_1"
      ],
      "metadata": {
        "colab": {
          "base_uri": "https://localhost:8080/"
        },
        "id": "hTXi-6UR99UJ",
        "outputId": "7885fd96-2fc9-4fca-d7da-dff3142dcaa7"
      },
      "execution_count": 214,
      "outputs": [
        {
          "output_type": "execute_result",
          "data": {
            "text/plain": [
              "array([[ 3,  6, 15, 17, 20, 23, 26, 28, 33, 40],\n",
              "       [ 3,  6, 12, 19, 21, 22, 23, 31, 34, 39],\n",
              "       [ 2,  4,  4, 15, 17, 17, 20, 25, 28, 38],\n",
              "       [ 9, 14, 16, 19, 22, 23, 25, 26, 31, 38],\n",
              "       [ 3,  6, 10, 17, 20, 23, 23, 23, 29, 33],\n",
              "       [ 2,  9, 14, 20, 21, 23, 31, 34, 37, 39],\n",
              "       [16, 21, 22, 26, 26, 29, 32, 35, 35, 39],\n",
              "       [ 5,  6, 17, 18, 29, 36, 38, 39, 39, 40],\n",
              "       [ 0,  0,  5,  7,  7,  9, 21, 27, 30, 32],\n",
              "       [ 2,  3, 14, 18, 19, 22, 30, 34, 36, 40]])"
            ]
          },
          "metadata": {},
          "execution_count": 214
        }
      ]
    },
    {
      "cell_type": "code",
      "source": [
        "#Ordena por columna\n",
        "array_2.sort(axis=0)\n",
        "array_2"
      ],
      "metadata": {
        "colab": {
          "base_uri": "https://localhost:8080/"
        },
        "id": "zbVn_ga--eHp",
        "outputId": "a2abb200-d92b-40ff-e437-f3668c8f1d40"
      },
      "execution_count": 216,
      "outputs": [
        {
          "output_type": "execute_result",
          "data": {
            "text/plain": [
              "array([[ 1,  2,  7,  0,  7,  0,  6,  3,  2,  0],\n",
              "       [ 2,  3,  7,  2,  7,  2, 11,  3,  9,  3],\n",
              "       [ 8,  3,  8,  4,  7,  5, 12,  6,  9, 12],\n",
              "       [12,  5, 10,  6, 10,  5, 15,  8, 12, 15],\n",
              "       [12,  5, 11, 11, 12,  6, 23, 16, 14, 16],\n",
              "       [12,  8, 11, 15, 14, 16, 23, 20, 16, 17],\n",
              "       [15, 19, 16, 17, 15, 19, 25, 22, 16, 20],\n",
              "       [16, 21, 16, 17, 18, 20, 26, 23, 16, 21],\n",
              "       [27, 23, 26, 19, 29, 25, 26, 24, 26, 24],\n",
              "       [27, 27, 28, 20, 30, 28, 27, 29, 27, 28]])"
            ]
          },
          "metadata": {},
          "execution_count": 216
        }
      ]
    },
    {
      "cell_type": "code",
      "source": [],
      "metadata": {
        "id": "-bJRcER4-kw0"
      },
      "execution_count": null,
      "outputs": []
    }
  ]
}