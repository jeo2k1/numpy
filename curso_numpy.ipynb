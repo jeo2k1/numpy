{
  "nbformat": 4,
  "nbformat_minor": 0,
  "metadata": {
    "colab": {
      "provenance": [],
      "authorship_tag": "ABX9TyMd4RXmk/RV25bYb0mELSyZ",
      "include_colab_link": true
    },
    "kernelspec": {
      "name": "python3",
      "display_name": "Python 3"
    },
    "language_info": {
      "name": "python"
    }
  },
  "cells": [
    {
      "cell_type": "markdown",
      "metadata": {
        "id": "view-in-github",
        "colab_type": "text"
      },
      "source": [
        "<a href=\"https://colab.research.google.com/github/jeo2k1/numpy/blob/main/curso_numpy.ipynb\" target=\"_parent\"><img src=\"https://colab.research.google.com/assets/colab-badge.svg\" alt=\"Open In Colab\"/></a>"
      ]
    },
    {
      "cell_type": "markdown",
      "source": [
        "#Numpy Libreria para Ciencia de Datos"
      ],
      "metadata": {
        "id": "KXoUuWyXek9K"
      }
    },
    {
      "cell_type": "code",
      "execution_count": 1,
      "metadata": {
        "id": "O7UhfQVYeiC2"
      },
      "outputs": [],
      "source": [
        "import numpy as np"
      ]
    },
    {
      "cell_type": "code",
      "source": [
        "def crearArray(fila,columna):\n",
        "  array = np.random.random((fila,columna))\n",
        "  return array"
      ],
      "metadata": {
        "id": "SCjEJJzMbPgS"
      },
      "execution_count": 2,
      "outputs": []
    },
    {
      "cell_type": "code",
      "source": [
        "array_1d=np.array([1,4,3])\n"
      ],
      "metadata": {
        "id": "1S-OcmEgieYJ"
      },
      "execution_count": 3,
      "outputs": []
    },
    {
      "cell_type": "code",
      "source": [
        "array_1d"
      ],
      "metadata": {
        "colab": {
          "base_uri": "https://localhost:8080/"
        },
        "id": "ZFdUnoLHjMBJ",
        "outputId": "15d17ecf-de06-47c2-dd47-375e17f9eb2c"
      },
      "execution_count": 4,
      "outputs": [
        {
          "output_type": "execute_result",
          "data": {
            "text/plain": [
              "array([1, 4, 3])"
            ]
          },
          "metadata": {},
          "execution_count": 4
        }
      ]
    },
    {
      "cell_type": "code",
      "source": [
        "array_2d=np.array([(1,4,2),(5,2,3)])\n",
        "array_2d"
      ],
      "metadata": {
        "colab": {
          "base_uri": "https://localhost:8080/"
        },
        "id": "R_mAcxiOjapg",
        "outputId": "366c979c-63ae-4d51-ea78-740bf8023517"
      },
      "execution_count": 5,
      "outputs": [
        {
          "output_type": "execute_result",
          "data": {
            "text/plain": [
              "array([[1, 4, 2],\n",
              "       [5, 2, 3]])"
            ]
          },
          "metadata": {},
          "execution_count": 5
        }
      ]
    },
    {
      "cell_type": "code",
      "source": [
        "array_3d=np.array([[(1.6,4.5,2),(1,5.8,9)],[(7,5,9.3),(8,1.4,3)],[(3,5,3),(7,2,9)]],dtype=float)\n",
        "array_3d"
      ],
      "metadata": {
        "colab": {
          "base_uri": "https://localhost:8080/"
        },
        "id": "ouyBnL38jxfL",
        "outputId": "c2761365-9da5-4d9b-ed81-2cefc285fe11"
      },
      "execution_count": 6,
      "outputs": [
        {
          "output_type": "execute_result",
          "data": {
            "text/plain": [
              "array([[[1.6, 4.5, 2. ],\n",
              "        [1. , 5.8, 9. ]],\n",
              "\n",
              "       [[7. , 5. , 9.3],\n",
              "        [8. , 1.4, 3. ]],\n",
              "\n",
              "       [[3. , 5. , 3. ],\n",
              "        [7. , 2. , 9. ]]])"
            ]
          },
          "metadata": {},
          "execution_count": 6
        }
      ]
    },
    {
      "cell_type": "markdown",
      "source": [
        "# Creando Arrays"
      ],
      "metadata": {
        "id": "8plVfTheBqj5"
      }
    },
    {
      "cell_type": "code",
      "source": [
        "# de ceros con 3 filas 4 columnas\n",
        "array_ceros=np.zeros((3,4))\n",
        "array_ceros"
      ],
      "metadata": {
        "id": "qtd65UI3lMO-",
        "colab": {
          "base_uri": "https://localhost:8080/"
        },
        "outputId": "92a1d95f-fe36-4fca-d903-8c340e952d3a"
      },
      "execution_count": 7,
      "outputs": [
        {
          "output_type": "execute_result",
          "data": {
            "text/plain": [
              "array([[0., 0., 0., 0.],\n",
              "       [0., 0., 0., 0.],\n",
              "       [0., 0., 0., 0.]])"
            ]
          },
          "metadata": {},
          "execution_count": 7
        }
      ]
    },
    {
      "cell_type": "code",
      "source": [
        "# de unos con 2 dimensiones 4 filas y 5 columnas\n",
        "np.ones((2,4,5))"
      ],
      "metadata": {
        "colab": {
          "base_uri": "https://localhost:8080/"
        },
        "id": "bfpkH-EqIvzL",
        "outputId": "81af7b42-0a3c-4e85-cebe-93f54eb6042d"
      },
      "execution_count": 8,
      "outputs": [
        {
          "output_type": "execute_result",
          "data": {
            "text/plain": [
              "array([[[1., 1., 1., 1., 1.],\n",
              "        [1., 1., 1., 1., 1.],\n",
              "        [1., 1., 1., 1., 1.],\n",
              "        [1., 1., 1., 1., 1.]],\n",
              "\n",
              "       [[1., 1., 1., 1., 1.],\n",
              "        [1., 1., 1., 1., 1.],\n",
              "        [1., 1., 1., 1., 1.],\n",
              "        [1., 1., 1., 1., 1.]]])"
            ]
          },
          "metadata": {},
          "execution_count": 8
        }
      ]
    },
    {
      "cell_type": "code",
      "source": [
        "# intervalos y saltos\n",
        "np.arange(12,30,2)"
      ],
      "metadata": {
        "colab": {
          "base_uri": "https://localhost:8080/"
        },
        "id": "aHmj-yGNRS6G",
        "outputId": "47c55849-4104-4ca0-aeb3-ed12890f7ad4"
      },
      "execution_count": 9,
      "outputs": [
        {
          "output_type": "execute_result",
          "data": {
            "text/plain": [
              "array([12, 14, 16, 18, 20, 22, 24, 26, 28])"
            ]
          },
          "metadata": {},
          "execution_count": 9
        }
      ]
    },
    {
      "cell_type": "code",
      "source": [
        "# intervalo y divisiones\n",
        "np.linspace(0,4,7)"
      ],
      "metadata": {
        "colab": {
          "base_uri": "https://localhost:8080/"
        },
        "id": "-gaeFN0DRZkh",
        "outputId": "fa263078-0c06-4ab3-dfc5-c39aa22b848c"
      },
      "execution_count": 10,
      "outputs": [
        {
          "output_type": "execute_result",
          "data": {
            "text/plain": [
              "array([0.        , 0.66666667, 1.33333333, 2.        , 2.66666667,\n",
              "       3.33333333, 4.        ])"
            ]
          },
          "metadata": {},
          "execution_count": 10
        }
      ]
    },
    {
      "cell_type": "code",
      "source": [
        "#Valor dado\n",
        "np.full((3,3),8)"
      ],
      "metadata": {
        "id": "T2RU9IrRRyUV",
        "colab": {
          "base_uri": "https://localhost:8080/"
        },
        "outputId": "f8143ba5-4d5d-479c-df3d-f5bae2215fb6"
      },
      "execution_count": 11,
      "outputs": [
        {
          "output_type": "execute_result",
          "data": {
            "text/plain": [
              "array([[8, 8, 8],\n",
              "       [8, 8, 8],\n",
              "       [8, 8, 8]])"
            ]
          },
          "metadata": {},
          "execution_count": 11
        }
      ]
    },
    {
      "cell_type": "code",
      "source": [
        "#Matriz identidad, diagonal de unos\n",
        "np.eye(3)"
      ],
      "metadata": {
        "colab": {
          "base_uri": "https://localhost:8080/"
        },
        "id": "M-JYiq4AnGuM",
        "outputId": "3783fa66-460e-4c31-ed97-9967016eacbb"
      },
      "execution_count": 12,
      "outputs": [
        {
          "output_type": "execute_result",
          "data": {
            "text/plain": [
              "array([[1., 0., 0.],\n",
              "       [0., 1., 0.],\n",
              "       [0., 0., 1.]])"
            ]
          },
          "metadata": {},
          "execution_count": 12
        }
      ]
    },
    {
      "cell_type": "code",
      "source": [
        "#Valores aleatorios entre 0 y 1\n",
        "np.random.random((4,4))"
      ],
      "metadata": {
        "colab": {
          "base_uri": "https://localhost:8080/"
        },
        "id": "9VybHHdRnU06",
        "outputId": "fce7bfb4-3192-4604-85f8-dd30004106d0"
      },
      "execution_count": 13,
      "outputs": [
        {
          "output_type": "execute_result",
          "data": {
            "text/plain": [
              "array([[0.66614242, 0.81201649, 0.19541294, 0.90193558],\n",
              "       [0.15066015, 0.80954992, 0.3134563 , 0.17126769],\n",
              "       [0.30757244, 0.4410716 , 0.45596579, 0.20707935],\n",
              "       [0.39602921, 0.93166394, 0.58385605, 0.65892513]])"
            ]
          },
          "metadata": {},
          "execution_count": 13
        }
      ]
    },
    {
      "cell_type": "code",
      "source": [
        "#Vacio de 4 filas y 3 columnas\n",
        "np.empty((4,3))"
      ],
      "metadata": {
        "colab": {
          "base_uri": "https://localhost:8080/"
        },
        "id": "geP4YC1MngX2",
        "outputId": "e44d9502-04a1-4302-8aa2-b33c08685fb2"
      },
      "execution_count": 14,
      "outputs": [
        {
          "output_type": "execute_result",
          "data": {
            "text/plain": [
              "array([[0., 0., 0.],\n",
              "       [0., 0., 0.],\n",
              "       [0., 0., 0.],\n",
              "       [0., 0., 0.]])"
            ]
          },
          "metadata": {},
          "execution_count": 14
        }
      ]
    },
    {
      "cell_type": "markdown",
      "source": [
        "#Grabar y cargar"
      ],
      "metadata": {
        "id": "1lAmI-CyuDUR"
      }
    },
    {
      "cell_type": "code",
      "source": [
        "#Grabar\n",
        "#np.save('mi_array', np.random.random((3,3)))\n",
        "np.save('mi_array_3d', array_3d)"
      ],
      "metadata": {
        "id": "wM1kGCmHns5z"
      },
      "execution_count": 15,
      "outputs": []
    },
    {
      "cell_type": "code",
      "source": [
        "#Cargar\n",
        "mi_array=np.load('mi_array_3d.npy')\n",
        "mi_array"
      ],
      "metadata": {
        "colab": {
          "base_uri": "https://localhost:8080/"
        },
        "id": "SWHquOknuTp2",
        "outputId": "b9ced7e9-df5e-48a3-b856-9a6043d971da"
      },
      "execution_count": 16,
      "outputs": [
        {
          "output_type": "execute_result",
          "data": {
            "text/plain": [
              "array([[[1.6, 4.5, 2. ],\n",
              "        [1. , 5.8, 9. ]],\n",
              "\n",
              "       [[7. , 5. , 9.3],\n",
              "        [8. , 1.4, 3. ]],\n",
              "\n",
              "       [[3. , 5. , 3. ],\n",
              "        [7. , 2. , 9. ]]])"
            ]
          },
          "metadata": {},
          "execution_count": 16
        }
      ]
    },
    {
      "cell_type": "code",
      "source": [
        "#Grabar a fichero de texto\n",
        "np.savetxt('mi_array.txt',array_2d,delimiter=\" \")"
      ],
      "metadata": {
        "id": "uDiBzapKuhtd"
      },
      "execution_count": 17,
      "outputs": []
    },
    {
      "cell_type": "code",
      "source": [
        "#Cargar de fichero de texto\n",
        "array_2d=np.loadtxt('mi_array.txt')\n",
        "array_2d"
      ],
      "metadata": {
        "colab": {
          "base_uri": "https://localhost:8080/"
        },
        "id": "Pb7Kc0Zmw3tg",
        "outputId": "65df32ea-93e2-43dc-ecf3-a201078b1092"
      },
      "execution_count": 18,
      "outputs": [
        {
          "output_type": "execute_result",
          "data": {
            "text/plain": [
              "array([[1., 4., 2.],\n",
              "       [5., 2., 3.]])"
            ]
          },
          "metadata": {},
          "execution_count": 18
        }
      ]
    },
    {
      "cell_type": "markdown",
      "source": [
        "#Tipo de datos"
      ],
      "metadata": {
        "id": "RqJKzkpqCLtZ"
      }
    },
    {
      "cell_type": "code",
      "source": [
        "#Entero\n",
        "np.int64"
      ],
      "metadata": {
        "colab": {
          "base_uri": "https://localhost:8080/"
        },
        "id": "xjRjHP7FyvSb",
        "outputId": "8d7cbeae-73f8-46b4-e5ce-1482b02eefec"
      },
      "execution_count": 19,
      "outputs": [
        {
          "output_type": "execute_result",
          "data": {
            "text/plain": [
              "numpy.int64"
            ]
          },
          "metadata": {},
          "execution_count": 19
        }
      ]
    },
    {
      "cell_type": "code",
      "source": [
        "#Decimal, numero doble prescision o de punto flotante\n",
        "np.float64"
      ],
      "metadata": {
        "colab": {
          "base_uri": "https://localhost:8080/"
        },
        "id": "W0WfAYkZCSg0",
        "outputId": "21ef3719-19b0-4780-cbb6-1a5aa1e0d9ce"
      },
      "execution_count": 20,
      "outputs": [
        {
          "output_type": "execute_result",
          "data": {
            "text/plain": [
              "numpy.float64"
            ]
          },
          "metadata": {},
          "execution_count": 20
        }
      ]
    },
    {
      "cell_type": "code",
      "source": [
        "#Complejos\n",
        "np.complex_"
      ],
      "metadata": {
        "colab": {
          "base_uri": "https://localhost:8080/"
        },
        "id": "zf1VSrdgCjy0",
        "outputId": "15aff4ed-976e-40f4-a07a-e29c424102d2"
      },
      "execution_count": 21,
      "outputs": [
        {
          "output_type": "execute_result",
          "data": {
            "text/plain": [
              "numpy.complex128"
            ]
          },
          "metadata": {},
          "execution_count": 21
        }
      ]
    },
    {
      "cell_type": "code",
      "source": [
        "#Booleanos\n",
        "np.bool_"
      ],
      "metadata": {
        "colab": {
          "base_uri": "https://localhost:8080/"
        },
        "id": "vaHHnvmvCs52",
        "outputId": "5f5821a7-ea3c-4c8f-e0fe-8ac088e6bfc7"
      },
      "execution_count": 22,
      "outputs": [
        {
          "output_type": "execute_result",
          "data": {
            "text/plain": [
              "numpy.bool_"
            ]
          },
          "metadata": {},
          "execution_count": 22
        }
      ]
    },
    {
      "cell_type": "code",
      "source": [
        "#Objetos\n",
        "np.object_"
      ],
      "metadata": {
        "colab": {
          "base_uri": "https://localhost:8080/"
        },
        "id": "U8-jlOPsCxZR",
        "outputId": "2c041566-58ed-4093-d256-6a4dcfb0c85a"
      },
      "execution_count": 23,
      "outputs": [
        {
          "output_type": "execute_result",
          "data": {
            "text/plain": [
              "numpy.object_"
            ]
          },
          "metadata": {},
          "execution_count": 23
        }
      ]
    },
    {
      "cell_type": "code",
      "source": [
        "#Cadenas\n",
        "np.string_"
      ],
      "metadata": {
        "colab": {
          "base_uri": "https://localhost:8080/"
        },
        "id": "AlUpg4zDDBC-",
        "outputId": "e519a9d2-1a6f-4d62-d1be-2871fbb5d8bc"
      },
      "execution_count": 24,
      "outputs": [
        {
          "output_type": "execute_result",
          "data": {
            "text/plain": [
              "numpy.bytes_"
            ]
          },
          "metadata": {},
          "execution_count": 24
        }
      ]
    },
    {
      "cell_type": "code",
      "source": [
        "np.unicode_"
      ],
      "metadata": {
        "colab": {
          "base_uri": "https://localhost:8080/"
        },
        "id": "YXmbbszyDE1W",
        "outputId": "ac737d11-8b96-4e7a-8f30-da35503ffa4b"
      },
      "execution_count": 25,
      "outputs": [
        {
          "output_type": "execute_result",
          "data": {
            "text/plain": [
              "numpy.str_"
            ]
          },
          "metadata": {},
          "execution_count": 25
        }
      ]
    },
    {
      "cell_type": "markdown",
      "source": [
        "#Propiedades y caracteristicas"
      ],
      "metadata": {
        "id": "Asa5tzZYDX5V"
      }
    },
    {
      "cell_type": "code",
      "source": [
        "array_3d"
      ],
      "metadata": {
        "colab": {
          "base_uri": "https://localhost:8080/"
        },
        "id": "M-q-ptp5DHWk",
        "outputId": "ff281c1e-cb7a-4054-907b-46ad356aeed1"
      },
      "execution_count": 26,
      "outputs": [
        {
          "output_type": "execute_result",
          "data": {
            "text/plain": [
              "array([[[1.6, 4.5, 2. ],\n",
              "        [1. , 5.8, 9. ]],\n",
              "\n",
              "       [[7. , 5. , 9.3],\n",
              "        [8. , 1.4, 3. ]],\n",
              "\n",
              "       [[3. , 5. , 3. ],\n",
              "        [7. , 2. , 9. ]]])"
            ]
          },
          "metadata": {},
          "execution_count": 26
        }
      ]
    },
    {
      "cell_type": "code",
      "source": [
        "#Dimension o forma\n",
        "array_3d.shape"
      ],
      "metadata": {
        "colab": {
          "base_uri": "https://localhost:8080/"
        },
        "id": "ovMQM9thDc2i",
        "outputId": "c3e06631-1141-4b59-f3b5-144a2300fee6"
      },
      "execution_count": 27,
      "outputs": [
        {
          "output_type": "execute_result",
          "data": {
            "text/plain": [
              "(3, 2, 3)"
            ]
          },
          "metadata": {},
          "execution_count": 27
        }
      ]
    },
    {
      "cell_type": "code",
      "source": [
        "#Longitud\n",
        "len(array_3d)"
      ],
      "metadata": {
        "colab": {
          "base_uri": "https://localhost:8080/"
        },
        "id": "g7f1AG8RDsmn",
        "outputId": "9cb82103-bef4-4b88-d1f7-eeebc477532f"
      },
      "execution_count": 28,
      "outputs": [
        {
          "output_type": "execute_result",
          "data": {
            "text/plain": [
              "3"
            ]
          },
          "metadata": {},
          "execution_count": 28
        }
      ]
    },
    {
      "cell_type": "code",
      "source": [
        "#Numero de dimensiones\n",
        "array_3d.ndim"
      ],
      "metadata": {
        "colab": {
          "base_uri": "https://localhost:8080/"
        },
        "id": "yVmxDiwhD5nK",
        "outputId": "77c77377-1447-4402-e92f-07aed3e0ecdb"
      },
      "execution_count": 29,
      "outputs": [
        {
          "output_type": "execute_result",
          "data": {
            "text/plain": [
              "3"
            ]
          },
          "metadata": {},
          "execution_count": 29
        }
      ]
    },
    {
      "cell_type": "code",
      "source": [
        "#Tamaño o numero de elementos\n",
        "array_3d.size"
      ],
      "metadata": {
        "colab": {
          "base_uri": "https://localhost:8080/"
        },
        "id": "Fg9O5BXtEAxY",
        "outputId": "0e8d4e9b-81cc-45d6-9fe9-c45e70b81881"
      },
      "execution_count": 30,
      "outputs": [
        {
          "output_type": "execute_result",
          "data": {
            "text/plain": [
              "18"
            ]
          },
          "metadata": {},
          "execution_count": 30
        }
      ]
    },
    {
      "cell_type": "code",
      "source": [
        "#Tipo de datos en el array"
      ],
      "metadata": {
        "id": "2JmRLlUxEIfr"
      },
      "execution_count": 31,
      "outputs": []
    },
    {
      "cell_type": "code",
      "source": [
        "array_3d.dtype"
      ],
      "metadata": {
        "colab": {
          "base_uri": "https://localhost:8080/"
        },
        "id": "CLJj5OhPEUKm",
        "outputId": "9466105c-9a64-467e-985f-428c3f8e6b8f"
      },
      "execution_count": 32,
      "outputs": [
        {
          "output_type": "execute_result",
          "data": {
            "text/plain": [
              "dtype('float64')"
            ]
          },
          "metadata": {},
          "execution_count": 32
        }
      ]
    },
    {
      "cell_type": "code",
      "source": [
        "array_3d.dtype.name"
      ],
      "metadata": {
        "colab": {
          "base_uri": "https://localhost:8080/",
          "height": 35
        },
        "id": "v5KDK4bfEWU-",
        "outputId": "06ba0b36-bcf8-4bd4-9dc3-ffb5f6dc4e23"
      },
      "execution_count": 33,
      "outputs": [
        {
          "output_type": "execute_result",
          "data": {
            "text/plain": [
              "'float64'"
            ],
            "application/vnd.google.colaboratory.intrinsic+json": {
              "type": "string"
            }
          },
          "metadata": {},
          "execution_count": 33
        }
      ]
    },
    {
      "cell_type": "code",
      "source": [
        "#Convertir de un tipo a otro\n",
        "array_3d.astype(int)"
      ],
      "metadata": {
        "colab": {
          "base_uri": "https://localhost:8080/"
        },
        "id": "bBY2s1EvEfpe",
        "outputId": "581f0bb3-f327-4657-c592-29c64065d2ef"
      },
      "execution_count": 34,
      "outputs": [
        {
          "output_type": "execute_result",
          "data": {
            "text/plain": [
              "array([[[1, 4, 2],\n",
              "        [1, 5, 9]],\n",
              "\n",
              "       [[7, 5, 9],\n",
              "        [8, 1, 3]],\n",
              "\n",
              "       [[3, 5, 3],\n",
              "        [7, 2, 9]]])"
            ]
          },
          "metadata": {},
          "execution_count": 34
        }
      ]
    },
    {
      "cell_type": "markdown",
      "source": [
        "#Ayuda"
      ],
      "metadata": {
        "id": "gr2r1fnoEzCc"
      }
    },
    {
      "cell_type": "code",
      "source": [
        "np.info(np.ndarray.dtype)"
      ],
      "metadata": {
        "id": "5szA_uyjE6hz"
      },
      "execution_count": 35,
      "outputs": []
    },
    {
      "cell_type": "markdown",
      "source": [
        "#Operadores Aritmeticos"
      ],
      "metadata": {
        "id": "G_GTWxVYXlSR"
      }
    },
    {
      "cell_type": "code",
      "source": [
        "#Arrays de ejemplos\n",
        "array1=np.random.random((4,4))\n",
        "array1"
      ],
      "metadata": {
        "id": "5e1jOfmsFf9s",
        "colab": {
          "base_uri": "https://localhost:8080/"
        },
        "outputId": "d3bc41f7-c7b5-4304-887d-db975fd6614d"
      },
      "execution_count": 36,
      "outputs": [
        {
          "output_type": "execute_result",
          "data": {
            "text/plain": [
              "array([[0.39775752, 0.02126087, 0.72544555, 0.37098724],\n",
              "       [0.96398912, 0.25864098, 0.69644857, 0.56048177],\n",
              "       [0.98976826, 0.9261329 , 0.22789837, 0.7931245 ],\n",
              "       [0.28016281, 0.54308641, 0.36529116, 0.05838893]])"
            ]
          },
          "metadata": {},
          "execution_count": 36
        }
      ]
    },
    {
      "cell_type": "code",
      "source": [
        "array2=np.random.random((4,4))\n",
        "array2"
      ],
      "metadata": {
        "colab": {
          "base_uri": "https://localhost:8080/"
        },
        "id": "gigXkQHhX6NP",
        "outputId": "a3b92124-8ac9-440d-9acc-a578b362ccc1"
      },
      "execution_count": 37,
      "outputs": [
        {
          "output_type": "execute_result",
          "data": {
            "text/plain": [
              "array([[0.64555423, 0.77765045, 0.27773173, 0.85630742],\n",
              "       [0.39345136, 0.08688182, 0.75174338, 0.02057475],\n",
              "       [0.48204399, 0.25265876, 0.35079332, 0.81730467],\n",
              "       [0.24917236, 0.38959481, 0.32989091, 0.97301296]])"
            ]
          },
          "metadata": {},
          "execution_count": 37
        }
      ]
    },
    {
      "cell_type": "code",
      "source": [
        "from numpy.core.arrayprint import array2string\n",
        "#Suma\n",
        "array3 = array1 + array2\n",
        "array3"
      ],
      "metadata": {
        "colab": {
          "base_uri": "https://localhost:8080/"
        },
        "id": "D_YnsKihYL-L",
        "outputId": "41f03ba1-85e3-4d9e-8379-ac3fd023c948"
      },
      "execution_count": 38,
      "outputs": [
        {
          "output_type": "execute_result",
          "data": {
            "text/plain": [
              "array([[1.04331175, 0.79891132, 1.00317728, 1.22729466],\n",
              "       [1.35744047, 0.3455228 , 1.44819195, 0.58105651],\n",
              "       [1.47181224, 1.17879165, 0.57869168, 1.61042917],\n",
              "       [0.52933517, 0.93268122, 0.69518208, 1.03140188]])"
            ]
          },
          "metadata": {},
          "execution_count": 38
        }
      ]
    },
    {
      "cell_type": "code",
      "source": [
        "#Otra opcion de sumar\n",
        "array3 = np.add(array1,array2)\n",
        "array3"
      ],
      "metadata": {
        "colab": {
          "base_uri": "https://localhost:8080/"
        },
        "id": "jETqAo_zYT_C",
        "outputId": "e271936d-4b9f-44e4-c88a-4234afc66f55"
      },
      "execution_count": 39,
      "outputs": [
        {
          "output_type": "execute_result",
          "data": {
            "text/plain": [
              "array([[1.04331175, 0.79891132, 1.00317728, 1.22729466],\n",
              "       [1.35744047, 0.3455228 , 1.44819195, 0.58105651],\n",
              "       [1.47181224, 1.17879165, 0.57869168, 1.61042917],\n",
              "       [0.52933517, 0.93268122, 0.69518208, 1.03140188]])"
            ]
          },
          "metadata": {},
          "execution_count": 39
        }
      ]
    },
    {
      "cell_type": "code",
      "source": [
        "#Resta\n",
        "array3 = array1 - array2\n",
        "array3"
      ],
      "metadata": {
        "colab": {
          "base_uri": "https://localhost:8080/"
        },
        "id": "aXFARrVyYeeg",
        "outputId": "82023766-955c-4aac-ed3c-1ba835a3fcaf"
      },
      "execution_count": 40,
      "outputs": [
        {
          "output_type": "execute_result",
          "data": {
            "text/plain": [
              "array([[-0.24779671, -0.75638958,  0.44771382, -0.48532019],\n",
              "       [ 0.57053776,  0.17175915, -0.05529482,  0.53990702],\n",
              "       [ 0.50772427,  0.67347414, -0.12289495, -0.02418016],\n",
              "       [ 0.03099045,  0.1534916 ,  0.03540025, -0.91462403]])"
            ]
          },
          "metadata": {},
          "execution_count": 40
        }
      ]
    },
    {
      "cell_type": "code",
      "source": [
        "#Multiplicacion\n",
        "array3 = np.multiply(array1,array2)\n",
        "array3"
      ],
      "metadata": {
        "colab": {
          "base_uri": "https://localhost:8080/"
        },
        "id": "X-VYS3b_Yp7s",
        "outputId": "310ec7b7-bffb-41ce-ad83-d09c25fcb4b0"
      },
      "execution_count": 41,
      "outputs": [
        {
          "output_type": "execute_result",
          "data": {
            "text/plain": [
              "array([[0.25677405, 0.01653352, 0.20147925, 0.31767912],\n",
              "       [0.37928282, 0.0224712 , 0.5235506 , 0.01153177],\n",
              "       [0.47711184, 0.23399559, 0.07994522, 0.64822436],\n",
              "       [0.06980883, 0.21158365, 0.12050624, 0.05681318]])"
            ]
          },
          "metadata": {},
          "execution_count": 41
        }
      ]
    },
    {
      "cell_type": "code",
      "source": [
        "#Division\n",
        "array3 = array1/array2\n",
        "array3"
      ],
      "metadata": {
        "colab": {
          "base_uri": "https://localhost:8080/"
        },
        "id": "8NutxOi-Y1CY",
        "outputId": "fa30d8e3-321d-4473-95b0-f2603e284fbb"
      },
      "execution_count": 42,
      "outputs": [
        {
          "output_type": "execute_result",
          "data": {
            "text/plain": [
              "array([[ 0.61614889,  0.02733988,  2.61203697,  0.43324071],\n",
              "       [ 2.45008462,  2.97692849,  0.92644456, 27.24124937],\n",
              "       [ 2.05327374,  3.66554835,  0.64966565,  0.97041475],\n",
              "       [ 1.12437357,  1.39397752,  1.10730895,  0.06000838]])"
            ]
          },
          "metadata": {},
          "execution_count": 42
        }
      ]
    },
    {
      "cell_type": "code",
      "source": [
        "#Otra forma de dividir\n",
        "array3 = np.divide(array1,array2)\n",
        "array3"
      ],
      "metadata": {
        "colab": {
          "base_uri": "https://localhost:8080/"
        },
        "id": "HQYiRUObY7h1",
        "outputId": "94fdd1e0-b41f-4808-bfda-78bb611f4753"
      },
      "execution_count": 43,
      "outputs": [
        {
          "output_type": "execute_result",
          "data": {
            "text/plain": [
              "array([[ 0.61614889,  0.02733988,  2.61203697,  0.43324071],\n",
              "       [ 2.45008462,  2.97692849,  0.92644456, 27.24124937],\n",
              "       [ 2.05327374,  3.66554835,  0.64966565,  0.97041475],\n",
              "       [ 1.12437357,  1.39397752,  1.10730895,  0.06000838]])"
            ]
          },
          "metadata": {},
          "execution_count": 43
        }
      ]
    },
    {
      "cell_type": "code",
      "source": [
        "#Exponencial\n",
        "np.exp(array1)"
      ],
      "metadata": {
        "colab": {
          "base_uri": "https://localhost:8080/"
        },
        "id": "CRRr0Nb-ZHMq",
        "outputId": "f0b0a4cc-7d5e-4509-a364-355cf1da504d"
      },
      "execution_count": 44,
      "outputs": [
        {
          "output_type": "execute_result",
          "data": {
            "text/plain": [
              "array([[1.48848306, 1.02148849, 2.06565125, 1.44916458],\n",
              "       [2.62213564, 1.29516873, 2.00661368, 1.75151612],\n",
              "       [2.69061087, 2.52472689, 1.25595767, 2.21029171],\n",
              "       [1.32334525, 1.72131135, 1.44093349, 1.06012723]])"
            ]
          },
          "metadata": {},
          "execution_count": 44
        }
      ]
    },
    {
      "cell_type": "code",
      "source": [
        "#Seno\n",
        "np.sin(array1)"
      ],
      "metadata": {
        "colab": {
          "base_uri": "https://localhost:8080/"
        },
        "id": "lBWGlcAVZi-N",
        "outputId": "652ca7c0-1840-433f-a38c-21d66ac6bd83"
      },
      "execution_count": 45,
      "outputs": [
        {
          "output_type": "execute_result",
          "data": {
            "text/plain": [
              "array([[0.38735191, 0.02125927, 0.66346887, 0.36253568],\n",
              "       [0.82147288, 0.25576697, 0.64149734, 0.53159432],\n",
              "       [0.8358988 , 0.79930207, 0.22593073, 0.71254897],\n",
              "       [0.27651211, 0.51678078, 0.35722126, 0.05835576]])"
            ]
          },
          "metadata": {},
          "execution_count": 45
        }
      ]
    },
    {
      "cell_type": "code",
      "source": [
        "#Coseno\n",
        "np.cos(array2)"
      ],
      "metadata": {
        "colab": {
          "base_uri": "https://localhost:8080/"
        },
        "id": "oODVK1soZqGJ",
        "outputId": "be5f75f3-ff73-4c83-e182-e8d001b3db89"
      },
      "execution_count": 46,
      "outputs": [
        {
          "output_type": "execute_result",
          "data": {
            "text/plain": [
              "array([[0.79876644, 0.71256397, 0.96167981, 0.65523141],\n",
              "       [0.92359139, 0.99622815, 0.7304994 , 0.99978835],\n",
              "       [0.8860492 , 0.96825121, 0.93910039, 0.68418941],\n",
              "       [0.96911685, 0.92506303, 0.94607769, 0.56281162]])"
            ]
          },
          "metadata": {},
          "execution_count": 46
        }
      ]
    },
    {
      "cell_type": "code",
      "source": [
        "#Logartimo\n",
        "np.log(array2)"
      ],
      "metadata": {
        "colab": {
          "base_uri": "https://localhost:8080/"
        },
        "id": "E_M2c3WSZv_4",
        "outputId": "5154b65f-c20d-4fcf-a003-a0ec92cc8253"
      },
      "execution_count": 47,
      "outputs": [
        {
          "output_type": "execute_result",
          "data": {
            "text/plain": [
              "array([[-0.43764606, -0.25147815, -1.28109963, -0.15512583],\n",
              "       [-0.93279784, -2.44320643, -0.28536026, -3.88369091],\n",
              "       [-0.72971991, -1.37571548, -1.04755807, -0.20174334],\n",
              "       [-1.38961043, -0.94264802, -1.10899324, -0.02735788]])"
            ]
          },
          "metadata": {},
          "execution_count": 47
        }
      ]
    },
    {
      "cell_type": "code",
      "source": [
        "#Producto de matrices\n",
        "array1.dot(array2)"
      ],
      "metadata": {
        "colab": {
          "base_uri": "https://localhost:8080/"
        },
        "id": "m-MgZbpGZzce",
        "outputId": "2dd115c4-940d-4349-eaa4-b68a655388fc"
      },
      "execution_count": 48,
      "outputs": [
        {
          "output_type": "execute_result",
          "data": {
            "text/plain": [
              "array([[0.7072756 , 0.63898837, 0.50331937, 1.29492558],\n",
              "       [1.1994453 , 1.16644239, 0.89136935, 1.94535919],\n",
              "       [1.31081907, 1.21673556, 1.31269412, 1.82458367],\n",
              "       [0.58517369, 0.38009511, 0.63347539, 0.60644671]])"
            ]
          },
          "metadata": {},
          "execution_count": 48
        }
      ]
    },
    {
      "cell_type": "markdown",
      "source": [
        "#Comparacion"
      ],
      "metadata": {
        "id": "Mt3hcTenZ_O2"
      }
    },
    {
      "cell_type": "markdown",
      "source": [
        "==, !=, <, >, <=, >=, and, or"
      ],
      "metadata": {
        "id": "uFmeygfraYdt"
      }
    },
    {
      "cell_type": "code",
      "source": [
        "array1==array2"
      ],
      "metadata": {
        "colab": {
          "base_uri": "https://localhost:8080/"
        },
        "id": "1PalURqXZ7vw",
        "outputId": "e77e737e-08e3-49c9-c443-2170d672c440"
      },
      "execution_count": 49,
      "outputs": [
        {
          "output_type": "execute_result",
          "data": {
            "text/plain": [
              "array([[False, False, False, False],\n",
              "       [False, False, False, False],\n",
              "       [False, False, False, False],\n",
              "       [False, False, False, False]])"
            ]
          },
          "metadata": {},
          "execution_count": 49
        }
      ]
    },
    {
      "cell_type": "code",
      "source": [
        "array1 < 0.5"
      ],
      "metadata": {
        "colab": {
          "base_uri": "https://localhost:8080/"
        },
        "id": "lvHCaRR0aD75",
        "outputId": "b7530a3c-4fe5-4ead-f508-1a839a053488"
      },
      "execution_count": 50,
      "outputs": [
        {
          "output_type": "execute_result",
          "data": {
            "text/plain": [
              "array([[ True,  True, False,  True],\n",
              "       [False,  True, False, False],\n",
              "       [False, False,  True, False],\n",
              "       [ True, False,  True,  True]])"
            ]
          },
          "metadata": {},
          "execution_count": 50
        }
      ]
    },
    {
      "cell_type": "code",
      "source": [
        "array1"
      ],
      "metadata": {
        "colab": {
          "base_uri": "https://localhost:8080/"
        },
        "id": "7AkLqjG4aKM8",
        "outputId": "a41677c5-91d8-4188-9772-e045a6a9e745"
      },
      "execution_count": 51,
      "outputs": [
        {
          "output_type": "execute_result",
          "data": {
            "text/plain": [
              "array([[0.39775752, 0.02126087, 0.72544555, 0.37098724],\n",
              "       [0.96398912, 0.25864098, 0.69644857, 0.56048177],\n",
              "       [0.98976826, 0.9261329 , 0.22789837, 0.7931245 ],\n",
              "       [0.28016281, 0.54308641, 0.36529116, 0.05838893]])"
            ]
          },
          "metadata": {},
          "execution_count": 51
        }
      ]
    },
    {
      "cell_type": "code",
      "source": [
        "array3 <= 0.4"
      ],
      "metadata": {
        "colab": {
          "base_uri": "https://localhost:8080/"
        },
        "id": "OU8I-gDPaxEX",
        "outputId": "216905b7-d912-4490-bf11-a77fe5142950"
      },
      "execution_count": 52,
      "outputs": [
        {
          "output_type": "execute_result",
          "data": {
            "text/plain": [
              "array([[False,  True, False, False],\n",
              "       [False, False, False, False],\n",
              "       [False, False, False, False],\n",
              "       [False, False, False,  True]])"
            ]
          },
          "metadata": {},
          "execution_count": 52
        }
      ]
    },
    {
      "cell_type": "code",
      "source": [
        "array3"
      ],
      "metadata": {
        "colab": {
          "base_uri": "https://localhost:8080/"
        },
        "id": "L8oISj_ja2-G",
        "outputId": "9eba1554-81e8-4353-abe7-35984e613bfd"
      },
      "execution_count": 53,
      "outputs": [
        {
          "output_type": "execute_result",
          "data": {
            "text/plain": [
              "array([[ 0.61614889,  0.02733988,  2.61203697,  0.43324071],\n",
              "       [ 2.45008462,  2.97692849,  0.92644456, 27.24124937],\n",
              "       [ 2.05327374,  3.66554835,  0.64966565,  0.97041475],\n",
              "       [ 1.12437357,  1.39397752,  1.10730895,  0.06000838]])"
            ]
          },
          "metadata": {},
          "execution_count": 53
        }
      ]
    },
    {
      "cell_type": "markdown",
      "source": [
        "#Estadisticos basicos y otras funciones"
      ],
      "metadata": {
        "id": "bO5Sdq6ebfLX"
      }
    },
    {
      "cell_type": "code",
      "source": [
        "array1=crearArray(5,5)\n",
        "array1"
      ],
      "metadata": {
        "colab": {
          "base_uri": "https://localhost:8080/"
        },
        "id": "-H1uHHUva45U",
        "outputId": "4d19e7ce-5406-4c88-a890-29852c67a950"
      },
      "execution_count": 54,
      "outputs": [
        {
          "output_type": "execute_result",
          "data": {
            "text/plain": [
              "array([[0.87280782, 0.06244201, 0.5566793 , 0.44997479, 0.22360765],\n",
              "       [0.16622258, 0.69240552, 0.21694646, 0.32998543, 0.73664701],\n",
              "       [0.48637432, 0.62058034, 0.08063531, 0.42448348, 0.72160455],\n",
              "       [0.60334007, 0.49668613, 0.43519035, 0.8846611 , 0.63617935],\n",
              "       [0.08733821, 0.97251965, 0.26841891, 0.02167597, 0.3733953 ]])"
            ]
          },
          "metadata": {},
          "execution_count": 54
        }
      ]
    },
    {
      "cell_type": "code",
      "source": [
        "array1.sum()"
      ],
      "metadata": {
        "colab": {
          "base_uri": "https://localhost:8080/"
        },
        "id": "Prjw-BEzbpBK",
        "outputId": "764133ec-3e46-4fd5-e367-a5b5a3753b76"
      },
      "execution_count": 55,
      "outputs": [
        {
          "output_type": "execute_result",
          "data": {
            "text/plain": [
              "11.420801599042168"
            ]
          },
          "metadata": {},
          "execution_count": 55
        }
      ]
    },
    {
      "cell_type": "code",
      "source": [
        "array1.min()"
      ],
      "metadata": {
        "colab": {
          "base_uri": "https://localhost:8080/"
        },
        "id": "UOvrdzvGd5gW",
        "outputId": "bd01d60d-8f66-4b14-a67d-87f707e7f68b"
      },
      "execution_count": 56,
      "outputs": [
        {
          "output_type": "execute_result",
          "data": {
            "text/plain": [
              "0.021675968053187833"
            ]
          },
          "metadata": {},
          "execution_count": 56
        }
      ]
    },
    {
      "cell_type": "code",
      "source": [
        "array1.max()"
      ],
      "metadata": {
        "colab": {
          "base_uri": "https://localhost:8080/"
        },
        "id": "MvDphhkhd839",
        "outputId": "90087624-cf29-4619-fb95-bc605bbbf54c"
      },
      "execution_count": 57,
      "outputs": [
        {
          "output_type": "execute_result",
          "data": {
            "text/plain": [
              "0.9725196502034582"
            ]
          },
          "metadata": {},
          "execution_count": 57
        }
      ]
    },
    {
      "cell_type": "code",
      "source": [
        "#Maximo por filas\n",
        "array1.max(axis=0)"
      ],
      "metadata": {
        "colab": {
          "base_uri": "https://localhost:8080/"
        },
        "id": "SBSWv1E2eBhT",
        "outputId": "34a89dfd-2ad2-4d53-cb35-cad586b5798e"
      },
      "execution_count": 58,
      "outputs": [
        {
          "output_type": "execute_result",
          "data": {
            "text/plain": [
              "array([0.87280782, 0.97251965, 0.5566793 , 0.8846611 , 0.73664701])"
            ]
          },
          "metadata": {},
          "execution_count": 58
        }
      ]
    },
    {
      "cell_type": "code",
      "source": [
        "#Maximo por columnas\n",
        "array1.max(axis=1)"
      ],
      "metadata": {
        "colab": {
          "base_uri": "https://localhost:8080/"
        },
        "id": "RphbQ5qneXD4",
        "outputId": "5c6e43e6-aabc-4e8c-a422-4194b2b29e6f"
      },
      "execution_count": 59,
      "outputs": [
        {
          "output_type": "execute_result",
          "data": {
            "text/plain": [
              "array([0.87280782, 0.73664701, 0.72160455, 0.8846611 , 0.97251965])"
            ]
          },
          "metadata": {},
          "execution_count": 59
        }
      ]
    },
    {
      "cell_type": "code",
      "source": [
        "#Suma acumulada\n",
        "array1.cumsum(axis=1)"
      ],
      "metadata": {
        "colab": {
          "base_uri": "https://localhost:8080/"
        },
        "id": "n-UH7M-JenGA",
        "outputId": "987d031b-873e-43aa-c54b-4e4d3d6b9d96"
      },
      "execution_count": 60,
      "outputs": [
        {
          "output_type": "execute_result",
          "data": {
            "text/plain": [
              "array([[0.87280782, 0.93524984, 1.49192913, 1.94190392, 2.16551157],\n",
              "       [0.16622258, 0.8586281 , 1.07557456, 1.40555999, 2.142207  ],\n",
              "       [0.48637432, 1.10695465, 1.18758996, 1.61207344, 2.33367799],\n",
              "       [0.60334007, 1.1000262 , 1.53521655, 2.41987765, 3.056057  ],\n",
              "       [0.08733821, 1.05985786, 1.32827677, 1.34995274, 1.72334804]])"
            ]
          },
          "metadata": {},
          "execution_count": 60
        }
      ]
    },
    {
      "cell_type": "code",
      "source": [
        "array1"
      ],
      "metadata": {
        "colab": {
          "base_uri": "https://localhost:8080/"
        },
        "id": "HdNKvw8rexHf",
        "outputId": "539b8554-d048-41a4-a21c-938ae13cacbf"
      },
      "execution_count": 61,
      "outputs": [
        {
          "output_type": "execute_result",
          "data": {
            "text/plain": [
              "array([[0.87280782, 0.06244201, 0.5566793 , 0.44997479, 0.22360765],\n",
              "       [0.16622258, 0.69240552, 0.21694646, 0.32998543, 0.73664701],\n",
              "       [0.48637432, 0.62058034, 0.08063531, 0.42448348, 0.72160455],\n",
              "       [0.60334007, 0.49668613, 0.43519035, 0.8846611 , 0.63617935],\n",
              "       [0.08733821, 0.97251965, 0.26841891, 0.02167597, 0.3733953 ]])"
            ]
          },
          "metadata": {},
          "execution_count": 61
        }
      ]
    },
    {
      "cell_type": "code",
      "source": [
        "#Media\n",
        "np.mean(array1)"
      ],
      "metadata": {
        "colab": {
          "base_uri": "https://localhost:8080/"
        },
        "id": "QYcCmYc5e0Dj",
        "outputId": "043e2ee0-cd53-4d87-911f-0ad7c905edc5"
      },
      "execution_count": 62,
      "outputs": [
        {
          "output_type": "execute_result",
          "data": {
            "text/plain": [
              "0.45683206396168674"
            ]
          },
          "metadata": {},
          "execution_count": 62
        }
      ]
    },
    {
      "cell_type": "code",
      "source": [
        "#Mediana\n",
        "np.median(array1)"
      ],
      "metadata": {
        "colab": {
          "base_uri": "https://localhost:8080/"
        },
        "id": "VsMlzr-ffBwx",
        "outputId": "a17e5d1f-b521-4a88-f1eb-76574d187698"
      },
      "execution_count": 63,
      "outputs": [
        {
          "output_type": "execute_result",
          "data": {
            "text/plain": [
              "0.4499747893042213"
            ]
          },
          "metadata": {},
          "execution_count": 63
        }
      ]
    },
    {
      "cell_type": "code",
      "source": [
        "#Correlacion\n",
        "np.corrcoef(array1)"
      ],
      "metadata": {
        "colab": {
          "base_uri": "https://localhost:8080/"
        },
        "id": "0gM_o1VyfGNw",
        "outputId": "89be688c-6d39-4469-e4be-ad5fdeabb64e"
      },
      "execution_count": 64,
      "outputs": [
        {
          "output_type": "execute_result",
          "data": {
            "text/plain": [
              "array([[ 1.        , -0.91160227, -0.49099487,  0.07694961, -0.77676563],\n",
              "       [-0.91160227,  1.        ,  0.76048225, -0.05480187,  0.71504622],\n",
              "       [-0.49099487,  0.76048225,  1.        ,  0.26571168,  0.38341951],\n",
              "       [ 0.07694961, -0.05480187,  0.26571168,  1.        , -0.55118477],\n",
              "       [-0.77676563,  0.71504622,  0.38341951, -0.55118477,  1.        ]])"
            ]
          },
          "metadata": {},
          "execution_count": 64
        }
      ]
    },
    {
      "cell_type": "code",
      "source": [
        "#Desviacion\n",
        "np.std(array1)"
      ],
      "metadata": {
        "colab": {
          "base_uri": "https://localhost:8080/"
        },
        "id": "8snFR20RfPev",
        "outputId": "6490252c-3b02-44fe-fdc4-4564836ee2f2"
      },
      "execution_count": 65,
      "outputs": [
        {
          "output_type": "execute_result",
          "data": {
            "text/plain": [
              "0.26819670194468026"
            ]
          },
          "metadata": {},
          "execution_count": 65
        }
      ]
    },
    {
      "cell_type": "markdown",
      "source": [
        "#Copiando Array"
      ],
      "metadata": {
        "id": "yZSRZqfuoGEU"
      }
    },
    {
      "cell_type": "code",
      "source": [
        "array1 = np.random.randint(21,size=(4,4))\n",
        "array1"
      ],
      "metadata": {
        "colab": {
          "base_uri": "https://localhost:8080/"
        },
        "id": "rs9R4ep4fWw5",
        "outputId": "a96b6ba1-079d-419c-b0f1-a847e93b0e14"
      },
      "execution_count": 66,
      "outputs": [
        {
          "output_type": "execute_result",
          "data": {
            "text/plain": [
              "array([[ 7,  9, 17, 17],\n",
              "       [19,  7, 10, 10],\n",
              "       [16,  4,  3, 11],\n",
              "       [ 6, 11,  4, 19]])"
            ]
          },
          "metadata": {},
          "execution_count": 66
        }
      ]
    },
    {
      "cell_type": "code",
      "source": [
        "#Crea una imagen del array, el valor cambiado se refleja en los dos\n",
        "array_cop=array1.view()\n",
        "array_cop"
      ],
      "metadata": {
        "colab": {
          "base_uri": "https://localhost:8080/"
        },
        "id": "RWsAzxSroWU8",
        "outputId": "9c723cba-fec6-43dd-8d68-572522d91869"
      },
      "execution_count": 67,
      "outputs": [
        {
          "output_type": "execute_result",
          "data": {
            "text/plain": [
              "array([[ 7,  9, 17, 17],\n",
              "       [19,  7, 10, 10],\n",
              "       [16,  4,  3, 11],\n",
              "       [ 6, 11,  4, 19]])"
            ]
          },
          "metadata": {},
          "execution_count": 67
        }
      ]
    },
    {
      "cell_type": "code",
      "source": [
        "np.array_equal(array1,array_cop)"
      ],
      "metadata": {
        "colab": {
          "base_uri": "https://localhost:8080/"
        },
        "id": "BopMudo9pDLM",
        "outputId": "ebe12e1e-5faa-4299-c37a-bc269fd003d7"
      },
      "execution_count": 68,
      "outputs": [
        {
          "output_type": "execute_result",
          "data": {
            "text/plain": [
              "True"
            ]
          },
          "metadata": {},
          "execution_count": 68
        }
      ]
    },
    {
      "cell_type": "code",
      "source": [
        "#Modifica un valor de la copia\n",
        "array_cop[0,1] = 99\n",
        "array_cop"
      ],
      "metadata": {
        "colab": {
          "base_uri": "https://localhost:8080/"
        },
        "id": "axCSIzotpQML",
        "outputId": "0713dcea-fcc1-4086-af3d-5a4ebf61b378"
      },
      "execution_count": 69,
      "outputs": [
        {
          "output_type": "execute_result",
          "data": {
            "text/plain": [
              "array([[ 7, 99, 17, 17],\n",
              "       [19,  7, 10, 10],\n",
              "       [16,  4,  3, 11],\n",
              "       [ 6, 11,  4, 19]])"
            ]
          },
          "metadata": {},
          "execution_count": 69
        }
      ]
    },
    {
      "cell_type": "code",
      "source": [
        "#Modificamos un valor original\n",
        "array1[1,2] = 88\n",
        "array1"
      ],
      "metadata": {
        "colab": {
          "base_uri": "https://localhost:8080/"
        },
        "id": "JU2VtYLmpgm-",
        "outputId": "93a63f00-f775-4870-8039-5a64414d6dd8"
      },
      "execution_count": 70,
      "outputs": [
        {
          "output_type": "execute_result",
          "data": {
            "text/plain": [
              "array([[ 7, 99, 17, 17],\n",
              "       [19,  7, 88, 10],\n",
              "       [16,  4,  3, 11],\n",
              "       [ 6, 11,  4, 19]])"
            ]
          },
          "metadata": {},
          "execution_count": 70
        }
      ]
    },
    {
      "cell_type": "code",
      "source": [
        "array_cop"
      ],
      "metadata": {
        "colab": {
          "base_uri": "https://localhost:8080/"
        },
        "id": "0gbExP-bpnaU",
        "outputId": "3c2409d1-bf4b-4a30-9f56-54571ede0a8a"
      },
      "execution_count": 71,
      "outputs": [
        {
          "output_type": "execute_result",
          "data": {
            "text/plain": [
              "array([[ 7, 99, 17, 17],\n",
              "       [19,  7, 88, 10],\n",
              "       [16,  4,  3, 11],\n",
              "       [ 6, 11,  4, 19]])"
            ]
          },
          "metadata": {},
          "execution_count": 71
        }
      ]
    },
    {
      "cell_type": "code",
      "source": [
        "#Creamos copia independiente\n",
        "array_cop2 = np.copy(array1)\n",
        "array_cop2"
      ],
      "metadata": {
        "colab": {
          "base_uri": "https://localhost:8080/"
        },
        "id": "kR2ouanop_-3",
        "outputId": "0902890d-dd86-4ff3-f649-7654964e171b"
      },
      "execution_count": 72,
      "outputs": [
        {
          "output_type": "execute_result",
          "data": {
            "text/plain": [
              "array([[ 7, 99, 17, 17],\n",
              "       [19,  7, 88, 10],\n",
              "       [16,  4,  3, 11],\n",
              "       [ 6, 11,  4, 19]])"
            ]
          },
          "metadata": {},
          "execution_count": 72
        }
      ]
    },
    {
      "cell_type": "code",
      "source": [
        "array_cop2[2,3] = 77\n",
        "array_cop2"
      ],
      "metadata": {
        "colab": {
          "base_uri": "https://localhost:8080/"
        },
        "id": "vqSeJ3KIqRBV",
        "outputId": "cfd8b6de-48d9-49fb-b7af-5d8e993cb9dc"
      },
      "execution_count": 73,
      "outputs": [
        {
          "output_type": "execute_result",
          "data": {
            "text/plain": [
              "array([[ 7, 99, 17, 17],\n",
              "       [19,  7, 88, 10],\n",
              "       [16,  4,  3, 77],\n",
              "       [ 6, 11,  4, 19]])"
            ]
          },
          "metadata": {},
          "execution_count": 73
        }
      ]
    },
    {
      "cell_type": "code",
      "source": [
        "array1"
      ],
      "metadata": {
        "colab": {
          "base_uri": "https://localhost:8080/"
        },
        "id": "9QBlZASJqehd",
        "outputId": "7b7b2f9b-1b51-457f-bc26-259a445306ea"
      },
      "execution_count": 74,
      "outputs": [
        {
          "output_type": "execute_result",
          "data": {
            "text/plain": [
              "array([[ 7, 99, 17, 17],\n",
              "       [19,  7, 88, 10],\n",
              "       [16,  4,  3, 11],\n",
              "       [ 6, 11,  4, 19]])"
            ]
          },
          "metadata": {},
          "execution_count": 74
        }
      ]
    },
    {
      "cell_type": "code",
      "source": [
        "array_cop2 = array1 * 3\n",
        "array_cop2"
      ],
      "metadata": {
        "colab": {
          "base_uri": "https://localhost:8080/"
        },
        "id": "5aCzynPxqkNR",
        "outputId": "9f2b2d9b-bfb3-426b-8167-d3bca9c31720"
      },
      "execution_count": 75,
      "outputs": [
        {
          "output_type": "execute_result",
          "data": {
            "text/plain": [
              "array([[ 21, 297,  51,  51],\n",
              "       [ 57,  21, 264,  30],\n",
              "       [ 48,  12,   9,  33],\n",
              "       [ 18,  33,  12,  57]])"
            ]
          },
          "metadata": {},
          "execution_count": 75
        }
      ]
    },
    {
      "cell_type": "code",
      "source": [
        "array_cop2 = array1.copy()\n",
        "array_cop2"
      ],
      "metadata": {
        "colab": {
          "base_uri": "https://localhost:8080/"
        },
        "id": "DirfVmq4q4Cj",
        "outputId": "74b468e3-1849-4029-f8e8-b8e79777a446"
      },
      "execution_count": 76,
      "outputs": [
        {
          "output_type": "execute_result",
          "data": {
            "text/plain": [
              "array([[ 7, 99, 17, 17],\n",
              "       [19,  7, 88, 10],\n",
              "       [16,  4,  3, 11],\n",
              "       [ 6, 11,  4, 19]])"
            ]
          },
          "metadata": {},
          "execution_count": 76
        }
      ]
    },
    {
      "cell_type": "code",
      "source": [
        "np.array_equal(array1,array_cop2)"
      ],
      "metadata": {
        "colab": {
          "base_uri": "https://localhost:8080/"
        },
        "id": "xua-chKB9O6T",
        "outputId": "abcbd3c8-9767-4ca7-8feb-6626dc7226d0"
      },
      "execution_count": 77,
      "outputs": [
        {
          "output_type": "execute_result",
          "data": {
            "text/plain": [
              "True"
            ]
          },
          "metadata": {},
          "execution_count": 77
        }
      ]
    },
    {
      "cell_type": "markdown",
      "source": [
        "#Arrays, ordenamiento"
      ],
      "metadata": {
        "id": "JI-B60Dy9bBx"
      }
    },
    {
      "cell_type": "code",
      "source": [
        "array_1 = np.random.randint(41,size=(10,10))\n",
        "array_1"
      ],
      "metadata": {
        "colab": {
          "base_uri": "https://localhost:8080/"
        },
        "id": "siDE2GIy9W7u",
        "outputId": "2624ec21-5834-44b3-8e85-9452e8b96302"
      },
      "execution_count": 78,
      "outputs": [
        {
          "output_type": "execute_result",
          "data": {
            "text/plain": [
              "array([[12, 10,  3, 30, 22,  7, 37,  7, 15, 23],\n",
              "       [14, 39,  9,  1,  5, 10,  2, 23, 25, 15],\n",
              "       [20,  3, 40, 34, 20,  4, 12, 32, 15, 40],\n",
              "       [13, 38, 18, 22, 24, 35, 36,  9, 32, 17],\n",
              "       [35, 32, 28, 19, 11, 18, 15, 19, 15, 40],\n",
              "       [25, 26,  2,  6,  5, 40,  7, 30, 31,  6],\n",
              "       [25, 12, 21,  8, 13, 15, 25,  9, 20, 16],\n",
              "       [29,  7, 22, 33, 23, 29, 39, 28, 32,  2],\n",
              "       [ 7,  7, 39,  8, 37, 34, 39, 38,  7, 25],\n",
              "       [38, 39, 38, 38, 26,  8, 37,  6,  6, 13]])"
            ]
          },
          "metadata": {},
          "execution_count": 78
        }
      ]
    },
    {
      "cell_type": "code",
      "source": [
        "array_2 = np.random.randint(31,size=(10,10))\n",
        "array_2"
      ],
      "metadata": {
        "colab": {
          "base_uri": "https://localhost:8080/"
        },
        "id": "znFKCiEB9qTf",
        "outputId": "99dde37f-924b-45e4-8924-d5e93ecddda6"
      },
      "execution_count": 79,
      "outputs": [
        {
          "output_type": "execute_result",
          "data": {
            "text/plain": [
              "array([[14, 17, 30, 13, 10, 11,  3, 26, 12, 23],\n",
              "       [ 0,  5, 25,  0,  3, 27, 27,  2, 24, 11],\n",
              "       [11, 11, 23, 14, 17, 20, 17,  3, 25, 11],\n",
              "       [24, 30,  4, 11,  4,  3, 12,  0,  3, 16],\n",
              "       [20, 12, 11,  7, 19,  6,  9,  6, 11,  3],\n",
              "       [10,  3, 14,  9, 19, 10, 28,  4, 20, 29],\n",
              "       [18, 26, 29, 13, 11, 12, 28, 16, 12,  0],\n",
              "       [ 4, 14, 13,  4,  4, 28, 12, 27, 22, 23],\n",
              "       [30, 29,  8,  7, 13, 13,  8, 15,  8,  8],\n",
              "       [26,  6, 17,  4,  5, 25, 17, 13, 26, 24]])"
            ]
          },
          "metadata": {},
          "execution_count": 79
        }
      ]
    },
    {
      "cell_type": "code",
      "source": [
        "array_1"
      ],
      "metadata": {
        "colab": {
          "base_uri": "https://localhost:8080/"
        },
        "id": "TUSAFPf09ysS",
        "outputId": "99431870-6a73-439e-d28d-c244e29e0a05"
      },
      "execution_count": 80,
      "outputs": [
        {
          "output_type": "execute_result",
          "data": {
            "text/plain": [
              "array([[12, 10,  3, 30, 22,  7, 37,  7, 15, 23],\n",
              "       [14, 39,  9,  1,  5, 10,  2, 23, 25, 15],\n",
              "       [20,  3, 40, 34, 20,  4, 12, 32, 15, 40],\n",
              "       [13, 38, 18, 22, 24, 35, 36,  9, 32, 17],\n",
              "       [35, 32, 28, 19, 11, 18, 15, 19, 15, 40],\n",
              "       [25, 26,  2,  6,  5, 40,  7, 30, 31,  6],\n",
              "       [25, 12, 21,  8, 13, 15, 25,  9, 20, 16],\n",
              "       [29,  7, 22, 33, 23, 29, 39, 28, 32,  2],\n",
              "       [ 7,  7, 39,  8, 37, 34, 39, 38,  7, 25],\n",
              "       [38, 39, 38, 38, 26,  8, 37,  6,  6, 13]])"
            ]
          },
          "metadata": {},
          "execution_count": 80
        }
      ]
    },
    {
      "cell_type": "code",
      "source": [
        "array_1.sort()\n",
        "array_1"
      ],
      "metadata": {
        "colab": {
          "base_uri": "https://localhost:8080/"
        },
        "id": "m6rGfEmR93-j",
        "outputId": "2c6272f3-a681-45a3-d254-1a71522b6a85"
      },
      "execution_count": 81,
      "outputs": [
        {
          "output_type": "execute_result",
          "data": {
            "text/plain": [
              "array([[ 3,  7,  7, 10, 12, 15, 22, 23, 30, 37],\n",
              "       [ 1,  2,  5,  9, 10, 14, 15, 23, 25, 39],\n",
              "       [ 3,  4, 12, 15, 20, 20, 32, 34, 40, 40],\n",
              "       [ 9, 13, 17, 18, 22, 24, 32, 35, 36, 38],\n",
              "       [11, 15, 15, 18, 19, 19, 28, 32, 35, 40],\n",
              "       [ 2,  5,  6,  6,  7, 25, 26, 30, 31, 40],\n",
              "       [ 8,  9, 12, 13, 15, 16, 20, 21, 25, 25],\n",
              "       [ 2,  7, 22, 23, 28, 29, 29, 32, 33, 39],\n",
              "       [ 7,  7,  7,  8, 25, 34, 37, 38, 39, 39],\n",
              "       [ 6,  6,  8, 13, 26, 37, 38, 38, 38, 39]])"
            ]
          },
          "metadata": {},
          "execution_count": 81
        }
      ]
    },
    {
      "cell_type": "code",
      "source": [
        "#Ordena por fila\n",
        "array_1.sort(axis=1)\n",
        "array_1"
      ],
      "metadata": {
        "colab": {
          "base_uri": "https://localhost:8080/"
        },
        "id": "hTXi-6UR99UJ",
        "outputId": "636cf493-ca7d-48c6-b84a-d20ca093efc3"
      },
      "execution_count": 82,
      "outputs": [
        {
          "output_type": "execute_result",
          "data": {
            "text/plain": [
              "array([[ 3,  7,  7, 10, 12, 15, 22, 23, 30, 37],\n",
              "       [ 1,  2,  5,  9, 10, 14, 15, 23, 25, 39],\n",
              "       [ 3,  4, 12, 15, 20, 20, 32, 34, 40, 40],\n",
              "       [ 9, 13, 17, 18, 22, 24, 32, 35, 36, 38],\n",
              "       [11, 15, 15, 18, 19, 19, 28, 32, 35, 40],\n",
              "       [ 2,  5,  6,  6,  7, 25, 26, 30, 31, 40],\n",
              "       [ 8,  9, 12, 13, 15, 16, 20, 21, 25, 25],\n",
              "       [ 2,  7, 22, 23, 28, 29, 29, 32, 33, 39],\n",
              "       [ 7,  7,  7,  8, 25, 34, 37, 38, 39, 39],\n",
              "       [ 6,  6,  8, 13, 26, 37, 38, 38, 38, 39]])"
            ]
          },
          "metadata": {},
          "execution_count": 82
        }
      ]
    },
    {
      "cell_type": "code",
      "source": [
        "#Ordena por columna\n",
        "array_2.sort(axis=0)\n",
        "array_2"
      ],
      "metadata": {
        "colab": {
          "base_uri": "https://localhost:8080/"
        },
        "id": "zbVn_ga--eHp",
        "outputId": "b91139f7-a181-4742-ad71-a1e5d31bcfa1"
      },
      "execution_count": 83,
      "outputs": [
        {
          "output_type": "execute_result",
          "data": {
            "text/plain": [
              "array([[ 0,  3,  4,  0,  3,  3,  3,  0,  3,  0],\n",
              "       [ 4,  5,  8,  4,  4,  6,  8,  2,  8,  3],\n",
              "       [10,  6, 11,  4,  4, 10,  9,  3, 11,  8],\n",
              "       [11, 11, 13,  7,  5, 11, 12,  4, 12, 11],\n",
              "       [14, 12, 14,  7, 10, 12, 12,  6, 12, 11],\n",
              "       [18, 14, 17,  9, 11, 13, 17, 13, 20, 16],\n",
              "       [20, 17, 23, 11, 13, 20, 17, 15, 22, 23],\n",
              "       [24, 26, 25, 13, 17, 25, 27, 16, 24, 23],\n",
              "       [26, 29, 29, 13, 19, 27, 28, 26, 25, 24],\n",
              "       [30, 30, 30, 14, 19, 28, 28, 27, 26, 29]])"
            ]
          },
          "metadata": {},
          "execution_count": 83
        }
      ]
    },
    {
      "cell_type": "markdown",
      "source": [
        "#"
      ],
      "metadata": {
        "id": "1VNDG0XRLyk9"
      }
    },
    {
      "cell_type": "code",
      "source": [
        "#Subconjuntos, indexado"
      ],
      "metadata": {
        "id": "kx5ErsFgL1ez"
      },
      "execution_count": 84,
      "outputs": []
    },
    {
      "cell_type": "code",
      "source": [
        "array = np.random.randint(31,size=(10,10))\n",
        "array"
      ],
      "metadata": {
        "id": "-bJRcER4-kw0",
        "colab": {
          "base_uri": "https://localhost:8080/"
        },
        "outputId": "1b3b059b-af26-4346-aa34-ca87d033ce16"
      },
      "execution_count": 85,
      "outputs": [
        {
          "output_type": "execute_result",
          "data": {
            "text/plain": [
              "array([[16,  4, 25, 21, 26,  5, 28,  7, 17, 19],\n",
              "       [21, 11, 29, 16, 23, 18, 29, 15, 16,  5],\n",
              "       [24, 23, 12,  9,  0,  1, 23, 21, 27, 25],\n",
              "       [23,  0, 11, 30, 22,  6, 24, 10, 18,  8],\n",
              "       [29, 23, 10, 13, 11, 27, 27, 13, 12, 17],\n",
              "       [30, 26, 11, 19, 14,  9,  4, 15, 27,  6],\n",
              "       [28,  3,  1, 11,  4,  2,  1,  5, 28, 16],\n",
              "       [29, 15, 21, 13,  2,  6, 17,  7, 13, 17],\n",
              "       [26, 14,  2, 10,  4, 22,  2,  9, 17, 23],\n",
              "       [ 1, 30, 28,  8,  8, 11,  3, 23, 20,  3]])"
            ]
          },
          "metadata": {},
          "execution_count": 85
        }
      ]
    },
    {
      "cell_type": "code",
      "source": [
        "#Seleccionamos elementos de la fila 2, columna 3\n",
        "array[2,3]"
      ],
      "metadata": {
        "colab": {
          "base_uri": "https://localhost:8080/"
        },
        "id": "EY3h7Z_PMCoG",
        "outputId": "172a9360-6524-4402-9c29-8161beb6f341"
      },
      "execution_count": 86,
      "outputs": [
        {
          "output_type": "execute_result",
          "data": {
            "text/plain": [
              "9"
            ]
          },
          "metadata": {},
          "execution_count": 86
        }
      ]
    },
    {
      "cell_type": "code",
      "source": [
        "#Slicing\n",
        "array[1:4]"
      ],
      "metadata": {
        "colab": {
          "base_uri": "https://localhost:8080/"
        },
        "id": "9TbLMthJMaZt",
        "outputId": "d2a2a454-be72-4cfb-be6d-8f2e4ac89704"
      },
      "execution_count": 87,
      "outputs": [
        {
          "output_type": "execute_result",
          "data": {
            "text/plain": [
              "array([[21, 11, 29, 16, 23, 18, 29, 15, 16,  5],\n",
              "       [24, 23, 12,  9,  0,  1, 23, 21, 27, 25],\n",
              "       [23,  0, 11, 30, 22,  6, 24, 10, 18,  8]])"
            ]
          },
          "metadata": {},
          "execution_count": 87
        }
      ]
    },
    {
      "cell_type": "code",
      "source": [
        "array[1:4,5]"
      ],
      "metadata": {
        "colab": {
          "base_uri": "https://localhost:8080/"
        },
        "id": "ioMZDeBAMj_3",
        "outputId": "4b9bf6a6-5451-49c4-b55e-e7e165016bfc"
      },
      "execution_count": 88,
      "outputs": [
        {
          "output_type": "execute_result",
          "data": {
            "text/plain": [
              "array([18,  1,  6])"
            ]
          },
          "metadata": {},
          "execution_count": 88
        }
      ]
    },
    {
      "cell_type": "code",
      "source": [
        "array[:1]"
      ],
      "metadata": {
        "colab": {
          "base_uri": "https://localhost:8080/"
        },
        "id": "E1P-X69mNB5E",
        "outputId": "ea97adfe-33a8-4bd4-df1b-0b863744d0c3"
      },
      "execution_count": 89,
      "outputs": [
        {
          "output_type": "execute_result",
          "data": {
            "text/plain": [
              "array([[16,  4, 25, 21, 26,  5, 28,  7, 17, 19]])"
            ]
          },
          "metadata": {},
          "execution_count": 89
        }
      ]
    },
    {
      "cell_type": "code",
      "source": [
        "array[3:4]"
      ],
      "metadata": {
        "colab": {
          "base_uri": "https://localhost:8080/"
        },
        "id": "hVHQ360pNd9e",
        "outputId": "2ca2c033-290a-48bc-8c56-1e2aadc66ace"
      },
      "execution_count": 90,
      "outputs": [
        {
          "output_type": "execute_result",
          "data": {
            "text/plain": [
              "array([[23,  0, 11, 30, 22,  6, 24, 10, 18,  8]])"
            ]
          },
          "metadata": {},
          "execution_count": 90
        }
      ]
    },
    {
      "cell_type": "code",
      "source": [
        "array[1:4,2:5]"
      ],
      "metadata": {
        "colab": {
          "base_uri": "https://localhost:8080/"
        },
        "id": "XJRes7YNN6xn",
        "outputId": "1f3a998c-2364-4762-e141-b78025c6e661"
      },
      "execution_count": 91,
      "outputs": [
        {
          "output_type": "execute_result",
          "data": {
            "text/plain": [
              "array([[29, 16, 23],\n",
              "       [12,  9,  0],\n",
              "       [11, 30, 22]])"
            ]
          },
          "metadata": {},
          "execution_count": 91
        }
      ]
    },
    {
      "cell_type": "code",
      "source": [
        "array"
      ],
      "metadata": {
        "colab": {
          "base_uri": "https://localhost:8080/"
        },
        "id": "uJcUgg74N_3g",
        "outputId": "4c4a7889-1d1b-4c34-804e-498cd8d296d0"
      },
      "execution_count": 92,
      "outputs": [
        {
          "output_type": "execute_result",
          "data": {
            "text/plain": [
              "array([[16,  4, 25, 21, 26,  5, 28,  7, 17, 19],\n",
              "       [21, 11, 29, 16, 23, 18, 29, 15, 16,  5],\n",
              "       [24, 23, 12,  9,  0,  1, 23, 21, 27, 25],\n",
              "       [23,  0, 11, 30, 22,  6, 24, 10, 18,  8],\n",
              "       [29, 23, 10, 13, 11, 27, 27, 13, 12, 17],\n",
              "       [30, 26, 11, 19, 14,  9,  4, 15, 27,  6],\n",
              "       [28,  3,  1, 11,  4,  2,  1,  5, 28, 16],\n",
              "       [29, 15, 21, 13,  2,  6, 17,  7, 13, 17],\n",
              "       [26, 14,  2, 10,  4, 22,  2,  9, 17, 23],\n",
              "       [ 1, 30, 28,  8,  8, 11,  3, 23, 20,  3]])"
            ]
          },
          "metadata": {},
          "execution_count": 92
        }
      ]
    },
    {
      "cell_type": "code",
      "source": [
        "array[::-1]"
      ],
      "metadata": {
        "colab": {
          "base_uri": "https://localhost:8080/"
        },
        "id": "e6ZxEthtOWZC",
        "outputId": "a8b2329b-a014-4adb-d8bf-a3a66320a07e"
      },
      "execution_count": 93,
      "outputs": [
        {
          "output_type": "execute_result",
          "data": {
            "text/plain": [
              "array([[ 1, 30, 28,  8,  8, 11,  3, 23, 20,  3],\n",
              "       [26, 14,  2, 10,  4, 22,  2,  9, 17, 23],\n",
              "       [29, 15, 21, 13,  2,  6, 17,  7, 13, 17],\n",
              "       [28,  3,  1, 11,  4,  2,  1,  5, 28, 16],\n",
              "       [30, 26, 11, 19, 14,  9,  4, 15, 27,  6],\n",
              "       [29, 23, 10, 13, 11, 27, 27, 13, 12, 17],\n",
              "       [23,  0, 11, 30, 22,  6, 24, 10, 18,  8],\n",
              "       [24, 23, 12,  9,  0,  1, 23, 21, 27, 25],\n",
              "       [21, 11, 29, 16, 23, 18, 29, 15, 16,  5],\n",
              "       [16,  4, 25, 21, 26,  5, 28,  7, 17, 19]])"
            ]
          },
          "metadata": {},
          "execution_count": 93
        }
      ]
    },
    {
      "cell_type": "markdown",
      "source": [
        "#Manipulacion de arrays"
      ],
      "metadata": {
        "id": "_oQXDrepO4ys"
      }
    },
    {
      "cell_type": "code",
      "source": [
        "array=np.random.randint(10,size=(5,5))\n",
        "array"
      ],
      "metadata": {
        "colab": {
          "base_uri": "https://localhost:8080/"
        },
        "id": "1gjWqMsOOZY9",
        "outputId": "17c31221-0190-4019-fe17-15b21e1bb9f3"
      },
      "execution_count": 94,
      "outputs": [
        {
          "output_type": "execute_result",
          "data": {
            "text/plain": [
              "array([[4, 8, 2, 7, 7],\n",
              "       [5, 7, 2, 2, 5],\n",
              "       [9, 4, 4, 4, 0],\n",
              "       [4, 1, 1, 9, 7],\n",
              "       [2, 0, 9, 4, 4]])"
            ]
          },
          "metadata": {},
          "execution_count": 94
        }
      ]
    },
    {
      "cell_type": "code",
      "source": [
        "#Traspuesta\n",
        "array_t=np.transpose(array)\n",
        "array_t"
      ],
      "metadata": {
        "colab": {
          "base_uri": "https://localhost:8080/"
        },
        "id": "ayJLSNwgPCtS",
        "outputId": "e9055e37-c432-4cc1-f783-6d48eb4b0f9e"
      },
      "execution_count": 95,
      "outputs": [
        {
          "output_type": "execute_result",
          "data": {
            "text/plain": [
              "array([[4, 5, 9, 4, 2],\n",
              "       [8, 7, 4, 1, 0],\n",
              "       [2, 2, 4, 1, 9],\n",
              "       [7, 2, 4, 9, 4],\n",
              "       [7, 5, 0, 7, 4]])"
            ]
          },
          "metadata": {},
          "execution_count": 95
        }
      ]
    },
    {
      "cell_type": "code",
      "source": [
        "#Aplanar el array en una fila\n",
        "array.ravel()"
      ],
      "metadata": {
        "colab": {
          "base_uri": "https://localhost:8080/"
        },
        "id": "fyEse5uyPP8H",
        "outputId": "2d3ae3a0-6250-4d3e-ef52-cb0870c70304"
      },
      "execution_count": 96,
      "outputs": [
        {
          "output_type": "execute_result",
          "data": {
            "text/plain": [
              "array([4, 8, 2, 7, 7, 5, 7, 2, 2, 5, 9, 4, 4, 4, 0, 4, 1, 1, 9, 7, 2, 0,\n",
              "       9, 4, 4])"
            ]
          },
          "metadata": {},
          "execution_count": 96
        }
      ]
    },
    {
      "cell_type": "code",
      "source": [
        "#Cambiamos la forma del arreglo pero no los datos\n",
        "array.reshape(5,5)"
      ],
      "metadata": {
        "colab": {
          "base_uri": "https://localhost:8080/"
        },
        "id": "rAdjORkXPkNj",
        "outputId": "38946eca-f1ad-4eee-fd05-c8227abae1d8"
      },
      "execution_count": 97,
      "outputs": [
        {
          "output_type": "execute_result",
          "data": {
            "text/plain": [
              "array([[4, 8, 2, 7, 7],\n",
              "       [5, 7, 2, 2, 5],\n",
              "       [9, 4, 4, 4, 0],\n",
              "       [4, 1, 1, 9, 7],\n",
              "       [2, 0, 9, 4, 4]])"
            ]
          },
          "metadata": {},
          "execution_count": 97
        }
      ]
    },
    {
      "cell_type": "code",
      "source": [
        "array.reshape(25,1)"
      ],
      "metadata": {
        "colab": {
          "base_uri": "https://localhost:8080/"
        },
        "id": "09oGaoJ3PvLW",
        "outputId": "d91c3ea5-f9c8-4f4a-ab45-2f3d64e7f417"
      },
      "execution_count": 98,
      "outputs": [
        {
          "output_type": "execute_result",
          "data": {
            "text/plain": [
              "array([[4],\n",
              "       [8],\n",
              "       [2],\n",
              "       [7],\n",
              "       [7],\n",
              "       [5],\n",
              "       [7],\n",
              "       [2],\n",
              "       [2],\n",
              "       [5],\n",
              "       [9],\n",
              "       [4],\n",
              "       [4],\n",
              "       [4],\n",
              "       [0],\n",
              "       [4],\n",
              "       [1],\n",
              "       [1],\n",
              "       [9],\n",
              "       [7],\n",
              "       [2],\n",
              "       [0],\n",
              "       [9],\n",
              "       [4],\n",
              "       [4]])"
            ]
          },
          "metadata": {},
          "execution_count": 98
        }
      ]
    },
    {
      "cell_type": "code",
      "source": [
        "array=np.random.randint(10,size=(4,24))\n",
        "array"
      ],
      "metadata": {
        "colab": {
          "base_uri": "https://localhost:8080/"
        },
        "id": "RpzOtpX1P3P4",
        "outputId": "1c966006-1823-4483-92a1-7012f4f46f9f"
      },
      "execution_count": 99,
      "outputs": [
        {
          "output_type": "execute_result",
          "data": {
            "text/plain": [
              "array([[8, 2, 6, 3, 8, 3, 6, 7, 2, 2, 1, 9, 3, 3, 9, 5, 2, 4, 8, 5, 8, 1,\n",
              "        1, 6],\n",
              "       [9, 2, 3, 6, 0, 3, 5, 8, 3, 6, 6, 7, 8, 4, 6, 5, 1, 1, 8, 5, 7, 6,\n",
              "        2, 7],\n",
              "       [7, 2, 9, 7, 5, 3, 1, 0, 8, 5, 9, 1, 1, 4, 1, 5, 8, 5, 3, 6, 3, 7,\n",
              "        1, 1],\n",
              "       [8, 2, 5, 2, 4, 9, 1, 2, 9, 9, 5, 5, 5, 3, 0, 0, 2, 5, 6, 1, 7, 6,\n",
              "        3, 5]])"
            ]
          },
          "metadata": {},
          "execution_count": 99
        }
      ]
    },
    {
      "cell_type": "code",
      "source": [
        "array.reshape(12,8)"
      ],
      "metadata": {
        "colab": {
          "base_uri": "https://localhost:8080/"
        },
        "id": "ZGnqJnPOQDJf",
        "outputId": "f22e0a20-78f1-498c-fff2-41901cf300f6"
      },
      "execution_count": 100,
      "outputs": [
        {
          "output_type": "execute_result",
          "data": {
            "text/plain": [
              "array([[8, 2, 6, 3, 8, 3, 6, 7],\n",
              "       [2, 2, 1, 9, 3, 3, 9, 5],\n",
              "       [2, 4, 8, 5, 8, 1, 1, 6],\n",
              "       [9, 2, 3, 6, 0, 3, 5, 8],\n",
              "       [3, 6, 6, 7, 8, 4, 6, 5],\n",
              "       [1, 1, 8, 5, 7, 6, 2, 7],\n",
              "       [7, 2, 9, 7, 5, 3, 1, 0],\n",
              "       [8, 5, 9, 1, 1, 4, 1, 5],\n",
              "       [8, 5, 3, 6, 3, 7, 1, 1],\n",
              "       [8, 2, 5, 2, 4, 9, 1, 2],\n",
              "       [9, 9, 5, 5, 5, 3, 0, 0],\n",
              "       [2, 5, 6, 1, 7, 6, 3, 5]])"
            ]
          },
          "metadata": {},
          "execution_count": 100
        }
      ]
    },
    {
      "cell_type": "code",
      "source": [
        "#Otra forma\n",
        "array.resize((8,12))\n",
        "array"
      ],
      "metadata": {
        "colab": {
          "base_uri": "https://localhost:8080/"
        },
        "id": "eFx3K14gQI2V",
        "outputId": "50a007b5-89d8-46ac-bdd1-5ca5984b8a2b"
      },
      "execution_count": 101,
      "outputs": [
        {
          "output_type": "execute_result",
          "data": {
            "text/plain": [
              "array([[8, 2, 6, 3, 8, 3, 6, 7, 2, 2, 1, 9],\n",
              "       [3, 3, 9, 5, 2, 4, 8, 5, 8, 1, 1, 6],\n",
              "       [9, 2, 3, 6, 0, 3, 5, 8, 3, 6, 6, 7],\n",
              "       [8, 4, 6, 5, 1, 1, 8, 5, 7, 6, 2, 7],\n",
              "       [7, 2, 9, 7, 5, 3, 1, 0, 8, 5, 9, 1],\n",
              "       [1, 4, 1, 5, 8, 5, 3, 6, 3, 7, 1, 1],\n",
              "       [8, 2, 5, 2, 4, 9, 1, 2, 9, 9, 5, 5],\n",
              "       [5, 3, 0, 0, 2, 5, 6, 1, 7, 6, 3, 5]])"
            ]
          },
          "metadata": {},
          "execution_count": 101
        }
      ]
    },
    {
      "cell_type": "code",
      "source": [
        "#Añadir y eliminar elementos\n",
        "np.append(array,34)"
      ],
      "metadata": {
        "colab": {
          "base_uri": "https://localhost:8080/"
        },
        "id": "NXpJ9DbfQUpj",
        "outputId": "d978413c-8ce0-4e5a-9247-3446075e1b78"
      },
      "execution_count": 102,
      "outputs": [
        {
          "output_type": "execute_result",
          "data": {
            "text/plain": [
              "array([ 8,  2,  6,  3,  8,  3,  6,  7,  2,  2,  1,  9,  3,  3,  9,  5,  2,\n",
              "        4,  8,  5,  8,  1,  1,  6,  9,  2,  3,  6,  0,  3,  5,  8,  3,  6,\n",
              "        6,  7,  8,  4,  6,  5,  1,  1,  8,  5,  7,  6,  2,  7,  7,  2,  9,\n",
              "        7,  5,  3,  1,  0,  8,  5,  9,  1,  1,  4,  1,  5,  8,  5,  3,  6,\n",
              "        3,  7,  1,  1,  8,  2,  5,  2,  4,  9,  1,  2,  9,  9,  5,  5,  5,\n",
              "        3,  0,  0,  2,  5,  6,  1,  7,  6,  3,  5, 34])"
            ]
          },
          "metadata": {},
          "execution_count": 102
        }
      ]
    },
    {
      "cell_type": "code",
      "source": [
        "array=np.insert(array,2,99)\n",
        "array"
      ],
      "metadata": {
        "colab": {
          "base_uri": "https://localhost:8080/"
        },
        "id": "pE_41v-jQgUO",
        "outputId": "d63e7302-5999-42c1-947e-a78cb0312ef7"
      },
      "execution_count": 103,
      "outputs": [
        {
          "output_type": "execute_result",
          "data": {
            "text/plain": [
              "array([ 8,  2, 99,  6,  3,  8,  3,  6,  7,  2,  2,  1,  9,  3,  3,  9,  5,\n",
              "        2,  4,  8,  5,  8,  1,  1,  6,  9,  2,  3,  6,  0,  3,  5,  8,  3,\n",
              "        6,  6,  7,  8,  4,  6,  5,  1,  1,  8,  5,  7,  6,  2,  7,  7,  2,\n",
              "        9,  7,  5,  3,  1,  0,  8,  5,  9,  1,  1,  4,  1,  5,  8,  5,  3,\n",
              "        6,  3,  7,  1,  1,  8,  2,  5,  2,  4,  9,  1,  2,  9,  9,  5,  5,\n",
              "        5,  3,  0,  0,  2,  5,  6,  1,  7,  6,  3,  5])"
            ]
          },
          "metadata": {},
          "execution_count": 103
        }
      ]
    },
    {
      "cell_type": "code",
      "source": [
        "#Borrado\n",
        "np.delete(array,[1])"
      ],
      "metadata": {
        "id": "WqLjFRcfQzc7",
        "colab": {
          "base_uri": "https://localhost:8080/"
        },
        "outputId": "a1d5b110-e84b-4e7f-cecf-65ffc5d24583"
      },
      "execution_count": 104,
      "outputs": [
        {
          "output_type": "execute_result",
          "data": {
            "text/plain": [
              "array([ 8, 99,  6,  3,  8,  3,  6,  7,  2,  2,  1,  9,  3,  3,  9,  5,  2,\n",
              "        4,  8,  5,  8,  1,  1,  6,  9,  2,  3,  6,  0,  3,  5,  8,  3,  6,\n",
              "        6,  7,  8,  4,  6,  5,  1,  1,  8,  5,  7,  6,  2,  7,  7,  2,  9,\n",
              "        7,  5,  3,  1,  0,  8,  5,  9,  1,  1,  4,  1,  5,  8,  5,  3,  6,\n",
              "        3,  7,  1,  1,  8,  2,  5,  2,  4,  9,  1,  2,  9,  9,  5,  5,  5,\n",
              "        3,  0,  0,  2,  5,  6,  1,  7,  6,  3,  5])"
            ]
          },
          "metadata": {},
          "execution_count": 104
        }
      ]
    },
    {
      "cell_type": "code",
      "source": [
        "array_1 = np.random.randint(10, size=(4,4))\n",
        "array_1"
      ],
      "metadata": {
        "colab": {
          "base_uri": "https://localhost:8080/"
        },
        "id": "tYv0fkhikZGh",
        "outputId": "fc618178-0ca5-46a4-a258-fdf0c4e94a41"
      },
      "execution_count": 107,
      "outputs": [
        {
          "output_type": "execute_result",
          "data": {
            "text/plain": [
              "array([[5, 2, 8, 8],\n",
              "       [6, 3, 2, 6],\n",
              "       [1, 9, 2, 3],\n",
              "       [8, 3, 8, 7]])"
            ]
          },
          "metadata": {},
          "execution_count": 107
        }
      ]
    },
    {
      "cell_type": "code",
      "source": [
        "array_2 = np.random.randint(10, size=(4,4))\n",
        "array_2"
      ],
      "metadata": {
        "colab": {
          "base_uri": "https://localhost:8080/"
        },
        "id": "1kV8prcAkfUD",
        "outputId": "f92a6ca1-27b3-496e-f412-d8ed2a1c41bb"
      },
      "execution_count": 108,
      "outputs": [
        {
          "output_type": "execute_result",
          "data": {
            "text/plain": [
              "array([[3, 6, 8, 1],\n",
              "       [1, 2, 0, 1],\n",
              "       [0, 9, 4, 7],\n",
              "       [2, 2, 7, 6]])"
            ]
          },
          "metadata": {},
          "execution_count": 108
        }
      ]
    },
    {
      "cell_type": "code",
      "source": [
        "#Combinar arrays"
      ],
      "metadata": {
        "id": "EUdKbeCRk_X6"
      },
      "execution_count": 109,
      "outputs": []
    },
    {
      "cell_type": "code",
      "source": [
        "array_combinado = np.concatenate((array_1,array_2), axis=0)\n",
        "array_combinado"
      ],
      "metadata": {
        "colab": {
          "base_uri": "https://localhost:8080/"
        },
        "id": "AvPtVZT4lGtB",
        "outputId": "f348417e-e83a-4a42-bfe1-0f61fa5abb3d"
      },
      "execution_count": 111,
      "outputs": [
        {
          "output_type": "execute_result",
          "data": {
            "text/plain": [
              "array([[5, 2, 8, 8],\n",
              "       [6, 3, 2, 6],\n",
              "       [1, 9, 2, 3],\n",
              "       [8, 3, 8, 7],\n",
              "       [3, 6, 8, 1],\n",
              "       [1, 2, 0, 1],\n",
              "       [0, 9, 4, 7],\n",
              "       [2, 2, 7, 6]])"
            ]
          },
          "metadata": {},
          "execution_count": 111
        }
      ]
    },
    {
      "cell_type": "code",
      "source": [
        "#Array vertica\n",
        "array_combinado = np.vstack((array_1, array_2))\n",
        "array_combinado"
      ],
      "metadata": {
        "colab": {
          "base_uri": "https://localhost:8080/"
        },
        "id": "La54EyDRlTh-",
        "outputId": "96e87fc6-2fb8-424e-a587-5859bf70c773"
      },
      "execution_count": 112,
      "outputs": [
        {
          "output_type": "execute_result",
          "data": {
            "text/plain": [
              "array([[5, 2, 8, 8],\n",
              "       [6, 3, 2, 6],\n",
              "       [1, 9, 2, 3],\n",
              "       [8, 3, 8, 7],\n",
              "       [3, 6, 8, 1],\n",
              "       [1, 2, 0, 1],\n",
              "       [0, 9, 4, 7],\n",
              "       [2, 2, 7, 6]])"
            ]
          },
          "metadata": {},
          "execution_count": 112
        }
      ]
    },
    {
      "cell_type": "code",
      "source": [
        "#otra forma array vertical\n",
        "aray_combinado = np.r_[array_1,array_2]\n",
        "array_combinado"
      ],
      "metadata": {
        "colab": {
          "base_uri": "https://localhost:8080/"
        },
        "id": "C20MvSstltcQ",
        "outputId": "38425619-d674-4334-c4a9-3fb32ebfea50"
      },
      "execution_count": 115,
      "outputs": [
        {
          "output_type": "execute_result",
          "data": {
            "text/plain": [
              "array([[5, 2, 8, 8],\n",
              "       [6, 3, 2, 6],\n",
              "       [1, 9, 2, 3],\n",
              "       [8, 3, 8, 7],\n",
              "       [3, 6, 8, 1],\n",
              "       [1, 2, 0, 1],\n",
              "       [0, 9, 4, 7],\n",
              "       [2, 2, 7, 6]])"
            ]
          },
          "metadata": {},
          "execution_count": 115
        }
      ]
    },
    {
      "cell_type": "code",
      "source": [
        "#Combinado horizontal\n",
        "array_combinado = np.hstack((array_1,array_2))\n",
        "array_combinado"
      ],
      "metadata": {
        "colab": {
          "base_uri": "https://localhost:8080/"
        },
        "id": "FMdooyHsl4E9",
        "outputId": "e0829b6d-5f4b-4e47-d410-d17dcbc79c6e"
      },
      "execution_count": 116,
      "outputs": [
        {
          "output_type": "execute_result",
          "data": {
            "text/plain": [
              "array([[5, 2, 8, 8, 3, 6, 8, 1],\n",
              "       [6, 3, 2, 6, 1, 2, 0, 1],\n",
              "       [1, 9, 2, 3, 0, 9, 4, 7],\n",
              "       [8, 3, 8, 7, 2, 2, 7, 6]])"
            ]
          },
          "metadata": {},
          "execution_count": 116
        }
      ]
    },
    {
      "cell_type": "code",
      "source": [
        "np.column_stack((array_1,array_2))"
      ],
      "metadata": {
        "colab": {
          "base_uri": "https://localhost:8080/"
        },
        "id": "K_RgeI41ySvk",
        "outputId": "b8ab10c8-055a-42af-a331-12617e006683"
      },
      "execution_count": 117,
      "outputs": [
        {
          "output_type": "execute_result",
          "data": {
            "text/plain": [
              "array([[5, 2, 8, 8, 3, 6, 8, 1],\n",
              "       [6, 3, 2, 6, 1, 2, 0, 1],\n",
              "       [1, 9, 2, 3, 0, 9, 4, 7],\n",
              "       [8, 3, 8, 7, 2, 2, 7, 6]])"
            ]
          },
          "metadata": {},
          "execution_count": 117
        }
      ]
    },
    {
      "cell_type": "code",
      "source": [
        "np.c_[array_1,array_2]"
      ],
      "metadata": {
        "colab": {
          "base_uri": "https://localhost:8080/"
        },
        "id": "ytDLEtvnyhQC",
        "outputId": "466bfb06-1ed0-4559-b1e8-d4d19c8f359d"
      },
      "execution_count": 118,
      "outputs": [
        {
          "output_type": "execute_result",
          "data": {
            "text/plain": [
              "array([[5, 2, 8, 8, 3, 6, 8, 1],\n",
              "       [6, 3, 2, 6, 1, 2, 0, 1],\n",
              "       [1, 9, 2, 3, 0, 9, 4, 7],\n",
              "       [8, 3, 8, 7, 2, 2, 7, 6]])"
            ]
          },
          "metadata": {},
          "execution_count": 118
        }
      ]
    },
    {
      "cell_type": "code",
      "source": [
        "#Spliting, corte array vertical\n",
        "np.vsplit(array_1, 2)"
      ],
      "metadata": {
        "colab": {
          "base_uri": "https://localhost:8080/"
        },
        "id": "2m_bUsMFypV7",
        "outputId": "b7e0255b-7142-496c-d041-6a1b9441b5ba"
      },
      "execution_count": 120,
      "outputs": [
        {
          "output_type": "execute_result",
          "data": {
            "text/plain": [
              "[array([[5, 2, 8, 8],\n",
              "        [6, 3, 2, 6]]),\n",
              " array([[1, 9, 2, 3],\n",
              "        [8, 3, 8, 7]])]"
            ]
          },
          "metadata": {},
          "execution_count": 120
        }
      ]
    },
    {
      "cell_type": "code",
      "source": [
        "#Corte horizontal\n",
        "np.hsplit(array_1, 2)"
      ],
      "metadata": {
        "colab": {
          "base_uri": "https://localhost:8080/"
        },
        "id": "9sxpvUAc0mDc",
        "outputId": "762b47d9-48d7-47b1-c3f1-665383c794b4"
      },
      "execution_count": 121,
      "outputs": [
        {
          "output_type": "execute_result",
          "data": {
            "text/plain": [
              "[array([[5, 2],\n",
              "        [6, 3],\n",
              "        [1, 9],\n",
              "        [8, 3]]),\n",
              " array([[8, 8],\n",
              "        [2, 6],\n",
              "        [2, 3],\n",
              "        [8, 7]])]"
            ]
          },
          "metadata": {},
          "execution_count": 121
        }
      ]
    },
    {
      "cell_type": "code",
      "source": [
        ""
      ],
      "metadata": {
        "id": "9hqKDLSG02Ae"
      },
      "execution_count": null,
      "outputs": []
    }
  ]
}