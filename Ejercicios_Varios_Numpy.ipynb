{
  "nbformat": 4,
  "nbformat_minor": 0,
  "metadata": {
    "colab": {
      "provenance": [],
      "include_colab_link": true
    },
    "kernelspec": {
      "name": "python3",
      "display_name": "Python 3"
    },
    "language_info": {
      "name": "python"
    }
  },
  "cells": [
    {
      "cell_type": "markdown",
      "metadata": {
        "id": "view-in-github",
        "colab_type": "text"
      },
      "source": [
        "<a href=\"https://colab.research.google.com/github/jeo2k1/numpy/blob/main/Ejercicios_Varios_Numpy.ipynb\" target=\"_parent\"><img src=\"https://colab.research.google.com/assets/colab-badge.svg\" alt=\"Open In Colab\"/></a>"
      ]
    },
    {
      "cell_type": "code",
      "execution_count": 1,
      "metadata": {
        "id": "ZyZ273xU_1_H"
      },
      "outputs": [],
      "source": [
        "import numpy as np"
      ]
    },
    {
      "cell_type": "markdown",
      "source": [
        "Crea un array con elementos del 20 al 60 inclusives"
      ],
      "metadata": {
        "id": "R4Af36SWAJDf"
      }
    },
    {
      "cell_type": "code",
      "source": [
        "array = np.arange(20,61,1)\n",
        "array"
      ],
      "metadata": {
        "id": "gxL8R7xc_9bS",
        "colab": {
          "base_uri": "https://localhost:8080/"
        },
        "outputId": "dd75784e-6811-41fe-b672-ce2bc5f7ecc9"
      },
      "execution_count": 3,
      "outputs": [
        {
          "output_type": "execute_result",
          "data": {
            "text/plain": [
              "array([20, 21, 22, 23, 24, 25, 26, 27, 28, 29, 30, 31, 32, 33, 34, 35, 36,\n",
              "       37, 38, 39, 40, 41, 42, 43, 44, 45, 46, 47, 48, 49, 50, 51, 52, 53,\n",
              "       54, 55, 56, 57, 58, 59, 60])"
            ]
          },
          "metadata": {},
          "execution_count": 3
        }
      ]
    },
    {
      "cell_type": "markdown",
      "source": [
        "Crea un array de una dimension con 15 elementos de unos, luego cambiar el tercer elemento a 99"
      ],
      "metadata": {
        "id": "VvUwIClSAm9V"
      }
    },
    {
      "cell_type": "code",
      "source": [
        "array = np.ones((1,15))\n",
        "array"
      ],
      "metadata": {
        "id": "Lf80YYwZADEC",
        "colab": {
          "base_uri": "https://localhost:8080/"
        },
        "outputId": "2e65a247-147d-4ae7-b69a-e25c792f2896"
      },
      "execution_count": 7,
      "outputs": [
        {
          "output_type": "execute_result",
          "data": {
            "text/plain": [
              "array([[1., 1., 1., 1., 1., 1., 1., 1., 1., 1., 1., 1., 1., 1., 1.]])"
            ]
          },
          "metadata": {},
          "execution_count": 7
        }
      ]
    },
    {
      "cell_type": "code",
      "source": [
        "#cambiar el tercer elemento a 99\n",
        "array[0,2] = 99\n",
        "array"
      ],
      "metadata": {
        "colab": {
          "base_uri": "https://localhost:8080/"
        },
        "id": "ok9z_CJtjdIL",
        "outputId": "a590ac49-d4a7-4b6f-8866-0fdd1cd67b82"
      },
      "execution_count": 8,
      "outputs": [
        {
          "output_type": "execute_result",
          "data": {
            "text/plain": [
              "array([[ 1.,  1., 99.,  1.,  1.,  1.,  1.,  1.,  1.,  1.,  1.,  1.,  1.,\n",
              "         1.,  1.]])"
            ]
          },
          "metadata": {},
          "execution_count": 8
        }
      ]
    },
    {
      "cell_type": "markdown",
      "source": [
        "Crea una matriz de 6 * 6 de ceros"
      ],
      "metadata": {
        "id": "crWOWAlZBNWV"
      }
    },
    {
      "cell_type": "code",
      "source": [
        "array=np.zeros((6,6))\n",
        "array"
      ],
      "metadata": {
        "id": "oqo_S22zA8lC",
        "colab": {
          "base_uri": "https://localhost:8080/"
        },
        "outputId": "4dae9fa3-b24f-481c-bf42-c88b485027fc"
      },
      "execution_count": 6,
      "outputs": [
        {
          "output_type": "execute_result",
          "data": {
            "text/plain": [
              "array([[0., 0., 0., 0., 0., 0.],\n",
              "       [0., 0., 0., 0., 0., 0.],\n",
              "       [0., 0., 0., 0., 0., 0.],\n",
              "       [0., 0., 0., 0., 0., 0.],\n",
              "       [0., 0., 0., 0., 0., 0.],\n",
              "       [0., 0., 0., 0., 0., 0.]])"
            ]
          },
          "metadata": {},
          "execution_count": 6
        }
      ]
    },
    {
      "cell_type": "markdown",
      "source": [
        "Convertir el tipo de datos anterior a entero\n",
        "\n",
        "\n",
        "\n"
      ],
      "metadata": {
        "id": "qzyfiMi2BcTE"
      }
    },
    {
      "cell_type": "code",
      "source": [
        "array.dtype"
      ],
      "metadata": {
        "id": "s3A7NKnrBVja",
        "colab": {
          "base_uri": "https://localhost:8080/"
        },
        "outputId": "e70c4652-512d-44d8-d719-8de50275a824"
      },
      "execution_count": 9,
      "outputs": [
        {
          "output_type": "execute_result",
          "data": {
            "text/plain": [
              "dtype('float64')"
            ]
          },
          "metadata": {},
          "execution_count": 9
        }
      ]
    },
    {
      "cell_type": "code",
      "source": [
        "array.dtype = \"int64\"\n",
        "array.dtype"
      ],
      "metadata": {
        "id": "1cNzyr74Biuj",
        "colab": {
          "base_uri": "https://localhost:8080/"
        },
        "outputId": "5e563ccc-b8b1-489d-ca95-f96e798db889"
      },
      "execution_count": 13,
      "outputs": [
        {
          "output_type": "execute_result",
          "data": {
            "text/plain": [
              "dtype('int64')"
            ]
          },
          "metadata": {},
          "execution_count": 13
        }
      ]
    },
    {
      "cell_type": "markdown",
      "source": [
        "Crea un array de numeros enteros del 1 al 20 inclusives, con 4 filas y 3 columnas, muestra el valor de la segunda fila y primera columna"
      ],
      "metadata": {
        "id": "sSVTJyodCBRd"
      }
    },
    {
      "cell_type": "code",
      "source": [
        "array = np.random.randint(1,21,size=12).reshape(4,3)\n",
        "array"
      ],
      "metadata": {
        "id": "pgNBJO9NBx73",
        "colab": {
          "base_uri": "https://localhost:8080/"
        },
        "outputId": "fbae615d-1152-4fac-f7d3-451696a87294"
      },
      "execution_count": 20,
      "outputs": [
        {
          "output_type": "execute_result",
          "data": {
            "text/plain": [
              "array([[ 3,  6,  1],\n",
              "       [ 7, 11,  9],\n",
              "       [12,  8, 18],\n",
              "       [20, 15, 10]])"
            ]
          },
          "metadata": {},
          "execution_count": 20
        }
      ]
    },
    {
      "cell_type": "code",
      "source": [
        "array[1,0]"
      ],
      "metadata": {
        "id": "Z7HA47NjDdPy",
        "colab": {
          "base_uri": "https://localhost:8080/"
        },
        "outputId": "cf8f552b-0f53-4ec2-a742-edbee72cb617"
      },
      "execution_count": 21,
      "outputs": [
        {
          "output_type": "execute_result",
          "data": {
            "text/plain": [
              "7"
            ]
          },
          "metadata": {},
          "execution_count": 21
        }
      ]
    },
    {
      "cell_type": "markdown",
      "source": [
        "Crea un array con valores del rango 50 a 99 inclusives"
      ],
      "metadata": {
        "id": "_HJnuOGzEPGZ"
      }
    },
    {
      "cell_type": "code",
      "source": [
        "array=np.arange(50,100)\n",
        "array"
      ],
      "metadata": {
        "id": "rdt7edsFD_3U",
        "colab": {
          "base_uri": "https://localhost:8080/"
        },
        "outputId": "c4f96659-7210-4879-d3a9-2793acf4109f"
      },
      "execution_count": 18,
      "outputs": [
        {
          "output_type": "execute_result",
          "data": {
            "text/plain": [
              "array([50, 51, 52, 53, 54, 55, 56, 57, 58, 59, 60, 61, 62, 63, 64, 65, 66,\n",
              "       67, 68, 69, 70, 71, 72, 73, 74, 75, 76, 77, 78, 79, 80, 81, 82, 83,\n",
              "       84, 85, 86, 87, 88, 89, 90, 91, 92, 93, 94, 95, 96, 97, 98, 99])"
            ]
          },
          "metadata": {},
          "execution_count": 18
        }
      ]
    },
    {
      "cell_type": "markdown",
      "source": [
        "Invierte el array anterior"
      ],
      "metadata": {
        "id": "jr3_I45GFBjR"
      }
    },
    {
      "cell_type": "code",
      "source": [
        "array[::-1]"
      ],
      "metadata": {
        "id": "VjQUcYKEE_M6",
        "colab": {
          "base_uri": "https://localhost:8080/"
        },
        "outputId": "0de9de7b-6d8b-488c-8fcf-1eb896b22a06"
      },
      "execution_count": 19,
      "outputs": [
        {
          "output_type": "execute_result",
          "data": {
            "text/plain": [
              "array([99, 98, 97, 96, 95, 94, 93, 92, 91, 90, 89, 88, 87, 86, 85, 84, 83,\n",
              "       82, 81, 80, 79, 78, 77, 76, 75, 74, 73, 72, 71, 70, 69, 68, 67, 66,\n",
              "       65, 64, 63, 62, 61, 60, 59, 58, 57, 56, 55, 54, 53, 52, 51, 50])"
            ]
          },
          "metadata": {},
          "execution_count": 19
        }
      ]
    },
    {
      "cell_type": "markdown",
      "source": [
        "Crea una matriz 4 * 4 con valores de 1 a 16"
      ],
      "metadata": {
        "id": "dpMs-3iFGFYi"
      }
    },
    {
      "cell_type": "code",
      "source": [
        "array = np.arange(1,17).reshape(4,4)\n",
        "array"
      ],
      "metadata": {
        "id": "Hr9-D--vFF7q",
        "colab": {
          "base_uri": "https://localhost:8080/"
        },
        "outputId": "d2c7a5c1-be41-4602-a973-726e36e4375c"
      },
      "execution_count": 25,
      "outputs": [
        {
          "output_type": "execute_result",
          "data": {
            "text/plain": [
              "array([[ 1,  2,  3,  4],\n",
              "       [ 5,  6,  7,  8],\n",
              "       [ 9, 10, 11, 12],\n",
              "       [13, 14, 15, 16]])"
            ]
          },
          "metadata": {},
          "execution_count": 25
        }
      ]
    },
    {
      "cell_type": "markdown",
      "source": [
        "Encontrar los valores mayores a 6 del array anterior"
      ],
      "metadata": {
        "id": "EfErapyBGy6_"
      }
    },
    {
      "cell_type": "code",
      "source": [
        "array_mayores = array[array>6]\n",
        "array_mayores"
      ],
      "metadata": {
        "id": "4G4aRYSXGWVt",
        "colab": {
          "base_uri": "https://localhost:8080/"
        },
        "outputId": "d6aa1c6a-b6f8-4932-a170-3070e8c960c5"
      },
      "execution_count": 26,
      "outputs": [
        {
          "output_type": "execute_result",
          "data": {
            "text/plain": [
              "array([ 7,  8,  9, 10, 11, 12, 13, 14, 15, 16])"
            ]
          },
          "metadata": {},
          "execution_count": 26
        }
      ]
    },
    {
      "cell_type": "markdown",
      "source": [
        "Crear una matriz identidad de 5 * 5"
      ],
      "metadata": {
        "id": "_mOsPTS3HE7h"
      }
    },
    {
      "cell_type": "code",
      "source": [
        "array = np.identity(5)\n",
        "array"
      ],
      "metadata": {
        "id": "V8KZJuDWG9sT",
        "colab": {
          "base_uri": "https://localhost:8080/"
        },
        "outputId": "e16bf108-7418-47c4-d082-ed9e93dd266c"
      },
      "execution_count": 29,
      "outputs": [
        {
          "output_type": "execute_result",
          "data": {
            "text/plain": [
              "array([[1., 0., 0., 0., 0.],\n",
              "       [0., 1., 0., 0., 0.],\n",
              "       [0., 0., 1., 0., 0.],\n",
              "       [0., 0., 0., 1., 0.],\n",
              "       [0., 0., 0., 0., 1.]])"
            ]
          },
          "metadata": {},
          "execution_count": 29
        }
      ]
    },
    {
      "cell_type": "markdown",
      "source": [
        "Crear matriz con valores al azar entre 0 y 1 de forma 4x4x4"
      ],
      "metadata": {
        "id": "kaMthpkTHQ-a"
      }
    },
    {
      "cell_type": "code",
      "source": [
        "array = np.random.random((4,4,4))\n",
        "array"
      ],
      "metadata": {
        "id": "VwriE8_NHMJT",
        "colab": {
          "base_uri": "https://localhost:8080/"
        },
        "outputId": "e7d0e064-59bd-4e47-fd2d-a1a91b922832"
      },
      "execution_count": 31,
      "outputs": [
        {
          "output_type": "execute_result",
          "data": {
            "text/plain": [
              "array([[[0.64469783, 0.7625178 , 0.12977939, 0.86967379],\n",
              "        [0.61129534, 0.07645042, 0.55812223, 0.89201407],\n",
              "        [0.87764232, 0.52427639, 0.43071176, 0.41253012],\n",
              "        [0.14587877, 0.06591471, 0.4782607 , 0.42583511]],\n",
              "\n",
              "       [[0.74763657, 0.29592202, 0.37700777, 0.87870757],\n",
              "        [0.67330438, 0.26935893, 0.24903823, 0.62270118],\n",
              "        [0.90529038, 0.1896575 , 0.02870178, 0.88162818],\n",
              "        [0.48800118, 0.08495574, 0.39755896, 0.61460392]],\n",
              "\n",
              "       [[0.3016756 , 0.26092806, 0.74141057, 0.77649722],\n",
              "        [0.91055166, 0.95058419, 0.31756351, 0.39844846],\n",
              "        [0.78686029, 0.27838956, 0.11854981, 0.9780671 ],\n",
              "        [0.71408402, 0.54559107, 0.10899802, 0.56187053]],\n",
              "\n",
              "       [[0.86993362, 0.66515571, 0.86171096, 0.53006327],\n",
              "        [0.83423967, 0.15711846, 0.67995381, 0.90642547],\n",
              "        [0.11857309, 0.90871077, 0.82481389, 0.85728938],\n",
              "        [0.77587309, 0.99521107, 0.18048223, 0.92885045]]])"
            ]
          },
          "metadata": {},
          "execution_count": 31
        }
      ]
    },
    {
      "cell_type": "markdown",
      "source": [
        "Indicar valor minimo y maximo del array anterior y su posicion\n"
      ],
      "metadata": {
        "id": "UEcwthH7HoRK"
      }
    },
    {
      "cell_type": "code",
      "source": [
        "array.min()"
      ],
      "metadata": {
        "colab": {
          "base_uri": "https://localhost:8080/"
        },
        "id": "Hbehb6t3m4c4",
        "outputId": "d934252f-5ece-4301-d440-c2aa0e06af6e"
      },
      "execution_count": 32,
      "outputs": [
        {
          "output_type": "execute_result",
          "data": {
            "text/plain": [
              "0.028701776122205258"
            ]
          },
          "metadata": {},
          "execution_count": 32
        }
      ]
    },
    {
      "cell_type": "code",
      "source": [
        "array.max()"
      ],
      "metadata": {
        "id": "KCEbh4srHcJT",
        "colab": {
          "base_uri": "https://localhost:8080/"
        },
        "outputId": "cb0e89c8-4af7-4fa3-88f3-29f22f79c1da"
      },
      "execution_count": 33,
      "outputs": [
        {
          "output_type": "execute_result",
          "data": {
            "text/plain": [
              "0.995211069599962"
            ]
          },
          "metadata": {},
          "execution_count": 33
        }
      ]
    },
    {
      "cell_type": "markdown",
      "source": [
        "Crear 2 arrays al azar y verificar si son iguales"
      ],
      "metadata": {
        "id": "ZD1Cn2ltH8SI"
      }
    },
    {
      "cell_type": "code",
      "source": [
        "array1=np.random.random((3,3))\n",
        "array1"
      ],
      "metadata": {
        "id": "vTvPI3nCHwMb",
        "colab": {
          "base_uri": "https://localhost:8080/"
        },
        "outputId": "a4d7499c-d753-40cb-b7f8-451b6564b29a"
      },
      "execution_count": 35,
      "outputs": [
        {
          "output_type": "execute_result",
          "data": {
            "text/plain": [
              "array([[0.55507885, 0.57123576, 0.84159246],\n",
              "       [0.73068856, 0.45130158, 0.24341024],\n",
              "       [0.53624963, 0.76860215, 0.2314813 ]])"
            ]
          },
          "metadata": {},
          "execution_count": 35
        }
      ]
    },
    {
      "cell_type": "code",
      "source": [
        "array2=np.random.random((3,3))\n",
        "array2"
      ],
      "metadata": {
        "id": "UIDugy_eIH_p",
        "colab": {
          "base_uri": "https://localhost:8080/"
        },
        "outputId": "a4abedd8-df2d-4d5e-92cf-9a92785b4444"
      },
      "execution_count": 36,
      "outputs": [
        {
          "output_type": "execute_result",
          "data": {
            "text/plain": [
              "array([[0.23022764, 0.62601242, 0.80904067],\n",
              "       [0.41977577, 0.57116856, 0.48580915],\n",
              "       [0.33270219, 0.28721655, 0.34039366]])"
            ]
          },
          "metadata": {},
          "execution_count": 36
        }
      ]
    },
    {
      "cell_type": "code",
      "source": [
        "array1 == array2"
      ],
      "metadata": {
        "id": "EPMQqOhFINFM",
        "colab": {
          "base_uri": "https://localhost:8080/"
        },
        "outputId": "380b97da-653a-4131-c225-1c1664ba1d5e"
      },
      "execution_count": 38,
      "outputs": [
        {
          "output_type": "execute_result",
          "data": {
            "text/plain": [
              "array([[False, False, False],\n",
              "       [False, False, False],\n",
              "       [False, False, False]])"
            ]
          },
          "metadata": {},
          "execution_count": 38
        }
      ]
    },
    {
      "cell_type": "code",
      "source": [
        "np.array_equal(array1,array2)"
      ],
      "metadata": {
        "colab": {
          "base_uri": "https://localhost:8080/"
        },
        "id": "K8-TXxognkeJ",
        "outputId": "46b3bb30-0328-4006-f39b-05aed65e75e9"
      },
      "execution_count": 39,
      "outputs": [
        {
          "output_type": "execute_result",
          "data": {
            "text/plain": [
              "False"
            ]
          },
          "metadata": {},
          "execution_count": 39
        }
      ]
    },
    {
      "cell_type": "markdown",
      "source": [
        "De uno de los arrays anteriores obten la media y muestra los valores que estan por encima de la media"
      ],
      "metadata": {
        "id": "_UV8KBYFJJk7"
      }
    },
    {
      "cell_type": "code",
      "source": [
        "media = array1.mean()\n",
        "media"
      ],
      "metadata": {
        "id": "aGVuiESFIXRt",
        "colab": {
          "base_uri": "https://localhost:8080/"
        },
        "outputId": "2447a350-6a9e-4881-ebcf-7525d3012aa7"
      },
      "execution_count": 41,
      "outputs": [
        {
          "output_type": "execute_result",
          "data": {
            "text/plain": [
              "0.5477378362097196"
            ]
          },
          "metadata": {},
          "execution_count": 41
        }
      ]
    },
    {
      "cell_type": "code",
      "source": [
        "array1[array1 > media]\n"
      ],
      "metadata": {
        "id": "hWdJj4MsJZxi",
        "colab": {
          "base_uri": "https://localhost:8080/"
        },
        "outputId": "849e2650-2f3e-48c8-e641-abdd2086f1ab"
      },
      "execution_count": 42,
      "outputs": [
        {
          "output_type": "execute_result",
          "data": {
            "text/plain": [
              "array([0.55507885, 0.57123576, 0.84159246, 0.73068856, 0.76860215])"
            ]
          },
          "metadata": {},
          "execution_count": 42
        }
      ]
    }
  ]
}