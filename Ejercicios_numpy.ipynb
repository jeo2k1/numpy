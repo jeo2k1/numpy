{
  "nbformat": 4,
  "nbformat_minor": 0,
  "metadata": {
    "colab": {
      "provenance": [],
      "authorship_tag": "ABX9TyMxOc4FUD5zba2JQAdOPzyI",
      "include_colab_link": true
    },
    "kernelspec": {
      "name": "python3",
      "display_name": "Python 3"
    },
    "language_info": {
      "name": "python"
    }
  },
  "cells": [
    {
      "cell_type": "markdown",
      "metadata": {
        "id": "view-in-github",
        "colab_type": "text"
      },
      "source": [
        "<a href=\"https://colab.research.google.com/github/jeo2k1/numpy/blob/main/Ejercicios_numpy.ipynb\" target=\"_parent\"><img src=\"https://colab.research.google.com/assets/colab-badge.svg\" alt=\"Open In Colab\"/></a>"
      ]
    },
    {
      "cell_type": "markdown",
      "source": [
        "#Ejercicio1\n",
        "Construir un array de 4 filas, segun se indica:\n",
        "La primera fila estara formada por los numeros 6,7,9,15,22,34,\n",
        "los elementos de la segunda fila equivalen a la fila anterior multiplicada por 2\n",
        "la tercera fila equivalen a la fila anterior menos 5\n",
        "la cuarta al cuadrado de la tercera fila."
      ],
      "metadata": {
        "id": "2Q-LcRan2C7A"
      }
    },
    {
      "cell_type": "code",
      "execution_count": 2,
      "metadata": {
        "id": "qEGJd_gJ16rE"
      },
      "outputs": [],
      "source": [
        "import numpy as np"
      ]
    },
    {
      "cell_type": "code",
      "source": [
        "fila1=[6,7,9,15,22,34]\n",
        "fila1"
      ],
      "metadata": {
        "colab": {
          "base_uri": "https://localhost:8080/"
        },
        "id": "wIKbgIam2CAH",
        "outputId": "4cb5eb11-a069-4d45-88e6-6a2d8de4e34a"
      },
      "execution_count": 9,
      "outputs": [
        {
          "output_type": "execute_result",
          "data": {
            "text/plain": [
              "[6, 7, 9, 15, 22, 34]"
            ]
          },
          "metadata": {},
          "execution_count": 9
        }
      ]
    },
    {
      "cell_type": "code",
      "source": [
        "fila2 =[2*x for x in fila1]\n",
        "fila2"
      ],
      "metadata": {
        "colab": {
          "base_uri": "https://localhost:8080/"
        },
        "id": "Ovy8Ush032co",
        "outputId": "7f5c97a2-751d-439b-a661-04c2b1acb620"
      },
      "execution_count": 8,
      "outputs": [
        {
          "output_type": "execute_result",
          "data": {
            "text/plain": [
              "[12, 14, 18, 30, 44, 68]"
            ]
          },
          "metadata": {},
          "execution_count": 8
        }
      ]
    },
    {
      "cell_type": "code",
      "source": [
        "fila3 = [x-5 for x in fila2]\n",
        "fila3"
      ],
      "metadata": {
        "colab": {
          "base_uri": "https://localhost:8080/"
        },
        "id": "C_hzmMOH3_Dg",
        "outputId": "2f6e271a-d5cf-4c6e-ac98-372512dc39fc"
      },
      "execution_count": 11,
      "outputs": [
        {
          "output_type": "execute_result",
          "data": {
            "text/plain": [
              "[7, 9, 13, 25, 39, 63]"
            ]
          },
          "metadata": {},
          "execution_count": 11
        }
      ]
    },
    {
      "cell_type": "code",
      "source": [
        "fila4 = [x**2 for x in fila3]\n",
        "fila4"
      ],
      "metadata": {
        "colab": {
          "base_uri": "https://localhost:8080/"
        },
        "id": "yh2SJeqx4kAg",
        "outputId": "4a2bca7d-0988-4f4e-ac82-aea53c256bad"
      },
      "execution_count": 12,
      "outputs": [
        {
          "output_type": "execute_result",
          "data": {
            "text/plain": [
              "[49, 81, 169, 625, 1521, 3969]"
            ]
          },
          "metadata": {},
          "execution_count": 12
        }
      ]
    },
    {
      "cell_type": "code",
      "source": [
        "array = np.array([fila1, fila2, fila3, fila4])\n",
        "array"
      ],
      "metadata": {
        "colab": {
          "base_uri": "https://localhost:8080/"
        },
        "id": "WpsyKx1J4yWy",
        "outputId": "87f4bac8-6d77-48e9-a849-a9b79a178e06"
      },
      "execution_count": 16,
      "outputs": [
        {
          "output_type": "execute_result",
          "data": {
            "text/plain": [
              "array([[   6,    7,    9,   15,   22,   34],\n",
              "       [  12,   14,   18,   30,   44,   68],\n",
              "       [   7,    9,   13,   25,   39,   63],\n",
              "       [  49,   81,  169,  625, 1521, 3969]])"
            ]
          },
          "metadata": {},
          "execution_count": 16
        }
      ]
    },
    {
      "cell_type": "code",
      "source": [
        "es_par = array[array % 2 == 0]\n",
        "es_par"
      ],
      "metadata": {
        "colab": {
          "base_uri": "https://localhost:8080/"
        },
        "id": "fZoAUtmn5DUD",
        "outputId": "6c38e74f-bdb6-49c0-eca7-15c723825c54"
      },
      "execution_count": 17,
      "outputs": [
        {
          "output_type": "execute_result",
          "data": {
            "text/plain": [
              "array([ 6, 22, 34, 12, 14, 18, 30, 44, 68])"
            ]
          },
          "metadata": {},
          "execution_count": 17
        }
      ]
    },
    {
      "cell_type": "markdown",
      "source": [
        "#Ejercicio 2\n",
        " Resolver el siguiente sistema de ecuaciones, usando numpy\n",
        "\n",
        "    x + 3y = 9\n",
        "\n",
        "    6x + 3y = 5"
      ],
      "metadata": {
        "id": "QE5b9ky37fYN"
      }
    },
    {
      "cell_type": "code",
      "source": [
        "ecuaciones = np.array([[1,3],[6,3]])\n",
        "ecuaciones"
      ],
      "metadata": {
        "colab": {
          "base_uri": "https://localhost:8080/"
        },
        "id": "p260ZE1p5i3n",
        "outputId": "8cb032dd-1369-4c7e-eaca-8f48e0c7630e"
      },
      "execution_count": 27,
      "outputs": [
        {
          "output_type": "execute_result",
          "data": {
            "text/plain": [
              "array([[1, 3],\n",
              "       [6, 3]])"
            ]
          },
          "metadata": {},
          "execution_count": 27
        }
      ]
    },
    {
      "cell_type": "code",
      "source": [
        "resultados = np.array([9,5])\n",
        "resultados"
      ],
      "metadata": {
        "colab": {
          "base_uri": "https://localhost:8080/"
        },
        "id": "NdoHAeE28pFJ",
        "outputId": "98fc687e-3235-4309-834e-cbc632a8cc2b"
      },
      "execution_count": 28,
      "outputs": [
        {
          "output_type": "execute_result",
          "data": {
            "text/plain": [
              "array([9, 5])"
            ]
          },
          "metadata": {},
          "execution_count": 28
        }
      ]
    },
    {
      "cell_type": "code",
      "source": [
        "np.linalg.solve(ecuaciones,resultados)"
      ],
      "metadata": {
        "colab": {
          "base_uri": "https://localhost:8080/"
        },
        "id": "m1x28I5L9NYT",
        "outputId": "bdf9e39c-30e1-436e-a785-b1b0c645a46a"
      },
      "execution_count": 29,
      "outputs": [
        {
          "output_type": "execute_result",
          "data": {
            "text/plain": [
              "array([-0.8       ,  3.26666667])"
            ]
          },
          "metadata": {},
          "execution_count": 29
        }
      ]
    },
    {
      "cell_type": "code",
      "source": [],
      "metadata": {
        "id": "MmvvYkmN9qUd"
      },
      "execution_count": null,
      "outputs": []
    }
  ]
}